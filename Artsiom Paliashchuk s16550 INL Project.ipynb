{
  "nbformat": 4,
  "nbformat_minor": 0,
  "metadata": {
    "colab": {
      "name": "Project.ipynb",
      "provenance": [],
      "collapsed_sections": []
    },
    "kernelspec": {
      "name": "python3",
      "display_name": "Python 3"
    },
    "language_info": {
      "name": "python"
    }
  },
  "cells": [
    {
      "cell_type": "code",
      "metadata": {
        "id": "x5cQdAx3GdPp"
      },
      "source": [
        "!rm -rf \"/content/TaskA\"\n",
        "!rm -rf \"/content/TaskB\"\n",
        "import matplotlib.pyplot as plt\n",
        "from pathlib import Path\n",
        "import os\n",
        "import re\n",
        "import shutil\n",
        "import string\n",
        "import tensorflow as tf\n",
        "import sklearn\n",
        "import numpy as np\n",
        "import pandas as pd\n",
        "import csv\n",
        "import string\n",
        "\n",
        "\n",
        "from tensorflow.keras import layers\n",
        "from tensorflow.keras import losses\n",
        "from tensorflow.keras import preprocessing\n",
        "from tensorflow.keras.layers.experimental.preprocessing import TextVectorization\n",
        "from sklearn import model_selection\n",
        "from sklearn import preprocessing\n",
        "from tensorflow.python.keras.preprocessing import dataset_utils\n",
        "import tensorflow_datasets as tfds\n",
        "from sklearn.model_selection import train_test_split"
      ],
      "execution_count": 1,
      "outputs": []
    },
    {
      "cell_type": "code",
      "metadata": {
        "id": "r5LurnUMqVpk"
      },
      "source": [
        "Path(\"/content/TaskA\").mkdir(parents=True, exist_ok=True)\n",
        "Path(\"/content/TaskB\").mkdir(parents=True, exist_ok=True)\n",
        "Path(\"/content/Data\").mkdir(parents=True, exist_ok=True)\n"
      ],
      "execution_count": 2,
      "outputs": []
    },
    {
      "cell_type": "code",
      "metadata": {
        "id": "3EZIuOqONI2V"
      },
      "source": [
        "\n",
        "\n",
        "\n",
        "\n",
        "\n",
        "\n",
        "\n",
        "\n",
        "\n",
        "\n",
        "\n",
        "\n",
        "\n",
        "\n",
        "\n",
        "\n"
      ],
      "execution_count": 2,
      "outputs": []
    },
    {
      "cell_type": "code",
      "metadata": {
        "id": "pZW7fM1iWs6t"
      },
      "source": [
        ""
      ],
      "execution_count": 2,
      "outputs": []
    },
    {
      "cell_type": "code",
      "metadata": {
        "id": "HmUsKbuHH7OH"
      },
      "source": [
        "#Upload the data into Data folder!!!!!\n",
        "dataset=open(\"/content/Data/olid-training-v1.0.tsv\").readlines()\n",
        "testsetA=open(\"/content/Data/testset-levela.tsv\").readlines()\n",
        "testsetB=open(\"/content/Data/testset-levelb.tsv\").readlines()\n",
        "\n",
        "def make_directories_to_fit(path,first_label,second_label):\n",
        "  paths=[]\n",
        "  tr_path=path+\"/Train/\"\n",
        "  te_path=path+\"/Test/\"\n",
        "  tr_path_off=tr_path+first_label+\"/\"\n",
        "  tr_path_not=tr_path+second_label+\"/\"\n",
        "  te_path_off=te_path+first_label+\"/\"\n",
        "  te_path_not=te_path+second_label+\"/\"\n",
        "  paths.append(tr_path)\n",
        "  paths.append(te_path)\n",
        "  paths.append(tr_path_off)\n",
        "  paths.append(tr_path_not)\n",
        "  paths.append(te_path_off)\n",
        "  paths.append(te_path_not)\n",
        "  for element in paths:\n",
        "    Path(element).mkdir(parents=True, exist_ok=True)\n",
        "make_directories_to_fit(\"/content/TaskA\",\"off\",\"not\")\n",
        "make_directories_to_fit(\"/content/TaskB\",\"tin\",\"unt\")"
      ],
      "execution_count": 3,
      "outputs": []
    },
    {
      "cell_type": "code",
      "metadata": {
        "id": "VGSQK3Fr1WdM"
      },
      "source": [
        "\n",
        "#Don't forget to create  txt files!!!!!!!!!!!!!!!!!!!!!!!!!!!!!!!!!!!!!11\n",
        "#open(\"/content/traindata/Test/not/not.txt\",'x')\n",
        "#open(\"/content/traindata/Test/off/off.txt\",'x')\n",
        "#notText=open(\"/content/traindata/Test/not/not.txt\",'w')\n",
        "#offText=open(\"/content/traindata/Test/off/off.txt\",'w')\n",
        "filter='!\"$%&()*+,-./:;<=>?[\\]^_`{|}~\\t\\n' \n",
        "\n",
        "\n",
        "def create_train_texts(train_path,first_label,second_label,label_index,symbol_filter,dataset):  \n",
        "  for line in dataset:\n",
        "    tokenized_line=tf.keras.preprocessing.text.text_to_word_sequence(line,filters=symbol_filter)\n",
        "    length=len(tokenized_line)-4\n",
        "    string=\"\"\n",
        "  \n",
        "    if tokenized_line[length+label_index]==first_label:\n",
        "      newFile=open(train_path+\"/\"+first_label+\"/{0}.txt\".format(tokenized_line[0]),'w')\n",
        "      for i in range (1,length+1):\n",
        "        string+=tokenized_line[i] +\" \"\n",
        "      newFile.write(string)\n",
        "      newFile.write(\"\\n\")\n",
        "      newFile.close()\n",
        "    elif tokenized_line[length+label_index]==second_label:\n",
        "      newFile=open(train_path+\"/\"+second_label+\"/{0}.txt\".format(tokenized_line[0]),'w')\n",
        "      for i in range (1,length+1):\n",
        "        string+=tokenized_line[i] +\" \"\n",
        "      newFile.write(string)\n",
        "      newFile.write(\"\\n\")\n",
        "      newFile.close()\n",
        "   \n",
        "create_train_texts(\"/content/TaskA/Train\",\"off\",\"not\",1,filter,dataset)\n",
        "create_train_texts(\"/content/TaskB/Train\",\"tin\",\"unt\",2,filter,dataset)"
      ],
      "execution_count": 4,
      "outputs": []
    },
    {
      "cell_type": "code",
      "metadata": {
        "colab": {
          "base_uri": "https://localhost:8080/"
        },
        "id": "2AmVQw3KfQl0",
        "outputId": "ac871775-ba69-464d-ae20-14c2252211c7"
      },
      "source": [
        "\n",
        "def create_test_dictionary(path_to_csv):\n",
        "  labelA=open(path_to_csv).readlines()\n",
        "  header=open(path_to_csv).readline().split(',')\n",
        "  dictionary_id_category={}\n",
        "  for strings in labelA:\n",
        "    splitted=strings.split(',')\n",
        "    dictionary_id_category[splitted[0]]=splitted[1][:-1].lower()\n",
        "  dictionary_id_category[header[0]]=header[1][:-1].lower()\n",
        "  print(dictionary_id_category.items())\n",
        "  return dictionary_id_category\n",
        "dictionaryA=create_test_dictionary(\"/content/Data/labels-levela.csv\")\n",
        "dictionaryB=create_test_dictionary(\"/content/Data/labels-levelb.csv\")\n"
      ],
      "execution_count": 5,
      "outputs": [
        {
          "output_type": "stream",
          "text": [
            "dict_items([('15923', 'off'), ('27014', 'not'), ('30530', 'not'), ('13876', 'not'), ('60133', 'off'), ('83681', 'off'), ('96874', 'not'), ('65507', 'off'), ('78910', 'not'), ('46363', 'not'), ('68123', 'not'), ('22452', 'not'), ('15565', 'not'), ('64376', 'not'), ('12588', 'off'), ('34263', 'off'), ('65773', 'not'), ('95457', 'not'), ('24930', 'not'), ('15938', 'not'), ('45712', 'not'), ('70840', 'not'), ('53563', 'not'), ('59432', 'not'), ('21454', 'not'), ('83155', 'not'), ('69576', 'not'), ('49139', 'off'), ('76669', 'not'), ('58995', 'off'), ('88490', 'off'), ('77101', 'not'), ('86917', 'not'), ('78472', 'not'), ('17798', 'not'), ('71873', 'not'), ('30247', 'not'), ('81150', 'not'), ('46444', 'off'), ('60587', 'off'), ('70569', 'off'), ('59200', 'not'), ('30900', 'not'), ('44546', 'off'), ('53982', 'not'), ('37884', 'not'), ('15079', 'not'), ('51628', 'off'), ('30899', 'off'), ('99680', 'not'), ('38628', 'not'), ('40110', 'off'), ('50310', 'not'), ('84101', 'not'), ('84876', 'not'), ('57425', 'not'), ('83262', 'not'), ('46777', 'not'), ('54053', 'not'), ('15998', 'off'), ('62945', 'not'), ('96457', 'off'), ('85977', 'not'), ('70841', 'off'), ('46139', 'off'), ('99009', 'not'), ('66388', 'not'), ('91217', 'not'), ('91994', 'not'), ('58751', 'not'), ('80947', 'off'), ('99253', 'not'), ('40386', 'off'), ('58742', 'not'), ('39752', 'not'), ('25262', 'not'), ('17703', 'not'), ('98916', 'off'), ('18709', 'not'), ('26026', 'not'), ('32190', 'off'), ('27550', 'off'), ('68539', 'not'), ('93643', 'not'), ('99120', 'not'), ('24040', 'off'), ('85436', 'not'), ('73516', 'off'), ('88905', 'off'), ('52955', 'not'), ('33452', 'not'), ('13276', 'not'), ('26462', 'not'), ('94339', 'not'), ('23786', 'not'), ('27371', 'not'), ('88670', 'not'), ('54391', 'not'), ('42112', 'off'), ('37740', 'off'), ('72405', 'off'), ('20780', 'not'), ('38820', 'not'), ('82913', 'not'), ('97383', 'not'), ('21397', 'not'), ('51738', 'not'), ('47445', 'off'), ('27158', 'off'), ('26382', 'not'), ('17183', 'off'), ('10595', 'not'), ('49481', 'not'), ('37949', 'not'), ('96729', 'not'), ('42325', 'off'), ('21748', 'not'), ('24316', 'not'), ('19516', 'not'), ('79383', 'not'), ('64857', 'not'), ('89936', 'not'), ('90362', 'not'), ('75620', 'not'), ('24907', 'not'), ('26259', 'not'), ('76095', 'not'), ('11557', 'not'), ('51963', 'not'), ('15180', 'off'), ('58026', 'off'), ('26432', 'not'), ('76565', 'not'), ('91588', 'not'), ('58033', 'not'), ('81352', 'off'), ('33133', 'off'), ('96661', 'not'), ('91036', 'off'), ('56581', 'not'), ('22882', 'off'), ('66377', 'not'), ('40842', 'off'), ('73612', 'off'), ('45709', 'not'), ('21338', 'not'), ('15630', 'not'), ('15815', 'off'), ('53858', 'not'), ('89606', 'not'), ('30942', 'not'), ('56973', 'not'), ('24049', 'off'), ('79204', 'off'), ('46229', 'off'), ('93101', 'not'), ('42196', 'off'), ('38084', 'not'), ('67973', 'not'), ('72071', 'not'), ('34669', 'off'), ('66054', 'not'), ('15607', 'not'), ('13959', 'not'), ('34575', 'off'), ('27546', 'not'), ('69203', 'not'), ('86385', 'not'), ('20357', 'off'), ('83011', 'not'), ('80059', 'not'), ('52104', 'not'), ('29531', 'not'), ('52445', 'off'), ('12746', 'not'), ('10991', 'off'), ('63725', 'not'), ('57135', 'off'), ('11284', 'not'), ('57107', 'not'), ('72369', 'off'), ('84879', 'not'), ('42192', 'off'), ('20034', 'not'), ('39516', 'not'), ('43587', 'off'), ('10684', 'off'), ('76394', 'not'), ('76692', 'not'), ('41553', 'off'), ('48839', 'not'), ('38718', 'not'), ('56048', 'not'), ('18997', 'not'), ('36720', 'not'), ('51656', 'not'), ('62986', 'off'), ('24430', 'not'), ('19563', 'not'), ('19836', 'not'), ('31033', 'not'), ('70051', 'off'), ('73642', 'off'), ('10727', 'off'), ('73442', 'not'), ('59758', 'not'), ('11781', 'not'), ('11645', 'off'), ('91116', 'not'), ('86437', 'not'), ('86268', 'not'), ('21643', 'not'), ('72274', 'off'), ('95198', 'not'), ('31550', 'not'), ('21524', 'off'), ('84579', 'off'), ('26291', 'not'), ('72424', 'not'), ('28744', 'not'), ('59961', 'not'), ('59519', 'off'), ('51386', 'off'), ('76052', 'not'), ('14837', 'not'), ('57295', 'not'), ('74610', 'not'), ('55653', 'not'), ('10918', 'off'), ('57541', 'off'), ('55318', 'not'), ('80965', 'not'), ('14051', 'not'), ('25125', 'off'), ('81974', 'not'), ('76797', 'not'), ('57494', 'not'), ('49441', 'not'), ('78266', 'not'), ('31401', 'not'), ('80020', 'not'), ('61295', 'off'), ('45518', 'not'), ('53351', 'off'), ('51610', 'not'), ('26758', 'not'), ('30718', 'not'), ('25463', 'off'), ('82558', 'not'), ('85613', 'off'), ('36875', 'not'), ('86142', 'not'), ('87711', 'not'), ('51626', 'not'), ('59423', 'not'), ('80555', 'not'), ('85830', 'not'), ('29102', 'not'), ('85886', 'off'), ('54621', 'off'), ('80397', 'off'), ('76937', 'not'), ('68875', 'off'), ('89591', 'not'), ('67926', 'off'), ('41588', 'off'), ('18091', 'not'), ('56205', 'not'), ('24467', 'not'), ('47245', 'not'), ('32851', 'not'), ('86982', 'not'), ('95247', 'not'), ('74211', 'not'), ('51948', 'off'), ('28196', 'off'), ('71881', 'not'), ('50376', 'off'), ('64161', 'not'), ('45304', 'off'), ('22248', 'not'), ('27228', 'off'), ('57326', 'off'), ('97729', 'not'), ('24957', 'not'), ('68774', 'not'), ('43350', 'not'), ('41709', 'not'), ('71063', 'not'), ('92516', 'not'), ('85100', 'not'), ('89661', 'not'), ('47898', 'not'), ('88523', 'not'), ('19321', 'not'), ('26042', 'not'), ('16694', 'not'), ('88221', 'off'), ('30357', 'not'), ('11021', 'not'), ('26763', 'not'), ('59708', 'not'), ('78244', 'not'), ('11813', 'not'), ('16468', 'not'), ('75637', 'not'), ('71071', 'not'), ('17714', 'off'), ('97610', 'off'), ('63048', 'off'), ('30075', 'off'), ('74237', 'not'), ('60466', 'off'), ('25685', 'off'), ('16333', 'off'), ('78417', 'off'), ('78760', 'not'), ('78261', 'not'), ('40790', 'not'), ('63775', 'not'), ('44108', 'not'), ('98949', 'not'), ('74414', 'not'), ('51525', 'off'), ('84550', 'off'), ('19499', 'not'), ('23530', 'off'), ('84034', 'not'), ('79051', 'not'), ('93740', 'not'), ('54366', 'not'), ('57284', 'off'), ('82565', 'not'), ('59700', 'off'), ('13433', 'off'), ('80197', 'off'), ('90353', 'not'), ('36496', 'not'), ('93321', 'not'), ('79309', 'off'), ('80637', 'not'), ('50793', 'not'), ('84239', 'not'), ('47834', 'not'), ('65426', 'not'), ('81354', 'not'), ('14479', 'not'), ('47696', 'off'), ('75438', 'not'), ('11699', 'not'), ('62379', 'not'), ('71294', 'off'), ('55633', 'off'), ('43864', 'not'), ('40013', 'not'), ('30399', 'not'), ('47886', 'not'), ('87934', 'off'), ('46232', 'not'), ('21869', 'not'), ('35976', 'not'), ('59337', 'not'), ('57732', 'off'), ('17563', 'not'), ('55899', 'not'), ('47396', 'not'), ('46717', 'not'), ('78260', 'not'), ('22695', 'not'), ('27455', 'off'), ('83466', 'off'), ('48657', 'off'), ('89635', 'off'), ('52335', 'not'), ('27360', 'not'), ('53971', 'not'), ('89603', 'off'), ('86611', 'off'), ('44222', 'not'), ('41078', 'not'), ('44625', 'not'), ('21197', 'not'), ('12193', 'off'), ('73484', 'not'), ('96283', 'not'), ('78289', 'not'), ('29485', 'not'), ('67024', 'not'), ('97430', 'not'), ('63985', 'off'), ('65505', 'not'), ('29697', 'not'), ('26695', 'not'), ('86529', 'not'), ('37332', 'not'), ('80612', 'not'), ('89438', 'not'), ('68755', 'not'), ('53675', 'not'), ('31195', 'not'), ('20522', 'off'), ('52866', 'not'), ('65428', 'not'), ('94260', 'off'), ('93256', 'not'), ('78364', 'not'), ('70324', 'off'), ('96847', 'not'), ('89329', 'off'), ('40929', 'not'), ('24798', 'not'), ('99947', 'not'), ('94203', 'not'), ('11100', 'off'), ('83240', 'off'), ('14591', 'not'), ('66094', 'not'), ('59164', 'not'), ('90036', 'not'), ('24047', 'not'), ('81890', 'off'), ('26010', 'not'), ('72037', 'off'), ('56312', 'not'), ('10860', 'not'), ('38829', 'not'), ('78301', 'off'), ('56599', 'not'), ('94607', 'off'), ('72531', 'off'), ('37214', 'not'), ('84952', 'not'), ('98575', 'off'), ('58342', 'off'), ('53914', 'not'), ('76324', 'not'), ('18730', 'not'), ('39429', 'off'), ('72893', 'not'), ('18786', 'off'), ('61004', 'not'), ('46603', 'not'), ('73236', 'not'), ('35785', 'off'), ('84045', 'not'), ('67049', 'off'), ('57804', 'not'), ('82273', 'off'), ('68340', 'not'), ('78646', 'not'), ('13582', 'not'), ('36455', 'not'), ('98994', 'not'), ('92967', 'not'), ('70762', 'not'), ('98216', 'off'), ('42113', 'not'), ('61889', 'not'), ('30365', 'not'), ('68518', 'not'), ('37649', 'off'), ('21394', 'not'), ('14582', 'off'), ('88487', 'not'), ('21714', 'not'), ('50821', 'not'), ('57793', 'not'), ('55400', 'not'), ('59751', 'off'), ('66470', 'not'), ('92215', 'off'), ('11122', 'not'), ('87139', 'not'), ('17311', 'not'), ('89392', 'not'), ('22311', 'off'), ('88188', 'not'), ('35503', 'not'), ('75125', 'off'), ('49210', 'not'), ('21354', 'off'), ('48965', 'not'), ('88939', 'not'), ('22594', 'off'), ('45855', 'not'), ('59159', 'not'), ('77395', 'not'), ('90492', 'not'), ('19410', 'off'), ('67211', 'not'), ('35940', 'not'), ('33394', 'off'), ('96543', 'not'), ('45271', 'not'), ('56513', 'off'), ('59691', 'off'), ('34864', 'not'), ('97956', 'not'), ('49164', 'not'), ('14273', 'not'), ('38323', 'not'), ('84848', 'not'), ('41997', 'off'), ('56637', 'off'), ('65514', 'not'), ('19815', 'off'), ('36737', 'not'), ('97410', 'off'), ('18782', 'not'), ('77746', 'off'), ('42925', 'not'), ('17704', 'off'), ('61674', 'off'), ('42419', 'not'), ('83463', 'not'), ('39860', 'off'), ('93586', 'not'), ('22189', 'not'), ('39918', 'not'), ('51726', 'not'), ('86382', 'not'), ('20568', 'not'), ('14923', 'not'), ('53787', 'not'), ('53660', 'not'), ('61551', 'not'), ('21826', 'off'), ('80230', 'not'), ('24974', 'not'), ('56257', 'not'), ('61311', 'not'), ('79934', 'off'), ('96418', 'not'), ('55048', 'off'), ('77625', 'not'), ('10252', 'not'), ('63128', 'not'), ('70740', 'not'), ('34034', 'not'), ('92341', 'not'), ('84419', 'not'), ('72634', 'not'), ('18825', 'not'), ('70424', 'not'), ('35265', 'not'), ('44869', 'not'), ('22047', 'not'), ('66950', 'not'), ('57443', 'not'), ('76833', 'off'), ('22502', 'not'), ('44206', 'not'), ('82044', 'not'), ('24929', 'not'), ('55832', 'off'), ('32056', 'off'), ('76339', 'not'), ('21266', 'not'), ('83591', 'not'), ('67841', 'off'), ('93576', 'not'), ('44218', 'not'), ('51732', 'not'), ('74605', 'not'), ('58487', 'not'), ('74006', 'not'), ('94427', 'off'), ('96594', 'off'), ('85447', 'not'), ('62689', 'off'), ('72609', 'not'), ('25047', 'not'), ('35968', 'off'), ('99924', 'not'), ('34665', 'not'), ('45053', 'not'), ('56232', 'not'), ('62051', 'not'), ('69036', 'not'), ('14516', 'off'), ('29514', 'not'), ('75770', 'not'), ('89749', 'not'), ('25138', 'not'), ('15866', 'off'), ('91659', 'not'), ('30657', 'not'), ('57185', 'off'), ('33172', 'not'), ('71506', 'not'), ('49079', 'not'), ('91430', 'off'), ('29203', 'off'), ('66750', 'not'), ('27913', 'off'), ('94816', 'not'), ('54004', 'not'), ('41609', 'not'), ('74157', 'not'), ('65187', 'not'), ('42656', 'not'), ('53325', 'off'), ('48503', 'not'), ('36871', 'not'), ('10417', 'not'), ('10611', 'not'), ('66771', 'not'), ('23461', 'not'), ('71455', 'not'), ('46410', 'off'), ('48142', 'not'), ('58191', 'not'), ('65968', 'not'), ('26072', 'off'), ('16856', 'off'), ('89200', 'off'), ('57869', 'not'), ('45269', 'off'), ('85583', 'not'), ('88398', 'not'), ('50667', 'not'), ('90222', 'not'), ('74235', 'not'), ('52352', 'not'), ('95106', 'not'), ('16717', 'not'), ('37049', 'not'), ('58975', 'not'), ('62938', 'not'), ('15437', 'off'), ('21198', 'not'), ('66623', 'not'), ('91472', 'off'), ('27211', 'not'), ('98531', 'off'), ('46018', 'not'), ('19152', 'not'), ('43753', 'off'), ('98685', 'off'), ('31665', 'off'), ('38732', 'off'), ('47022', 'not'), ('66074', 'not'), ('41323', 'not'), ('27613', 'not'), ('61997', 'not'), ('58690', 'not'), ('15977', 'not'), ('31957', 'not'), ('46983', 'off'), ('90529', 'not'), ('91136', 'not'), ('76332', 'not'), ('42929', 'not'), ('82896', 'not'), ('30424', 'not'), ('97795', 'not'), ('22067', 'off'), ('48738', 'not'), ('62374', 'not'), ('95156', 'not'), ('81749', 'not'), ('68363', 'not'), ('79756', 'off'), ('24097', 'not'), ('99563', 'off'), ('92047', 'not'), ('23542', 'off'), ('43453', 'not'), ('69292', 'not'), ('97930', 'not'), ('28354', 'not'), ('74959', 'not'), ('96033', 'not'), ('80440', 'not'), ('98096', 'not'), ('83416', 'off'), ('59687', 'not'), ('86570', 'not'), ('67418', 'off'), ('61929', 'not'), ('58632', 'off'), ('51621', 'not'), ('85309', 'not'), ('57330', 'not'), ('30207', 'not'), ('62237', 'not'), ('92823', 'not'), ('39788', 'not'), ('48820', 'not'), ('35612', 'off'), ('96905', 'off'), ('34122', 'not'), ('17100', 'not'), ('72538', 'not'), ('68371', 'not'), ('24638', 'not'), ('73621', 'not'), ('79778', 'off'), ('87617', 'not'), ('16323', 'not'), ('90328', 'off'), ('71350', 'off'), ('43782', 'off'), ('46378', 'not'), ('18357', 'not'), ('24000', 'not'), ('51286', 'not'), ('10412', 'not'), ('84900', 'not'), ('45147', 'not'), ('58287', 'off'), ('44599', 'not'), ('38726', 'not'), ('36393', 'not'), ('74747', 'not'), ('43173', 'not'), ('58109', 'not'), ('42091', 'not'), ('29475', 'not'), ('19296', 'not'), ('96203', 'not'), ('27467', 'not'), ('42404', 'not'), ('14972', 'not'), ('49426', 'not'), ('82638', 'not'), ('51052', 'not'), ('32059', 'not'), ('77649', 'not'), ('32061', 'off'), ('88660', 'not'), ('63129', 'off'), ('79653', 'not'), ('99016', 'not'), ('57283', 'not'), ('74797', 'off'), ('25177', 'off'), ('68831', 'not'), ('60621', 'not'), ('87428', 'off'), ('39400', 'off'), ('90355', 'not'), ('38003', 'not'), ('62788', 'off'), ('28484', 'not'), ('91471', 'not'), ('84343', 'not'), ('88745', 'off'), ('70443', 'off'), ('90402', 'not'), ('90327', 'off'), ('85687', 'not'), ('88177', 'not'), ('31022', 'not'), ('65545', 'off'), ('56129', 'not'), ('51851', 'not'), ('31997', 'not'), ('89493', 'not'), ('34903', 'not'), ('40766', 'not'), ('58543', 'off'), ('53194', 'not'), ('79222', 'off'), ('72401', 'off'), ('37002', 'not'), ('31354', 'off'), ('99347', 'not'), ('60713', 'not'), ('89054', 'not'), ('29008', 'off'), ('96333', 'not'), ('19770', 'not'), ('41590', 'off'), ('72523', 'off'), ('25783', 'not'), ('16683', 'not'), ('14640', 'off'), ('31641', 'not'), ('23762', 'not'), ('45984', 'not'), ('74909', 'off'), ('88822', 'not'), ('89432', 'not'), ('38070', 'not'), ('96397', 'off'), ('37342', 'not'), ('77917', 'not'), ('31499', 'not'), ('52547', 'not'), ('34030', 'off'), ('21054', 'not'), ('60546', 'not'), ('98396', 'not'), ('29882', 'not'), ('90581', 'not'), ('69073', 'off'), ('49338', 'not'), ('22812', 'not'), ('29113', 'off'), ('13097', 'not'), ('98816', 'not'), ('77222', 'not'), ('95258', 'not'), ('36892', 'not'), ('51589', 'not'), ('48945', 'not'), ('74448', 'not'), ('76036', 'not'), ('11286', 'off'), ('36500', 'not'), ('21677', 'not'), ('73105', 'not'), ('41821', 'off'), ('72213', 'not'), ('14258', 'not'), ('13131', 'not'), ('76379', 'off'), ('25354', 'not'), ('89417', 'not'), ('68256', 'not'), ('78984', 'not'), ('52080', 'off'), ('25127', 'not'), ('48650', 'not'), ('51762', 'off'), ('71592', 'off'), ('28558', 'not'), ('32141', 'not'), ('80406', 'not'), ('73366', 'not'), ('26454', 'not'), ('78688', 'off'), ('76135', 'off'), ('30778', 'off'), ('48418', 'not'), ('10313', 'not'), ('78950', 'not'), ('13993', 'not'), ('32492', 'not'), ('50781', 'not'), ('22569', 'off'), ('87317', 'not'), ('53862', 'not'), ('89424', 'not'), ('22470', 'not'), ('48938', 'off'), ('85360', 'not'), ('90032', 'not'), ('31182', 'not'), ('83464', 'not'), ('51218', 'not'), ('41438', 'off'), ('72867', 'not'), ('73439', 'off'), ('25657', 'not'), ('67018', 'off'), ('50665', 'not'), ('24583', 'not')])\n",
            "dict_items([('15923', 'tin'), ('60133', 'tin'), ('83681', 'tin'), ('65507', 'tin'), ('12588', 'unt'), ('34263', 'tin'), ('49139', 'tin'), ('58995', 'tin'), ('88490', 'tin'), ('46444', 'tin'), ('60587', 'tin'), ('70569', 'unt'), ('44546', 'tin'), ('51628', 'tin'), ('30899', 'unt'), ('40110', 'tin'), ('15998', 'tin'), ('96457', 'tin'), ('70841', 'tin'), ('46139', 'tin'), ('80947', 'unt'), ('40386', 'tin'), ('98916', 'tin'), ('32190', 'tin'), ('27550', 'tin'), ('24040', 'tin'), ('73516', 'tin'), ('88905', 'tin'), ('42112', 'tin'), ('37740', 'tin'), ('72405', 'tin'), ('47445', 'tin'), ('27158', 'tin'), ('17183', 'tin'), ('42325', 'tin'), ('15180', 'tin'), ('58026', 'tin'), ('81352', 'tin'), ('33133', 'tin'), ('91036', 'tin'), ('22882', 'tin'), ('40842', 'tin'), ('73612', 'tin'), ('15815', 'tin'), ('24049', 'tin'), ('79204', 'tin'), ('46229', 'tin'), ('42196', 'unt'), ('34669', 'tin'), ('34575', 'tin'), ('20357', 'tin'), ('52445', 'tin'), ('10991', 'tin'), ('57135', 'tin'), ('72369', 'tin'), ('42192', 'tin'), ('43587', 'tin'), ('10684', 'unt'), ('41553', 'tin'), ('62986', 'tin'), ('70051', 'tin'), ('73642', 'tin'), ('10727', 'unt'), ('11645', 'tin'), ('72274', 'tin'), ('21524', 'tin'), ('84579', 'tin'), ('59519', 'tin'), ('51386', 'tin'), ('10918', 'tin'), ('57541', 'tin'), ('25125', 'tin'), ('61295', 'tin'), ('53351', 'tin'), ('25463', 'tin'), ('85613', 'tin'), ('85886', 'tin'), ('54621', 'tin'), ('80397', 'tin'), ('68875', 'unt'), ('67926', 'tin'), ('41588', 'tin'), ('51948', 'tin'), ('28196', 'tin'), ('50376', 'tin'), ('45304', 'tin'), ('27228', 'tin'), ('57326', 'tin'), ('88221', 'tin'), ('17714', 'unt'), ('97610', 'tin'), ('63048', 'tin'), ('30075', 'tin'), ('60466', 'tin'), ('25685', 'tin'), ('16333', 'tin'), ('78417', 'tin'), ('51525', 'tin'), ('84550', 'tin'), ('23530', 'tin'), ('57284', 'tin'), ('59700', 'tin'), ('13433', 'tin'), ('80197', 'tin'), ('79309', 'tin'), ('47696', 'tin'), ('71294', 'unt'), ('55633', 'tin'), ('87934', 'tin'), ('57732', 'unt'), ('27455', 'tin'), ('83466', 'tin'), ('48657', 'tin'), ('89635', 'unt'), ('89603', 'unt'), ('86611', 'tin'), ('12193', 'tin'), ('63985', 'tin'), ('20522', 'tin'), ('94260', 'unt'), ('70324', 'tin'), ('89329', 'tin'), ('11100', 'tin'), ('83240', 'tin'), ('81890', 'tin'), ('72037', 'tin'), ('78301', 'unt'), ('94607', 'tin'), ('72531', 'tin'), ('98575', 'tin'), ('58342', 'tin'), ('39429', 'tin'), ('18786', 'tin'), ('35785', 'unt'), ('67049', 'tin'), ('82273', 'unt'), ('98216', 'tin'), ('37649', 'tin'), ('14582', 'unt'), ('59751', 'tin'), ('92215', 'tin'), ('22311', 'tin'), ('75125', 'tin'), ('21354', 'tin'), ('22594', 'tin'), ('19410', 'unt'), ('33394', 'tin'), ('56513', 'tin'), ('59691', 'tin'), ('41997', 'tin'), ('56637', 'tin'), ('19815', 'unt'), ('97410', 'tin'), ('77746', 'tin'), ('17704', 'tin'), ('61674', 'tin'), ('39860', 'tin'), ('21826', 'unt'), ('79934', 'tin'), ('55048', 'tin'), ('76833', 'tin'), ('55832', 'tin'), ('32056', 'tin'), ('67841', 'tin'), ('94427', 'tin'), ('96594', 'tin'), ('62689', 'tin'), ('35968', 'tin'), ('14516', 'tin'), ('15866', 'tin'), ('57185', 'tin'), ('91430', 'tin'), ('29203', 'tin'), ('27913', 'tin'), ('53325', 'unt'), ('46410', 'tin'), ('26072', 'unt'), ('16856', 'tin'), ('89200', 'tin'), ('45269', 'tin'), ('15437', 'tin'), ('91472', 'tin'), ('98531', 'tin'), ('43753', 'unt'), ('98685', 'tin'), ('31665', 'tin'), ('38732', 'tin'), ('46983', 'tin'), ('22067', 'tin'), ('79756', 'tin'), ('99563', 'tin'), ('23542', 'tin'), ('83416', 'tin'), ('67418', 'tin'), ('58632', 'tin'), ('35612', 'tin'), ('96905', 'tin'), ('79778', 'tin'), ('90328', 'tin'), ('71350', 'tin'), ('43782', 'tin'), ('58287', 'tin'), ('32061', 'tin'), ('63129', 'tin'), ('74797', 'tin'), ('25177', 'tin'), ('87428', 'tin'), ('39400', 'tin'), ('62788', 'unt'), ('88745', 'tin'), ('70443', 'tin'), ('90327', 'tin'), ('65545', 'tin'), ('58543', 'tin'), ('79222', 'tin'), ('72401', 'tin'), ('31354', 'tin'), ('29008', 'tin'), ('41590', 'tin'), ('72523', 'tin'), ('14640', 'tin'), ('74909', 'tin'), ('96397', 'tin'), ('34030', 'tin'), ('69073', 'unt'), ('29113', 'tin'), ('11286', 'tin'), ('41821', 'tin'), ('76379', 'tin'), ('52080', 'tin'), ('51762', 'tin'), ('71592', 'tin'), ('78688', 'tin'), ('76135', 'tin'), ('30778', 'tin'), ('22569', 'tin'), ('48938', 'tin'), ('41438', 'tin'), ('73439', 'tin'), ('67018', 'unt')])\n"
          ],
          "name": "stdout"
        }
      ]
    },
    {
      "cell_type": "code",
      "metadata": {
        "id": "jtRWl0MhdpMx"
      },
      "source": [
        "#Test values\n",
        "\n",
        "\n",
        "\n",
        "  \n",
        "def create_test_texts(test_path,first_label,second_label,dictionary,symbol_filter,dataset):\n",
        "  for line in dataset:\n",
        "    string=\"\"\n",
        "    tokenized_line_test=tf.keras.preprocessing.text.text_to_word_sequence(line,filters=symbol_filter)\n",
        "    if dictionary.get(tokenized_line_test[0])==first_label:\n",
        "    \n",
        "      newFile=open(test_path+\"/\"+first_label+\"/{0}.txt\".format(tokenized_line_test[0]),'w')\n",
        "      for i in range (1,len(tokenized_line_test)):\n",
        "          string+=tokenized_line_test[i] +\" \"\n",
        "      newFile.write(string)\n",
        "      newFile.write(\"\\n\")\n",
        "      newFile.close()\n",
        "    elif dictionary.get(tokenized_line_test[0])==second_label:\n",
        "      newFile=open(test_path+\"/\"+second_label+\"/{0}.txt\".format(tokenized_line_test[0]),'w')\n",
        "      for i in range (1,len(tokenized_line_test)):\n",
        "          string+=tokenized_line_test[i] +\" \"\n",
        "      newFile.write(string)\n",
        "      newFile.write(\"\\n\")\n",
        "      newFile.close()\n",
        "    elif dictionary.get(tokenized_line_test[0])==None:\n",
        "      continue\n",
        "    else:\n",
        "      print(dictionary.get(tokenized_line_test[0]))\n",
        "create_test_texts(\"/content/TaskA/Test\",\"off\",\"not\",dictionaryA,filter,testsetA)     \n",
        "create_test_texts(\"/content/TaskB/Test\",\"tin\",\"unt\",dictionaryB,filter,testsetB)"
      ],
      "execution_count": 6,
      "outputs": []
    },
    {
      "cell_type": "code",
      "metadata": {
        "colab": {
          "base_uri": "https://localhost:8080/"
        },
        "id": "LW81qk3z92qE",
        "outputId": "16bb5640-9371-4940-a849-0209dbf887f6"
      },
      "source": [
        "#notText=open(\"/content/traindata/Test/not/not.txt\").read()\n",
        "#offText=open(\"/content/traindata/Test/off/off.txt\").read()\n",
        "batch_size = 32\n",
        "seed = 228\n",
        "\n",
        "def generate_datasets(path_to_root_folder,batch_size,seed):\n",
        "  #create training\n",
        "  raw_train_ds = tf.keras.preprocessing.text_dataset_from_directory(directory=\n",
        "    path_to_root_folder+\"/Train\",labels='inferred',\n",
        "    batch_size=batch_size, \n",
        "    validation_split=0.2, \n",
        "    subset='training',seed=seed)\n",
        "  #create validation\n",
        "  raw_val_ds = tf.keras.preprocessing.text_dataset_from_directory(\n",
        "    path_to_root_folder+\"/Train\", labels='inferred',\n",
        "    batch_size=batch_size, \n",
        "    validation_split=0.2, \n",
        "    subset='validation', \n",
        "    seed=seed)  \n",
        "  #create testing\n",
        "  raw_test_ds = tf.keras.preprocessing.text_dataset_from_directory(\n",
        "    path_to_root_folder+\"/Test\", \n",
        "    batch_size=batch_size)\n",
        "  return raw_train_ds,raw_val_ds,raw_test_ds\n",
        "\n",
        "raw_train_ds,raw_val_ds,raw_test_ds=generate_datasets(\"/content/TaskA\",batch_size,seed)\n",
        "raw_train_dsB,raw_val_dsB,raw_test_dsB=generate_datasets(\"/content/TaskB\",batch_size,seed)\n",
        "\n",
        "\n",
        "\n",
        "for feat, targ in raw_train_ds.take(5):\n",
        "  print ('Features: {}, Target: {}'.format(feat, targ))\n",
        "  \n",
        "for text_batch, label_batch in raw_train_ds.take(1):\n",
        "  for i in range(3):\n",
        "    print(\"Review\", text_batch.numpy()[i])\n",
        "    print(\"Label\", label_batch.numpy()[i])\n",
        "\n",
        "\n",
        "\n",
        "print(\"Label 0 corresponds to\", raw_train_ds.class_names[0])\n",
        "print(\"Label 1 corresponds to\", raw_train_ds.class_names[1])\n",
        "\n",
        "\n",
        "for text_batch, label_batch in raw_train_dsB.take(1):\n",
        "  for i in range(3):\n",
        "    print(\"Review\", text_batch.numpy()[i])\n",
        "    print(\"Label\", label_batch.numpy()[i])\n",
        "print(\"Label 0 corresponds to\", raw_train_dsB.class_names[0])\n",
        "print(\"Label 1 corresponds to\", raw_train_dsB.class_names[1])\n"
      ],
      "execution_count": 7,
      "outputs": [
        {
          "output_type": "stream",
          "text": [
            "Found 13240 files belonging to 2 classes.\n",
            "Using 10592 files for training.\n",
            "Found 13240 files belonging to 2 classes.\n",
            "Using 2648 files for validation.\n",
            "Found 860 files belonging to 2 classes.\n",
            "Found 4400 files belonging to 2 classes.\n",
            "Using 3520 files for training.\n",
            "Found 4400 files belonging to 2 classes.\n",
            "Using 880 files for validation.\n",
            "Found 240 files belonging to 2 classes.\n",
            "Features: [b'@user @user are you bipolar you keep saying different shit to people commenting on what u said \\n'\n",
            " b'@user hope they bankrupt soon \\n'\n",
            " b'@user whenever you conservatives whine kavanaugh is being appointed fast enough all i think of is garland never getting a hearing for a year so just shhh hypocrites \\n'\n",
            " b\"@user they're becoming more and more like antifa everyday \\n\"\n",
            " b'@user and i you ya sexy lady you \\xe2\\x99\\xa1 \\n'\n",
            " b\"@user @user @user @user @user also these antifa and from hence shall be referred to as anqueefa by mesel they pretty much all live with mommy in the basement which is why they wear masks then mommy can't ground em \\n\"\n",
            " b'@user @user an excuse for conservatives to do nothing \\n'\n",
            " b'@user she is a gorgeous little mini you \\xe2\\x9d\\xa4\\xef\\xb8\\x8f\\xf0\\x9f\\x8c\\xb8 \\n'\n",
            " b'@user @user an adult in the room might get things done if that happens liberals will take credit if not doug will be blamed for sticking his noses inz \\n'\n",
            " b'@user crush #antifa that is all \\n'\n",
            " b'@user he must see a lot of himself in them \\n'\n",
            " b'@user what she really means is for the rest of america to shut up and take all the hate that white christian conservatives give out and never fight back \\n'\n",
            " b'@user @user i continue to be concerned that our country\\xe2\\x80\\x99s gun control laws are not good enough to protect our children i will only vote for the party that is willing to address this issue \\n'\n",
            " b\"@user @user @user @user @user @user @user @user @user @user @user @user @user @user @user @user thought i'd share a boob picture too url \\n\"\n",
            " b'@user @user @user @user @user @user @user @user @user @user @user @user @user @user @user @user @user @user @user @user @user @user @user @user @user @user @user @user @user @user @user @user @user @user @user @user @user @user @user @user @user @user @user @user @user @user @user @user @user @user so you admit that you are a h1ndu \\n'\n",
            " b'@user tell me did restoring your computer to an earlier date correct your problem you were having \\n'\n",
            " b'@user @user @user @user love this \\n'\n",
            " b'@user @user there you go an this is different how #maga \\n'\n",
            " b'@user twitter just banned the proud boys and alex mcginnis antifa has not been banned yet they are classified as a terrorist organization how can this be happening you need to do something about this \\n'\n",
            " b\"@user @user @user think they're trying to be funny or it's a dog whistle to prohibitionists either way it's a total fucking disgrace and belittles cannabis use wankers \\n\"\n",
            " b'this obvious hit job on kavannah is not going to work and the liberals continue to reveal themselves as demonic figures url \\n'\n",
            " b'@user amir you are doing a great job \\n'\n",
            " b'@user did he get on his knees spends a lot of time getting down high priced bj giver \\xf0\\x9f\\x98\\x8b\\xf0\\x9f\\x98\\x8a\\xf0\\x9f\\x98\\x81 \\n'\n",
            " b'1 have we thought about gun control in uganda 2 do we have records of most of the guns in the country 3 do we have laws controlling our borders 4 who is safe \\n'\n",
            " b'chances @user got @user \\xe2\\x80\\x98s mario cart penis confused with one of the few thousand she\\xe2\\x80\\x99s had since then can you remember what a specific slice of pizza \\xf0\\x9f\\x8d\\x95 you at 15 years ago looks like dems like ancient memory based accusations #confirmkavanaughnow #maga \\n'\n",
            " b'@user sorry you\\xe2\\x80\\x99re a socialist i contributed to ted cruz sick of liberals \\n'\n",
            " b'@user @user she is asking questions there are no answers for \\n'\n",
            " b'@user fbi has nothing to investigate \\n'\n",
            " b\"@user thank you for being who you are and never shying away from it for being beautiful and smart and real and black and joyful for showing that black woman can be more than the boxes the world puts them in you are a legend i can't wait to see what you do next #goat url \\n\"\n",
            " b'@user @user sending commiserations to you for those cardinal losses with this brioche cinnamon roll picture url \\n'\n",
            " b'@user @user ask @user he know the truth hahaha \\xf0\\x9f\\x98\\x8a\\xf0\\x9f\\x98\\x8a have favoritism person so unfair \\n'\n",
            " b'americans make great clients but so many appraisers carry out inspections on radical clients radical clients hate america #maga \\n'], Target: [1 1 0 0 1 0 0 0 0 0 0 0 1 0 0 0 0 0 0 1 1 0 0 0 1 1 0 0 0 1 0 0]\n",
            "Features: [b'@user @user so fn hilarious \\n'\n",
            " b\"@user @user stop trying to convince people @user is extremely unpopular unfortunately he isn't and it takes away all urgency for liberals to vote in november this #bluewave nonsense will not happen if people are comfortable it will happen whether they vote or not \\n\"\n",
            " b\"aged dine to me #maga libs still spill out with vile breaths the total vote including all the illegal sorry jack voters the repeated areas where more people voted than are registered po'd a friend with the red and blue map and dont you live in fl still how'd that work url \\n\"\n",
            " b'@user god help us the woman cant even get coherent sentence out of her mouth \\n'\n",
            " b\"@user they have to now that she is the one who hasn't left family in terrible times \\n\"\n",
            " b'@user liberals will liberal \\n'\n",
            " b'@user really not at all i do claim you are chicagojordan but i have never said you are experienced with the outdoors \\n'\n",
            " b'@user here are the people who hold you up and who you hold up 1st photo they are beating a republican korean war vet 2nd amp 3rd photo antifa is beating minorities lgbt and kids because they are conservative the left your left is all about shutting down free speech url \\n'\n",
            " b'@user more fear tactics to make people attack her it\\xe2\\x80\\x99s bullshit \\n'\n",
            " b'@user @user @user @user watch this please james amp gavin discuss antifa #resistance actually in the doj using their positions to target specific americans \\n'\n",
            " b'@user @user good god woman shut up if you liberals really believed this @user would have spoke out against this the day she received the letter \\n'\n",
            " b'@user foolish to think that \\n'\n",
            " b\"@user when will people support gun control that's more important don't you care about humans life no \\n\"\n",
            " b'@user and hillary won the 2016 election \\n'\n",
            " b'@user another country with strict gun control for some reason gun control never helps the average citizen but dictators and terrorists sure support it \\n'\n",
            " b'@user i\\xe2\\x80\\x99m weak \\xf0\\x9f\\x98\\x82\\xf0\\x9f\\x98\\x82 shit must have been really painful \\n'\n",
            " b'@user desperate @user will do whatever it takes to stay relevant even if it means jumping on the hate train #hasbeen \\n'\n",
            " b\"@user @user you don't put this much thought into antifa goons ripping downtown seattle apart every holiday \\n\"\n",
            " b\"@user it's just getting so predictable \\n\"\n",
            " b'@user seriously you are the best \\n'\n",
            " b'@user the democrat years in power we remember those women well too bad liberals are hypocrites of the worst kind \\n'\n",
            " b'@user @user @user he is our president and im@user of him \\n'\n",
            " b\"@user boner hasn't lived in real world for 40 years \\n\"\n",
            " b'@user i feel attacked \\xf0\\x9f\\x98\\x82 \\n'\n",
            " b'@user also didn\\xe2\\x80\\x99t he just flat out stop showing up to set for the freddie mercury biopic that shit should kill his career and here he is getting another gig \\n'\n",
            " b'@user yeah way to ruin the fucking hype this is why you werent invited to dennys after we finished with andreas lol \\n'\n",
            " b'@user @user @user @user @user @user @user @user @user @user @user senseless \\xf0\\x9f\\x98\\xa2 gun control now vote blue and end this american nightmare \\n'\n",
            " b'@user @user california is a state in the usa how stupid do you have to be to think there is gun control \\n'\n",
            " b'gotta love a president that actually cares about the people of this nation #maga #obamasucks url \\n'\n",
            " b\"@user lie detector test no such thing if you mean polygraph it doesn't detect lies or truths yes kavanaugh should ask for an fbi investigation into dr fords history \\n\"\n",
            " b'@user i believe soros is also the main financier or his socialist organizations are of the antifa protestors more paid actors \\xf0\\x9f\\x91\\x8e\\xf0\\x9f\\x98\\xb2 \\n'\n",
            " b'@user @user @user but but i was trying to get him to block me the trans porn story was the perfect ammunition but now it will never happen \\xf0\\x9f\\x98\\xae\\xf0\\x9f\\x98\\xa7\\xf0\\x9f\\x99\\x81\\xf0\\x9f\\x98\\x9e\\xf0\\x9f\\x98\\xa2\\xf0\\x9f\\x98\\xad url \\n'], Target: [0 0 0 1 0 0 0 0 1 0 1 0 0 0 0 1 0 1 0 0 1 0 0 0 0 1 0 0 0 0 0 0]\n",
            "Features: [b'@user @user i thought you said the nyt was \\xe2\\x80\\x9cfailing\\xe2\\x80\\x9d and \\xe2\\x80\\x9cfake news\\xe2\\x80\\x9d so this can\\xe2\\x80\\x99t be true it\\xe2\\x80\\x99s made up \\n'\n",
            " b'@user so funny how the liberals can see this in others but not in themselves \\n'\n",
            " b\"@user @user @user @user @user @user @user this is not surprising they're conservatives and they generally lack empathy for people who aren't them \\n\"\n",
            " b'@user good luck on your future endeavors you are surely going to be missed \\xf0\\x9f\\x98\\xa5 \\n'\n",
            " b'@user you are awesome \\n' b'@user good luck @user not \\n'\n",
            " b'@user @user @user which is funny because thats exactly what the problematic members of antifa an officially recognized terrorist group want \\n'\n",
            " b'@user this has gone on for too long imo trump wants him to meet with them and he had been trying to help trump reach a peace deal until this blows over and he is able to tell the world that they was lying to everyone in order to trick certain people until they could take them down \\n'\n",
            " b'@user very simple more gun control ads equals more guns sold the gun illiterates aren\\xe2\\x80\\x99t smart enough to figure this out \\n'\n",
            " b\"@user @user i love the insights into a culture and a world i knew nothing about and i'm able to relate to the characters who are unique in crime fiction \\n\"\n",
            " b'@user said on @user he doesn\\xe2\\x80\\x99t think we should be selling ar15\\xe2\\x80\\x99s but liberals deny it and say he is pro gun the ar15 is not an assault weapon it is a sporting rifle #keeptexasred vote @user \\n'\n",
            " b'@user @user he said both sides had good people on them why is it bad to say that not everyone who went there were white suprematists and not all the people there were antifa that nuance \\n'\n",
            " b'@user how about he start some get informed classes for his uninformed players \\n'\n",
            " b\"#maryland remember to vote #rednovember 6th we need to put conservatives in house and senate to #kag and end gov't corruption in washington we want to keep economy booming and keep our jobs url \\n\"\n",
            " b'@user impulsive reaction she is not looking at the gun and her head is bowed low mane a mess what happens now \\n'\n",
            " b'@user biggest corrupt lying piece of s \\xf0\\x9f\\x92\\xa9 there ever was \\n'\n",
            " b'@user actually should read as liberal mp leaves liberals for another liberal party \\n'\n",
            " b'@user @user is gross \\n'\n",
            " b'@user @user and those same politicians from both @user and @user are selling the country down the drain \\n'\n",
            " b\"@user an ugly old man trying to make himself relevant again with more lies remember him saying he had a deathbed confession from cia director casey never happened according to the bodyguards in that room shouldn't that be enough to question this morons credibility \\n\"\n",
            " b\"@user like if alt right dudes were born in berkeley they'd be antifa \\n\"\n",
            " b'@user are you an ostrich \\n'\n",
            " b'@user i would affirm her tell her she is beautiful but at the same time that beauty comes also from wthin \\n'\n",
            " b'@user @user anyone who is friends with midwest antifa is worth following \\n'\n",
            " b\"@user @user hope you're right about that last part but i've learned it's pointless to underestimate the stupidity of tx conservatives \\n\"\n",
            " b'@user @user god thing we have beto in texas he is for decriminalizing crossing the border he is for reasonable gun control for texas citizens someone could get hurt if citizens try to defend themselves poor arizona you need a beto of your own \\n'\n",
            " b'@user @user how can that be california has strict gun control laws it\\xe2\\x80\\x99s almost as if criminals don\\xe2\\x80\\x99t care about laws \\n'\n",
            " b'@user girl power \\n'\n",
            " b'@user just like a plantation white liberals have black people under their thumb and any black person that tries to get out from under their old order is considered one of them uppity negroes too smart fer his britches they get all the other good lil negroes to teach em a lesson \\n'\n",
            " b\"@user after using your product for all these years now i find out you're actively twisting the political landscape with your immense power that action has directly affected me you are attempting to damage me personally and i don't like it or else \\n\"\n",
            " b'@user the reason you haven\\xe2\\x80\\x99t heard from dr ford about whether she is available to testify on monday yet is because she is feverishly trying to find someone to corroborate her story with the help of the dnc and soros\\xe2\\x80\\x99 deep pockets \\n'\n",
            " b'@user a maga a hat would make that pic legit \\n'], Target: [1 0 0 0 0 0 0 0 1 0 0 0 0 0 0 1 0 1 1 1 1 1 0 0 1 1 0 0 1 0 0 0]\n",
            "Features: [b'@user @user then why is it always recommending he watch conservatives \\n'\n",
            " b\"@user @user @user @user @user @user i followed the details of jim jordan's accuser also the accuser even stated he knew the story might make me some money and he is a convicted scammer i loathe any man who would assault a woman i just don't believe the bk accuser \\n\"\n",
            " b'@user @user hurray all hard core liberals in the light liberal party \\n'\n",
            " b'@user @user @user we are calling you an operative or shill and more important a bigot for refusing to apologize for your actions to a woman just because she is not a scientologist you won\\xe2\\x80\\x99t even acknowledge what you did or defend or explain it despite how many times it has been asked already \\n'\n",
            " b'@user america is better than swamp crud like you \\n'\n",
            " b'@user i miss u \\n'\n",
            " b\"@user sexual assault should disqualify a nomination ask yourself this why didn't they ask him any questions about this in private or public hearing the accuser had posting on facebook about stopping conservatives and trump why do dems still trot out bill clinton \\n\"\n",
            " b'@user yess url \\n'\n",
            " b'@user @user @user dam girl you have awesome boobs i bet you are a very sexy milf \\n'\n",
            " b'@user @user i thought lisa o\\xe2\\x80\\x99neill rode him she is brilliant though \\n'\n",
            " b\"@user it's about time the #gunsense crowd started calling for police to be disarmed no more gun control exceptions for the police at least you're being more logically consistent in your quest to have criminals be the only ones with guns \\xf0\\x9f\\xa4\\xa6\\xe2\\x80\\x8d\\xe2\\x99\\x82\\xef\\xb8\\x8f\\xf0\\x9f\\x99\\x84 \\n\"\n",
            " b'#yesonkavanaugh yes because it is the right thing to do yes because conservatives are in power yes because democrats are miserable humans yes because we are sick and tired of the tantrums from the democrats yes because they freaking lost the election please add more reasons \\n'\n",
            " b\"trumpism is going so well you along with all your liberal friends felt the need to try to trash it people aren't stupid as you suppose #redwaverising #maga amp #kag2018 url \\n\"\n",
            " b\"@user @user @user @user @user this is the violent liberal antifa party now they try to convince us they they have a heart and some woman is knocking our men there's go around with kkk hoods beating up strangers amp wrecking our towns most violent corrupt party ever \\n\"\n",
            " b\"@user i am on as 849 but don't want to get anyone in trouble since this is not the first time it happens with frequency if i sat a row back it wouldn't be an issue with carryons but bulkhead is tough hard to say anything when you are on a flight together for 5 1 2 hours \\n\"\n",
            " b\"@user i do not know who these pos nazi liberals are amp don't care to know everyone of the hollywood elite can amp prob will go to he \\n\"\n",
            " b'@user rock hard man \\n'\n",
            " b'@user the best hope for gun control is banning bullet proof backpacks because why do they need it if they are not a terrorist \\n'\n",
            " b'@user i thought it would be worse i thought they would be shooting liberals in the streets by now \\n'\n",
            " b\"@user @user @user @user @user @user @user @user @user @user @user @user @user @user @user @user @user @user @user @user @user @user @user @user @user @user @user @user @user @user @user @user @user @user @user @user @user @user i'm not sure if he is really on a low carb diet most hospitals don't carry low carb muffins lol \\n\"\n",
            " b'shocking undercover video exposes communists inside government \\xe2\\x80\\x9ci break rules every day\\xe2\\x80\\x9d sara a carter url #maga #wwg1wga \\n'\n",
            " b'@user congrats naomi u deserved to win u showed true sportsmanship during serena\\xe2\\x80\\x99s meltdown i would like to apologize for her behavior what an embarrassment for the us she should have been ejected for arguing with the side chair she thinks she is superior but she\\xe2\\x80\\x99s not \\n'\n",
            " b'@user @user i can not see him posting such a video if he was done with supes he is wearing a krypton t shirt too \\n'\n",
            " b'@user who talks shit on buff chicken dip dude it\\xe2\\x80\\x99s buff chicken dip \\n'\n",
            " b\"@user @user @user but then they add in maverick who goes against every reason why they nerfed iq who has been a player most of the player base don't use however bcoz pl players who play this game religiously can use her all of a sudden she is too op for the whole community \\xf0\\x9f\\xa4\\x94\\xf0\\x9f\\xa4\\x94 \\n\"\n",
            " b'@user if gun control worked chicago would be a safe place to live \\n'\n",
            " b\"@user @user @user @user @user @user @user typical response from liberals when you're making a strong statement thats hard to argue with \\xf0\\x9f\\x93\\xa3 bot great debate angie #maga url \\n\"\n",
            " b'@user @user she\\xe2\\x80\\x99s so far up in the clouds she\\xe2\\x80\\x99s long since forgotten what common sense is let alone how the american people feel she\\xe2\\x80\\x99s just another michael bloomberg trying to push her views on everyone else and the state she represents \\n'\n",
            " b'@user she is textbook colonizer \\n'\n",
            " b\"6 so clearly team conservative is striving to uphold the notion of virtue and ideas and reasonableness while liberals are completely violating the social contract to score political points again it doesn't work if both sides aren't upholding their end of the bargain \\n\"\n",
            " b\"@user @user wow never thought i'd see the left actually admitting they want to shut down free speech unless it's their own at least they are admitting they are the facist after all they did create the 2 most facist groups antifa and kkk \\n\"\n",
            " b'@user @user #nazis we told you join #antifa \\n'], Target: [0 0 0 1 1 0 0 0 0 0 0 1 1 1 0 1 0 0 1 0 0 1 0 1 0 0 0 0 0 0 1 0]\n",
            "Features: [b'@user @user oh he\\xe2\\x80\\x99s getting louder \\n'\n",
            " b'@user @user mental case for sure \\n'\n",
            " b'@user @user @user she is a wart on society \\n'\n",
            " b'this cant be legal right #kag #maga url \\n'\n",
            " b'@user @user easy big fella you would do the baseball if it was the bravos lol \\n'\n",
            " b'@user @user @user restricting ammo is infringing upon right to bear arms how about women can have abortions but restricted to 1 3rd week of pregnancy and must be registered easy test of gun control laws apply them to other rights to see if they\\xe2\\x80\\x99d be supported if not then they are bad \\n'\n",
            " b'@user is he the insider working against trump really looks that way release the hounds \\n'\n",
            " b'@user and niggas still gonna complain about geno ffs \\n'\n",
            " b'@user @user anyone can say or write anything about themselves suppose tomorrow she says that she is a prophet and human race needs to follow her what does that tell about her once i see someone as useless moron i stop giving them any attention you do the same brother she is nobody \\n'\n",
            " b'@user confirm kavanaugh now #maga \\n'\n",
            " b'@user @user love this woman telling the truth every day why do conservatives have to point out the obvious are people really that stupid \\n'\n",
            " b'@user imagine unironically believing that liberals support antifa \\n'\n",
            " b'@user @user she is \\n' b'@user my name is whitney not whitey \\n'\n",
            " b'@user if you ain\\xe2\\x80\\x99t hyping me up like the nigga in the back ima have to throw the whole friend away \\n'\n",
            " b'@user and they should face consequences \\n'\n",
            " b'when under siege over a bs stand double down #cultlogic #maga url \\n'\n",
            " b'@user i say grab him what a difference maker he is a home run hitter to compliment smoke means we release grant and snead has to take over don\\xe2\\x80\\x99t know the whole story why browns would release him but he is a legit number one wr \\n'\n",
            " b'@user she is just plane nuts \\n'\n",
            " b'@user he\\xe2\\x80\\x99s not responsible for that he is responsible for his decision not to medically evacuate \\n'\n",
            " b'@user what will german\\xe2\\x80\\x99s will give us gun control \\n'\n",
            " b\"@user i read a comment from a women saying why didn't you come to us when slavery was a choice wearing maga hats and talking with trump \\n\"\n",
            " b'@user @user they had it rigged and had the media post those fake poles to try and discourage conservatives from even voting bombshell when the working conservatives got off work and went to vote ripped their poor nwo apart been crying and throwing tantrums ever since lies never stopped \\n'\n",
            " b\"@user @user @user @user i blocked @user i don't want conservatives here this is a safe place for all #resisters \\n\"\n",
            " b'@user good liberals will allow a rapist to continue serving on a federal district court while his victim continues to suffer but you said you said \\n'\n",
            " b\"@user @user @user @user @user @user @user @user achtung it's today vote now being question by hungarian @user \\n\"\n",
            " b\"@user think it's disgusting more money is being spent in my opinion they need to look closer to home wear she is \\n\"\n",
            " b'@user 3 this appointment has been commonly know for 6 months minimum but now when the left has nothing else to throw at him she suddenly speaks up 4 this individual is a antifa supporting liberal collage professor continued \\n'\n",
            " b'@user @user needs to retire she is done \\n'\n",
            " b'@user @user @user so the only difference affecting crime rates between hi and conus is gun control \\n'\n",
            " b\"@user @user @user you definitely made judgements about me and your tweets prove it i made reasonable observations based on what you said about yourself you disagree and that's fine applying your own advice is something you should try #makeamericagreatagain #americafirst #maga #usa\\xf0\\x9f\\x87\\xba\\xf0\\x9f\\x87\\xb8 \\n\"\n",
            " b\"like a great drum in a mother's chest the anthem of a peaceful army i'm guessing anthem is the song josh wrote for his mother he's said in interviews that she is where his philosophy comes from \\n\"], Target: [0 1 1 0 0 1 0 1 1 0 1 0 0 0 1 1 0 1 0 0 1 0 0 0 1 0 0 0 0 0 0 0]\n",
            "Review b'@user she is just plane nuts \\n'\n",
            "Label 0\n",
            "Review b'this obvious hit job on kavannah is not going to work and the liberals continue to reveal themselves as demonic figures url \\n'\n",
            "Label 1\n",
            "Review b'@user @user there you go an this is different how #maga \\n'\n",
            "Label 0\n",
            "Label 0 corresponds to not\n",
            "Label 1 corresponds to off\n",
            "Review b'@user @user @user fake conservatives and their fake outrage over the budget betrayal url url \\n'\n",
            "Label 0\n",
            "Review b'@user whoever you are you deserve this url \\n'\n",
            "Label 0\n",
            "Review b'@user made my wife take the egghead bible challenge our two kids are obviously more obnoxious than that loop because this shit isnt phasing her at all \\n'\n",
            "Label 1\n",
            "Label 0 corresponds to tin\n",
            "Label 1 corresponds to unt\n"
          ],
          "name": "stdout"
        }
      ]
    },
    {
      "cell_type": "code",
      "metadata": {
        "id": "8-hgWyk3QUNA"
      },
      "source": [
        "\n"
      ],
      "execution_count": 7,
      "outputs": []
    },
    {
      "cell_type": "code",
      "metadata": {
        "id": "gs8Yk-krbL1z"
      },
      "source": [
        "max_features = 10000\n",
        "#sequence of such length because the length of Twitter post is 280 symbols long\n",
        "sequence_length = 280\n",
        "\n",
        "def generate_vectorization_layer(max_features,sequence_length):\n",
        "  return TextVectorization(\n",
        "    max_tokens=max_features,\n",
        "    output_mode='int',\n",
        "    output_sequence_length=int(sequence_length))\n",
        "vectorize_layer = generate_vectorization_layer(max_features,sequence_length)\n",
        "vectorize_layerB=generate_vectorization_layer(max_features,sequence_length)"
      ],
      "execution_count": 8,
      "outputs": []
    },
    {
      "cell_type": "code",
      "metadata": {
        "id": "H_9AMm07bsZF"
      },
      "source": [
        "# Make a text-only dataset (without labels), then call adapt\n",
        "train_text = raw_train_ds.map(lambda x, y: x)\n",
        "train_textB=raw_test_dsB.map(lambda x,y:x)\n",
        "vectorize_layer.adapt(train_text)\n",
        "vectorize_layerB.adapt(train_textB)"
      ],
      "execution_count": 9,
      "outputs": []
    },
    {
      "cell_type": "code",
      "metadata": {
        "colab": {
          "base_uri": "https://localhost:8080/",
          "height": 539
        },
        "id": "eHAgVMG8bvE2",
        "outputId": "2e4ddc20-2152-4703-c049-993ce58fc183"
      },
      "source": [
        "def vectorize_text(text, label):\n",
        "  text = tf.expand_dims(text, -1)\n",
        "  return vectorize_layer(text), label\n",
        "# retrieve a batch (of 32 reviews and labels) from the dataset\n",
        "\n",
        "text_batch, label_batch = next(iter(raw_train_ds))\n",
        "first_review=text_batch[0]\n",
        "first_review, first_label = text_batch[0], label_batch[0]\n",
        "\n",
        "print(\"Review\", first_review)\n",
        "\n",
        "print(\"Label\", raw_train_ds.class_names[first_label])\n",
        "print(\"Vectorized review\", vectorize_text(first_review, first_label))\n",
        "\n",
        "\"\"\"\n",
        "text_batchB, label_batchB = next(iter(raw_train_dsB))\n",
        "first_reviewB, first_labelB = text_batchB[0], label_batchB[0]\n",
        "\n",
        "print(\"Review\", first_reviewB)\n",
        "print(\"Label\", raw_train_dsB.class_names[first_labelB])\n",
        "print(\"Vectorized review\", vectorize_text(first_reviewB, first_labelB))\n",
        "\"\"\"\n"
      ],
      "execution_count": 10,
      "outputs": [
        {
          "output_type": "stream",
          "text": [
            "Review tf.Tensor(b'@user cp24 as usual interviewing only liberals with negative reviews \\n', shape=(), dtype=string)\n",
            "Label not\n",
            "Vectorized review (<tf.Tensor: shape=(1, 280), dtype=int64, numpy=\n",
            "array([[   2, 7648,   36, 1262,    1,   85,   25,   22, 1749, 6365,    0,\n",
            "           0,    0,    0,    0,    0,    0,    0,    0,    0,    0,    0,\n",
            "           0,    0,    0,    0,    0,    0,    0,    0,    0,    0,    0,\n",
            "           0,    0,    0,    0,    0,    0,    0,    0,    0,    0,    0,\n",
            "           0,    0,    0,    0,    0,    0,    0,    0,    0,    0,    0,\n",
            "           0,    0,    0,    0,    0,    0,    0,    0,    0,    0,    0,\n",
            "           0,    0,    0,    0,    0,    0,    0,    0,    0,    0,    0,\n",
            "           0,    0,    0,    0,    0,    0,    0,    0,    0,    0,    0,\n",
            "           0,    0,    0,    0,    0,    0,    0,    0,    0,    0,    0,\n",
            "           0,    0,    0,    0,    0,    0,    0,    0,    0,    0,    0,\n",
            "           0,    0,    0,    0,    0,    0,    0,    0,    0,    0,    0,\n",
            "           0,    0,    0,    0,    0,    0,    0,    0,    0,    0,    0,\n",
            "           0,    0,    0,    0,    0,    0,    0,    0,    0,    0,    0,\n",
            "           0,    0,    0,    0,    0,    0,    0,    0,    0,    0,    0,\n",
            "           0,    0,    0,    0,    0,    0,    0,    0,    0,    0,    0,\n",
            "           0,    0,    0,    0,    0,    0,    0,    0,    0,    0,    0,\n",
            "           0,    0,    0,    0,    0,    0,    0,    0,    0,    0,    0,\n",
            "           0,    0,    0,    0,    0,    0,    0,    0,    0,    0,    0,\n",
            "           0,    0,    0,    0,    0,    0,    0,    0,    0,    0,    0,\n",
            "           0,    0,    0,    0,    0,    0,    0,    0,    0,    0,    0,\n",
            "           0,    0,    0,    0,    0,    0,    0,    0,    0,    0,    0,\n",
            "           0,    0,    0,    0,    0,    0,    0,    0,    0,    0,    0,\n",
            "           0,    0,    0,    0,    0,    0,    0,    0,    0,    0,    0,\n",
            "           0,    0,    0,    0,    0,    0,    0,    0,    0,    0,    0,\n",
            "           0,    0,    0,    0,    0,    0,    0,    0,    0,    0,    0,\n",
            "           0,    0,    0,    0,    0]])>, <tf.Tensor: shape=(), dtype=int32, numpy=0>)\n"
          ],
          "name": "stdout"
        },
        {
          "output_type": "execute_result",
          "data": {
            "application/vnd.google.colaboratory.intrinsic+json": {
              "type": "string"
            },
            "text/plain": [
              "'\\ntext_batchB, label_batchB = next(iter(raw_train_dsB))\\nfirst_reviewB, first_labelB = text_batchB[0], label_batchB[0]\\n\\nprint(\"Review\", first_reviewB)\\nprint(\"Label\", raw_train_dsB.class_names[first_labelB])\\nprint(\"Vectorized review\", vectorize_text(first_reviewB, first_labelB))\\n'"
            ]
          },
          "metadata": {
            "tags": []
          },
          "execution_count": 10
        }
      ]
    },
    {
      "cell_type": "code",
      "metadata": {
        "colab": {
          "base_uri": "https://localhost:8080/",
          "height": 102
        },
        "id": "NOogiFJ4cLGP",
        "outputId": "a3e38356-f070-4359-812b-6b59ddb4bb92"
      },
      "source": [
        "print(\"7517 ---> \",vectorize_layer.get_vocabulary()[500])\n",
        "print(\" 1953 ---> \",vectorize_layer.get_vocabulary()[1953])\n",
        "print('Vocabulary size: {}'.format(len(vectorize_layer.get_vocabulary())))\n",
        "\"\"\"\n",
        "print(\"7517 ---> \",vectorize_layerB.get_vocabulary()[500])\n",
        "print(\" 1953 ---> \",vectorize_layerB.get_vocabulary()[1953])\n",
        "print('Vocabulary size: {}'.format(len(vectorize_layerB.get_vocabulary())))\n",
        "\"\"\""
      ],
      "execution_count": 11,
      "outputs": [
        {
          "output_type": "stream",
          "text": [
            "7517 --->  happen\n",
            " 1953 --->  votered\n",
            "Vocabulary size: 10000\n"
          ],
          "name": "stdout"
        },
        {
          "output_type": "execute_result",
          "data": {
            "application/vnd.google.colaboratory.intrinsic+json": {
              "type": "string"
            },
            "text/plain": [
              "'\\nprint(\"7517 ---> \",vectorize_layerB.get_vocabulary()[500])\\nprint(\" 1953 ---> \",vectorize_layerB.get_vocabulary()[1953])\\nprint(\\'Vocabulary size: {}\\'.format(len(vectorize_layerB.get_vocabulary())))\\n'"
            ]
          },
          "metadata": {
            "tags": []
          },
          "execution_count": 11
        }
      ]
    },
    {
      "cell_type": "code",
      "metadata": {
        "id": "ExdXVBlscSOa"
      },
      "source": [
        "def map_and_optimize(raw_train,raw_val,raw_test,vectorize_text):\n",
        "  train_ds = raw_train.map(vectorize_text)\n",
        "  val_ds = raw_val.map(vectorize_text)\n",
        "  test_ds = raw_test.map(vectorize_text)\n",
        "\n",
        "  #optimization\n",
        "  AUTOTUNE = tf.data.AUTOTUNE\n",
        "\n",
        "  train_ds = train_ds.cache().prefetch(buffer_size=AUTOTUNE)\n",
        "  val_ds = val_ds.cache().prefetch(buffer_size=AUTOTUNE)\n",
        "  test_ds = test_ds.cache().prefetch(buffer_size=AUTOTUNE)\n",
        "  return train_ds,val_ds,test_ds\n",
        "\n",
        "train_ds,val_ds,test_ds=map_and_optimize(raw_train_ds,raw_val_ds,raw_test_ds,vectorize_text)\n",
        "train_dsB,val_dsB,test_dsB=map_and_optimize(raw_train_dsB,raw_val_dsB,raw_test_dsB,vectorize_text)"
      ],
      "execution_count": 12,
      "outputs": []
    },
    {
      "cell_type": "code",
      "metadata": {
        "id": "s5d--2twnhBj"
      },
      "source": [
        "\n",
        "\n",
        "\n",
        "\n",
        "#Callback function to stop overfitting\n",
        "callback = tf.keras.callbacks.EarlyStopping(monitor='loss', patience=3)"
      ],
      "execution_count": 13,
      "outputs": []
    },
    {
      "cell_type": "code",
      "metadata": {
        "colab": {
          "base_uri": "https://localhost:8080/"
        },
        "id": "21lrm559np7s",
        "outputId": "1ade2e12-da05-4f76-db33-8c1a723d8f45"
      },
      "source": [
        "embedding_dim = 48\n",
        "model = tf.keras.Sequential([\n",
        "  layers.Embedding(max_features + 1, embedding_dim),\n",
        "  layers.Dropout(0.2),\n",
        "  layers.GlobalAveragePooling1D(),\n",
        "  layers.Dropout(0.2),\n",
        "  layers.Dense(1)\n",
        "  ])\n",
        "\n",
        "model.summary()"
      ],
      "execution_count": 14,
      "outputs": [
        {
          "output_type": "stream",
          "text": [
            "Model: \"sequential\"\n",
            "_________________________________________________________________\n",
            "Layer (type)                 Output Shape              Param #   \n",
            "=================================================================\n",
            "embedding (Embedding)        (None, None, 48)          480048    \n",
            "_________________________________________________________________\n",
            "dropout (Dropout)            (None, None, 48)          0         \n",
            "_________________________________________________________________\n",
            "global_average_pooling1d (Gl (None, 48)                0         \n",
            "_________________________________________________________________\n",
            "dropout_1 (Dropout)          (None, 48)                0         \n",
            "_________________________________________________________________\n",
            "dense (Dense)                (None, 1)                 49        \n",
            "=================================================================\n",
            "Total params: 480,097\n",
            "Trainable params: 480,097\n",
            "Non-trainable params: 0\n",
            "_________________________________________________________________\n"
          ],
          "name": "stdout"
        }
      ]
    },
    {
      "cell_type": "code",
      "metadata": {
        "id": "qqDsrmnVohJn"
      },
      "source": [
        "# for some reason, in the tutorial the threshold is 0.0, which, in my opinion, is too unfair\n",
        "model.compile(loss=losses.BinaryCrossentropy(from_logits=True,label_smoothing=0.15),\n",
        "              optimizer='adam',\n",
        "              metrics=tf.metrics.BinaryAccuracy(threshold=0.5))\n",
        "#(from_logits=False)"
      ],
      "execution_count": 15,
      "outputs": []
    },
    {
      "cell_type": "code",
      "metadata": {
        "colab": {
          "base_uri": "https://localhost:8080/"
        },
        "id": "x7OPqoAxo-aQ",
        "outputId": "4af940e2-b002-4ecf-e7ec-a6215c1503a3"
      },
      "source": [
        "\n",
        "\n",
        "\n",
        "epochs = 30\n",
        "history = model.fit(\n",
        "    train_ds,\n",
        "    validation_data=val_ds,\n",
        "    epochs=epochs)"
      ],
      "execution_count": 16,
      "outputs": [
        {
          "output_type": "stream",
          "text": [
            "Epoch 1/30\n",
            "331/331 [==============================] - 7s 20ms/step - loss: 0.6551 - binary_accuracy: 0.6650 - val_loss: 0.6446 - val_binary_accuracy: 0.6782\n",
            "Epoch 2/30\n",
            "331/331 [==============================] - 4s 12ms/step - loss: 0.6501 - binary_accuracy: 0.6650 - val_loss: 0.6433 - val_binary_accuracy: 0.6782\n",
            "Epoch 3/30\n",
            "331/331 [==============================] - 4s 12ms/step - loss: 0.6478 - binary_accuracy: 0.6650 - val_loss: 0.6417 - val_binary_accuracy: 0.6782\n",
            "Epoch 4/30\n",
            "331/331 [==============================] - 4s 12ms/step - loss: 0.6444 - binary_accuracy: 0.6650 - val_loss: 0.6396 - val_binary_accuracy: 0.6782\n",
            "Epoch 5/30\n",
            "331/331 [==============================] - 4s 11ms/step - loss: 0.6398 - binary_accuracy: 0.6650 - val_loss: 0.6370 - val_binary_accuracy: 0.6782\n",
            "Epoch 6/30\n",
            "331/331 [==============================] - 4s 12ms/step - loss: 0.6340 - binary_accuracy: 0.6650 - val_loss: 0.6338 - val_binary_accuracy: 0.6782\n",
            "Epoch 7/30\n",
            "331/331 [==============================] - 4s 11ms/step - loss: 0.6276 - binary_accuracy: 0.6650 - val_loss: 0.6302 - val_binary_accuracy: 0.6782\n",
            "Epoch 8/30\n",
            "331/331 [==============================] - 4s 12ms/step - loss: 0.6194 - binary_accuracy: 0.6659 - val_loss: 0.6258 - val_binary_accuracy: 0.6786\n",
            "Epoch 9/30\n",
            "331/331 [==============================] - 4s 12ms/step - loss: 0.6104 - binary_accuracy: 0.6681 - val_loss: 0.6211 - val_binary_accuracy: 0.6790\n",
            "Epoch 10/30\n",
            "331/331 [==============================] - 4s 12ms/step - loss: 0.6005 - binary_accuracy: 0.6726 - val_loss: 0.6161 - val_binary_accuracy: 0.6813\n",
            "Epoch 11/30\n",
            "331/331 [==============================] - 4s 12ms/step - loss: 0.5896 - binary_accuracy: 0.6809 - val_loss: 0.6112 - val_binary_accuracy: 0.6835\n",
            "Epoch 12/30\n",
            "331/331 [==============================] - 4s 12ms/step - loss: 0.5784 - binary_accuracy: 0.6892 - val_loss: 0.6063 - val_binary_accuracy: 0.6847\n",
            "Epoch 13/30\n",
            "331/331 [==============================] - 4s 12ms/step - loss: 0.5666 - binary_accuracy: 0.6974 - val_loss: 0.6018 - val_binary_accuracy: 0.6881\n",
            "Epoch 14/30\n",
            "331/331 [==============================] - 4s 12ms/step - loss: 0.5557 - binary_accuracy: 0.7081 - val_loss: 0.5974 - val_binary_accuracy: 0.6922\n",
            "Epoch 15/30\n",
            "331/331 [==============================] - 4s 12ms/step - loss: 0.5440 - binary_accuracy: 0.7186 - val_loss: 0.5940 - val_binary_accuracy: 0.6956\n",
            "Epoch 16/30\n",
            "331/331 [==============================] - 4s 12ms/step - loss: 0.5336 - binary_accuracy: 0.7302 - val_loss: 0.5906 - val_binary_accuracy: 0.7017\n",
            "Epoch 17/30\n",
            "331/331 [==============================] - 4s 12ms/step - loss: 0.5235 - binary_accuracy: 0.7426 - val_loss: 0.5881 - val_binary_accuracy: 0.7069\n",
            "Epoch 18/30\n",
            "331/331 [==============================] - 4s 12ms/step - loss: 0.5141 - binary_accuracy: 0.7514 - val_loss: 0.5862 - val_binary_accuracy: 0.7134\n",
            "Epoch 19/30\n",
            "331/331 [==============================] - 4s 12ms/step - loss: 0.5051 - binary_accuracy: 0.7654 - val_loss: 0.5841 - val_binary_accuracy: 0.7183\n",
            "Epoch 20/30\n",
            "331/331 [==============================] - 4s 12ms/step - loss: 0.4966 - binary_accuracy: 0.7743 - val_loss: 0.5833 - val_binary_accuracy: 0.7239\n",
            "Epoch 21/30\n",
            "331/331 [==============================] - 4s 12ms/step - loss: 0.4885 - binary_accuracy: 0.7853 - val_loss: 0.5826 - val_binary_accuracy: 0.7255\n",
            "Epoch 22/30\n",
            "331/331 [==============================] - 4s 12ms/step - loss: 0.4816 - binary_accuracy: 0.7931 - val_loss: 0.5831 - val_binary_accuracy: 0.7292\n",
            "Epoch 23/30\n",
            "331/331 [==============================] - 4s 12ms/step - loss: 0.4747 - binary_accuracy: 0.8017 - val_loss: 0.5831 - val_binary_accuracy: 0.7304\n",
            "Epoch 24/30\n",
            "331/331 [==============================] - 4s 12ms/step - loss: 0.4687 - binary_accuracy: 0.8096 - val_loss: 0.5839 - val_binary_accuracy: 0.7345\n",
            "Epoch 25/30\n",
            "331/331 [==============================] - 4s 12ms/step - loss: 0.4627 - binary_accuracy: 0.8163 - val_loss: 0.5845 - val_binary_accuracy: 0.7345\n",
            "Epoch 26/30\n",
            "331/331 [==============================] - 4s 12ms/step - loss: 0.4568 - binary_accuracy: 0.8234 - val_loss: 0.5867 - val_binary_accuracy: 0.7364\n",
            "Epoch 27/30\n",
            "331/331 [==============================] - 4s 12ms/step - loss: 0.4522 - binary_accuracy: 0.8301 - val_loss: 0.5878 - val_binary_accuracy: 0.7390\n",
            "Epoch 28/30\n",
            "331/331 [==============================] - 4s 12ms/step - loss: 0.4469 - binary_accuracy: 0.8353 - val_loss: 0.5890 - val_binary_accuracy: 0.7428\n",
            "Epoch 29/30\n",
            "331/331 [==============================] - 4s 12ms/step - loss: 0.4420 - binary_accuracy: 0.8407 - val_loss: 0.5914 - val_binary_accuracy: 0.7436\n",
            "Epoch 30/30\n",
            "331/331 [==============================] - 4s 12ms/step - loss: 0.4383 - binary_accuracy: 0.8463 - val_loss: 0.5931 - val_binary_accuracy: 0.7466\n"
          ],
          "name": "stdout"
        }
      ]
    },
    {
      "cell_type": "code",
      "metadata": {
        "colab": {
          "base_uri": "https://localhost:8080/"
        },
        "id": "HUe6Dsu43rkI",
        "outputId": "6d1598ec-30af-43b7-cc65-d35c7a3c8002"
      },
      "source": [
        "loss, accuracy = model.evaluate(test_ds)\n",
        "\n",
        "print(\"Loss: \", loss)\n",
        "print(\"Accuracy: \", accuracy)"
      ],
      "execution_count": 17,
      "outputs": [
        {
          "output_type": "stream",
          "text": [
            "27/27 [==============================] - 0s 7ms/step - loss: 0.5637 - binary_accuracy: 0.7802\n",
            "Loss:  0.5636753439903259\n",
            "Accuracy:  0.7802325487136841\n"
          ],
          "name": "stdout"
        }
      ]
    },
    {
      "cell_type": "code",
      "metadata": {
        "colab": {
          "base_uri": "https://localhost:8080/",
          "height": 295
        },
        "id": "pXTuG-cipJlk",
        "outputId": "9ff5b45a-2c02-4fa0-820e-d6577e5c96a0"
      },
      "source": [
        "history_dict = history.history\n",
        "history_dict.keys()\n",
        "acc = history_dict['binary_accuracy']\n",
        "val_acc = history_dict['val_binary_accuracy']\n",
        "loss = history_dict['loss']\n",
        "val_loss = history_dict['val_loss']\n",
        "\n",
        "epochs = range(1, len(acc) + 1)\n",
        "\n",
        "# \"bo\" is for \"blue dot\"\n",
        "plt.plot(epochs, loss, 'bo', label='Training loss')\n",
        "# b is for \"solid blue line\"\n",
        "plt.plot(epochs, val_loss, 'b', label='Validation loss')\n",
        "plt.title('Training and validation loss')\n",
        "plt.xlabel('Epochs')\n",
        "plt.ylabel('Loss')\n",
        "plt.legend()\n",
        "\n",
        "plt.show()"
      ],
      "execution_count": 18,
      "outputs": [
        {
          "output_type": "display_data",
          "data": {
            "image/png": "[encoded data removed]",
            "text/plain": [
              "<Figure size 432x288 with 1 Axes>"
            ]
          },
          "metadata": {
            "tags": [],
            "needs_background": "light"
          }
        }
      ]
    },
    {
      "cell_type": "code",
      "metadata": {
        "colab": {
          "base_uri": "https://localhost:8080/",
          "height": 295
        },
        "id": "UbsCph_Nv4ud",
        "outputId": "84f8e444-c14b-4442-9c9d-7c00a0eda3ca"
      },
      "source": [
        "plt.plot(epochs, acc, 'bo', label='Training acc')\n",
        "plt.plot(epochs, val_acc, 'b', label='Validation acc')\n",
        "plt.title('Training and validation accuracy')\n",
        "plt.xlabel('Epochs')\n",
        "plt.ylabel('Accuracy')\n",
        "plt.legend(loc='lower right')\n",
        "\n",
        "plt.show()"
      ],
      "execution_count": 19,
      "outputs": [
        {
          "output_type": "display_data",
          "data": {
            "image/png": "[encoded data removed]",
            "text/plain": [
              "<Figure size 432x288 with 1 Axes>"
            ]
          },
          "metadata": {
            "tags": [],
            "needs_background": "light"
          }
        }
      ]
    },
    {
      "cell_type": "code",
      "metadata": {
        "colab": {
          "base_uri": "https://localhost:8080/"
        },
        "id": "l8uz5hauy8Es",
        "outputId": "4fa7bf0d-c0b5-4a88-c539-908a91be47b0"
      },
      "source": [
        "export_model = tf.keras.Sequential([\n",
        "  vectorize_layer,\n",
        "  model,\n",
        "  layers.Activation('sigmoid')\n",
        "])\n",
        "\n",
        "export_model.compile(\n",
        "    loss=losses.BinaryCrossentropy(from_logits=False), optimizer=\"adam\", metrics=['accuracy']\n",
        ")\n",
        "\n",
        "examples = [\n",
        "  \"MAGA TRUMP MAGA TRUMP WON\",\n",
        "  \"JOE BIDEN JOE BIDEN VOTE BLUE NO MATTER WHO\",\n",
        "  \"NIGGER NIGGER NIGGER NIGGER NIGGER NIGGER NIGGER NIGGER NIGGER NIGGER\",\n",
        "  \"Nigger is an offensive and derogatory word that is used to insulf all people of color (not only afro-americans) \",\n",
        "  \"Love is good, I love everyone and wish you all the best things in life\",\n",
        "  \"Believe in Jesus and he will believe in you\",\n",
        "  \"Democracy is one of the most important aspect of every US cityzen's life\",\n",
        "  \"TRUMP\",\n",
        "  \"BIDEN\",\n",
        "  \"#MAGA\",\n",
        "  \"NIGGER JEW HOLOCAUST HITLER TRUMP PUTIN 9/11 ELECTION FRAUD  ALLAH\",\n",
        "  \"NIGGER JEW HOLOCAUST HITLER TRUMP PUTIN 9/11 ELECTION FRAUD JESUS ALLAH Jesus Jesus\",\n",
        "]\n",
        "loss, accuracy = export_model.evaluate(raw_test_ds)\n",
        "print(accuracy)\n",
        "export_model.predict(examples)"
      ],
      "execution_count": 20,
      "outputs": [
        {
          "output_type": "stream",
          "text": [
            "27/27 [==============================] - 1s 7ms/step - loss: 0.4773 - accuracy: 0.7791\n",
            "0.7790697813034058\n"
          ],
          "name": "stdout"
        },
        {
          "output_type": "execute_result",
          "data": {
            "text/plain": [
              "array([[0.22029653],\n",
              "       [0.38951546],\n",
              "       [0.81567794],\n",
              "       [0.2527153 ],\n",
              "       [0.04491523],\n",
              "       [0.42656225],\n",
              "       [0.06652483],\n",
              "       [0.25330746],\n",
              "       [0.26668292],\n",
              "       [0.25095835],\n",
              "       [0.51110613],\n",
              "       [0.7894826 ]], dtype=float32)"
            ]
          },
          "metadata": {
            "tags": []
          },
          "execution_count": 20
        }
      ]
    },
    {
      "cell_type": "code",
      "metadata": {
        "id": "-4wqJUO0yhZX"
      },
      "source": [
        "embedding_dim = 64\n",
        "model = tf.keras.Sequential([\n",
        "  layers.Embedding(max_features + 1, embedding_dim),\n",
        "  layers.Dropout(0.1),\n",
        "  layers.GlobalAveragePooling1D(),\n",
        "  layers.Dropout(0.1),\n",
        "  layers.Dense(1)\n",
        "  ])"
      ],
      "execution_count": 21,
      "outputs": []
    },
    {
      "cell_type": "code",
      "metadata": {
        "id": "K4etxLjrykr8"
      },
      "source": [
        "# for some reason, in the tutorial the threshold is 0.0, which, in my opinion, is too unfair\n",
        "model.compile(loss=losses.BinaryCrossentropy\n",
        "(from_logits=True,label_smoothing=0),\n",
        "              optimizer='adam',\n",
        "              metrics=tf.metrics.BinaryAccuracy(threshold=0.5))\n",
        "#(from_logits=False)"
      ],
      "execution_count": 22,
      "outputs": []
    },
    {
      "cell_type": "code",
      "metadata": {
        "id": "yotbLiix11eM",
        "colab": {
          "base_uri": "https://localhost:8080/"
        },
        "outputId": "253d68e1-10a8-43d9-9092-37347badbb30"
      },
      "source": [
        "\n",
        "\n",
        "model.summary()\n",
        "epochs = 30\n",
        "historyB = model.fit(\n",
        "    train_dsB,\n",
        "    validation_data=val_dsB,\n",
        "    epochs=epochs)"
      ],
      "execution_count": 23,
      "outputs": [
        {
          "output_type": "stream",
          "text": [
            "Model: \"sequential_2\"\n",
            "_________________________________________________________________\n",
            "Layer (type)                 Output Shape              Param #   \n",
            "=================================================================\n",
            "embedding_1 (Embedding)      (None, None, 64)          640064    \n",
            "_________________________________________________________________\n",
            "dropout_2 (Dropout)          (None, None, 64)          0         \n",
            "_________________________________________________________________\n",
            "global_average_pooling1d_1 ( (None, 64)                0         \n",
            "_________________________________________________________________\n",
            "dropout_3 (Dropout)          (None, 64)                0         \n",
            "_________________________________________________________________\n",
            "dense_1 (Dense)              (None, 1)                 65        \n",
            "=================================================================\n",
            "Total params: 640,129\n",
            "Trainable params: 640,129\n",
            "Non-trainable params: 0\n",
            "_________________________________________________________________\n",
            "Epoch 1/30\n",
            "110/110 [==============================] - 3s 24ms/step - loss: 0.5047 - binary_accuracy: 0.8787 - val_loss: 0.3694 - val_binary_accuracy: 0.8898\n",
            "Epoch 2/30\n",
            "110/110 [==============================] - 2s 15ms/step - loss: 0.3738 - binary_accuracy: 0.8787 - val_loss: 0.3488 - val_binary_accuracy: 0.8898\n",
            "Epoch 3/30\n",
            "110/110 [==============================] - 2s 16ms/step - loss: 0.3698 - binary_accuracy: 0.8787 - val_loss: 0.3479 - val_binary_accuracy: 0.8898\n",
            "Epoch 4/30\n",
            "110/110 [==============================] - 2s 16ms/step - loss: 0.3689 - binary_accuracy: 0.8787 - val_loss: 0.3473 - val_binary_accuracy: 0.8898\n",
            "Epoch 5/30\n",
            "110/110 [==============================] - 2s 15ms/step - loss: 0.3663 - binary_accuracy: 0.8787 - val_loss: 0.3466 - val_binary_accuracy: 0.8898\n",
            "Epoch 6/30\n",
            "110/110 [==============================] - 2s 15ms/step - loss: 0.3650 - binary_accuracy: 0.8787 - val_loss: 0.3460 - val_binary_accuracy: 0.8898\n",
            "Epoch 7/30\n",
            "110/110 [==============================] - 2s 15ms/step - loss: 0.3635 - binary_accuracy: 0.8787 - val_loss: 0.3452 - val_binary_accuracy: 0.8898\n",
            "Epoch 8/30\n",
            "110/110 [==============================] - 2s 15ms/step - loss: 0.3622 - binary_accuracy: 0.8787 - val_loss: 0.3446 - val_binary_accuracy: 0.8898\n",
            "Epoch 9/30\n",
            "110/110 [==============================] - 2s 15ms/step - loss: 0.3606 - binary_accuracy: 0.8787 - val_loss: 0.3437 - val_binary_accuracy: 0.8898\n",
            "Epoch 10/30\n",
            "110/110 [==============================] - 2s 15ms/step - loss: 0.3575 - binary_accuracy: 0.8787 - val_loss: 0.3430 - val_binary_accuracy: 0.8898\n",
            "Epoch 11/30\n",
            "110/110 [==============================] - 2s 15ms/step - loss: 0.3564 - binary_accuracy: 0.8787 - val_loss: 0.3423 - val_binary_accuracy: 0.8898\n",
            "Epoch 12/30\n",
            "110/110 [==============================] - 2s 15ms/step - loss: 0.3531 - binary_accuracy: 0.8787 - val_loss: 0.3415 - val_binary_accuracy: 0.8898\n",
            "Epoch 13/30\n",
            "110/110 [==============================] - 2s 15ms/step - loss: 0.3513 - binary_accuracy: 0.8787 - val_loss: 0.3410 - val_binary_accuracy: 0.8898\n",
            "Epoch 14/30\n",
            "110/110 [==============================] - 2s 15ms/step - loss: 0.3486 - binary_accuracy: 0.8787 - val_loss: 0.3403 - val_binary_accuracy: 0.8898\n",
            "Epoch 15/30\n",
            "110/110 [==============================] - 2s 15ms/step - loss: 0.3463 - binary_accuracy: 0.8787 - val_loss: 0.3397 - val_binary_accuracy: 0.8898\n",
            "Epoch 16/30\n",
            "110/110 [==============================] - 2s 15ms/step - loss: 0.3434 - binary_accuracy: 0.8787 - val_loss: 0.3390 - val_binary_accuracy: 0.8898\n",
            "Epoch 17/30\n",
            "110/110 [==============================] - 2s 15ms/step - loss: 0.3403 - binary_accuracy: 0.8787 - val_loss: 0.3385 - val_binary_accuracy: 0.8898\n",
            "Epoch 18/30\n",
            "110/110 [==============================] - 2s 15ms/step - loss: 0.3378 - binary_accuracy: 0.8787 - val_loss: 0.3381 - val_binary_accuracy: 0.8898\n",
            "Epoch 19/30\n",
            "110/110 [==============================] - 2s 15ms/step - loss: 0.3340 - binary_accuracy: 0.8787 - val_loss: 0.3376 - val_binary_accuracy: 0.8898\n",
            "Epoch 20/30\n",
            "110/110 [==============================] - 2s 15ms/step - loss: 0.3305 - binary_accuracy: 0.8787 - val_loss: 0.3372 - val_binary_accuracy: 0.8898\n",
            "Epoch 21/30\n",
            "110/110 [==============================] - 2s 15ms/step - loss: 0.3267 - binary_accuracy: 0.8787 - val_loss: 0.3371 - val_binary_accuracy: 0.8898\n",
            "Epoch 22/30\n",
            "110/110 [==============================] - 2s 15ms/step - loss: 0.3241 - binary_accuracy: 0.8787 - val_loss: 0.3368 - val_binary_accuracy: 0.8898\n",
            "Epoch 23/30\n",
            "110/110 [==============================] - 2s 15ms/step - loss: 0.3204 - binary_accuracy: 0.8787 - val_loss: 0.3365 - val_binary_accuracy: 0.8898\n",
            "Epoch 24/30\n",
            "110/110 [==============================] - 2s 15ms/step - loss: 0.3168 - binary_accuracy: 0.8787 - val_loss: 0.3365 - val_binary_accuracy: 0.8898\n",
            "Epoch 25/30\n",
            "110/110 [==============================] - 2s 15ms/step - loss: 0.3127 - binary_accuracy: 0.8787 - val_loss: 0.3366 - val_binary_accuracy: 0.8898\n",
            "Epoch 26/30\n",
            "110/110 [==============================] - 2s 15ms/step - loss: 0.3090 - binary_accuracy: 0.8787 - val_loss: 0.3365 - val_binary_accuracy: 0.8898\n",
            "Epoch 27/30\n",
            "110/110 [==============================] - 2s 15ms/step - loss: 0.3048 - binary_accuracy: 0.8787 - val_loss: 0.3364 - val_binary_accuracy: 0.8898\n",
            "Epoch 28/30\n",
            "110/110 [==============================] - 2s 15ms/step - loss: 0.3005 - binary_accuracy: 0.8787 - val_loss: 0.3366 - val_binary_accuracy: 0.8898\n",
            "Epoch 29/30\n",
            "110/110 [==============================] - 2s 15ms/step - loss: 0.2958 - binary_accuracy: 0.8787 - val_loss: 0.3365 - val_binary_accuracy: 0.8898\n",
            "Epoch 30/30\n",
            "110/110 [==============================] - 2s 15ms/step - loss: 0.2914 - binary_accuracy: 0.8787 - val_loss: 0.3368 - val_binary_accuracy: 0.8898\n"
          ],
          "name": "stdout"
        }
      ]
    },
    {
      "cell_type": "code",
      "metadata": {
        "id": "vlWaecKi118P",
        "colab": {
          "base_uri": "https://localhost:8080/"
        },
        "outputId": "28efaa44-e65f-4142-822d-ce26e7af8c0e"
      },
      "source": [
        "lossB, accuracyB = model.evaluate(test_dsB)\n",
        "\n",
        "print(\"Loss: \", lossB)\n",
        "print(\"Accuracy: \", accuracyB)"
      ],
      "execution_count": 24,
      "outputs": [
        {
          "output_type": "stream",
          "text": [
            "8/8 [==============================] - 0s 3ms/step - loss: 0.2948 - binary_accuracy: 0.8875\n",
            "Loss:  0.29477736353874207\n",
            "Accuracy:  0.887499988079071\n"
          ],
          "name": "stdout"
        }
      ]
    },
    {
      "cell_type": "code",
      "metadata": {
        "colab": {
          "base_uri": "https://localhost:8080/",
          "height": 295
        },
        "id": "1xVB3Xj3bNrR",
        "outputId": "922529d4-ae68-4e3b-fbdd-8dffbc4a1cb7"
      },
      "source": [
        "history_dictB = historyB.history\n",
        "history_dictB.keys()\n",
        "accB = history_dictB['binary_accuracy']\n",
        "val_accB = history_dictB['val_binary_accuracy']\n",
        "lossB = history_dictB['loss']\n",
        "val_lossB = history_dictB['val_loss']\n",
        "\n",
        "epochs = range(1, len(accB) + 1)\n",
        "\n",
        "# \"ro\" is for \"red dot\"\n",
        "plt.plot(epochs, lossB, 'ro', label='Training loss')\n",
        "# r is for \"solid blue line\"\n",
        "plt.plot(epochs, val_lossB, 'r', label='Validation loss')\n",
        "plt.title('Training and validation loss')\n",
        "plt.xlabel('Epochs')\n",
        "plt.ylabel('Loss')\n",
        "plt.legend()\n",
        "\n",
        "plt.show()"
      ],
      "execution_count": 25,
      "outputs": [
        {
          "output_type": "display_data",
          "data": {
            "image/png": "[encoded data removed]",
            "text/plain": [
              "<Figure size 432x288 with 1 Axes>"
            ]
          },
          "metadata": {
            "tags": [],
            "needs_background": "light"
          }
        }
      ]
    },
    {
      "cell_type": "code",
      "metadata": {
        "colab": {
          "base_uri": "https://localhost:8080/",
          "height": 295
        },
        "id": "yHiRwSq_blXz",
        "outputId": "355b4faf-2bdc-4718-b25f-472b1ef593c4"
      },
      "source": [
        "plt.plot(epochs, accB, 'ro', label='Training acc')\n",
        "plt.plot(epochs, val_accB, 'r', label='Validation acc')\n",
        "plt.title('Training and validation accuracy')\n",
        "plt.xlabel('Epochs')\n",
        "plt.ylabel('Accuracy')\n",
        "plt.legend(loc='lower right')\n",
        "\n",
        "plt.show()"
      ],
      "execution_count": 26,
      "outputs": [
        {
          "output_type": "display_data",
          "data": {
            "image/png": "[encoded data removed]",
            "text/plain": [
              "<Figure size 432x288 with 1 Axes>"
            ]
          },
          "metadata": {
            "tags": [],
            "needs_background": "light"
          }
        }
      ]
    },
    {
      "cell_type": "code",
      "metadata": {
        "colab": {
          "base_uri": "https://localhost:8080/",
          "height": 295
        },
        "id": "c_TG761Mcq0Y",
        "outputId": "fdcd2fdd-68f0-451d-a114-b1ae5b02f195"
      },
      "source": [
        "loss = history_dict['loss']\n",
        "plt.plot(epochs, loss, 'bo', label='Training loss A')\n",
        "plt.plot(epochs, val_loss, 'b', label='Validation loss A')\n",
        "plt.plot(epochs, lossB, 'ro', label='Training loss B')\n",
        "plt.plot(epochs, val_lossB, 'r', label='Validation loss B')\n",
        "plt.title('Training and validation loss')\n",
        "plt.xlabel('Epochs')\n",
        "plt.ylabel('Loss')\n",
        "plt.legend()\n",
        "\n",
        "plt.show()"
      ],
      "execution_count": 27,
      "outputs": [
        {
          "output_type": "display_data",
          "data": {
            "image/png": "[encoded data removed]",
            "text/plain": [
              "<Figure size 432x288 with 1 Axes>"
            ]
          },
          "metadata": {
            "tags": [],
            "needs_background": "light"
          }
        }
      ]
    },
    {
      "cell_type": "code",
      "metadata": {
        "colab": {
          "base_uri": "https://localhost:8080/",
          "height": 295
        },
        "id": "ToH9mr67gFQc",
        "outputId": "b38eff17-b886-4def-b5ef-2858506593df"
      },
      "source": [
        "plt.plot(epochs, acc, 'bo', label='Training acc A')\n",
        "plt.plot(epochs, val_acc, 'b', label='Validation acc A')\n",
        "plt.plot(epochs, accB, 'ro', label='Training acc B')\n",
        "plt.plot(epochs, val_accB, 'r', label='Validation acc B')\n",
        "plt.title('Training and validation accuracy')\n",
        "plt.xlabel('Epochs')\n",
        "plt.ylabel('Accuracy')\n",
        "plt.legend(loc='lower right')\n",
        "\n",
        "plt.show()"
      ],
      "execution_count": 28,
      "outputs": [
        {
          "output_type": "display_data",
          "data": {
            "image/png": "[encoded data removed]",
            "text/plain": [
              "<Figure size 432x288 with 1 Axes>"
            ]
          },
          "metadata": {
            "tags": [],
            "needs_background": "light"
          }
        }
      ]
    },
    {
      "cell_type": "code",
      "metadata": {
        "colab": {
          "base_uri": "https://localhost:8080/"
        },
        "id": "bdt7GgL_jAU3",
        "outputId": "23d94f38-b31a-4320-ee94-b4cc7759884c"
      },
      "source": [
        "export_modelB = tf.keras.Sequential([\n",
        "  vectorize_layer,\n",
        "  model,\n",
        "  layers.Activation('sigmoid')\n",
        "])\n",
        "\n",
        "export_modelB.compile(\n",
        "    loss=losses.BinaryCrossentropy(from_logits=False), optimizer=\"adam\", metrics=['accuracy']\n",
        ")\n",
        "\n",
        "examples = [\n",
        "  \"You are a dumb retard, you are an asshole and you shoudl kill yourself, you are an idiot, you are a bigot\",\n",
        "  \" dumb retard, an asshole and should kill oneself , an idiot, a bigot\",\n",
        "  \"you are an IDIOT!\",\n",
        "  \"IDIOT!\",\n",
        "  \"You are the worst President in the hisotry of the US, I can't wait till you will be out of office. You are a nazi\",\n",
        "  \"The worst   in the hisotry of the US, I can't wait till  will be out of office.  are a nazi\",\n",
        "  \"You are like Hitler, dumb retarded nigger, KYS\",\n",
        "  \"I am like Hitler, dumb retarded nigger, KYS\",\n",
        "  \"He is like Hitler, dumb retarded nigger, KYS\",\n",
        "  \"She is like Hitler, dumb retarded nigger, KYS\",\n",
        "  \"Donald Trump is like Hitler, dumb retarded nigger, KYS\",\n",
        "  \"Donald Trump is the worst Presiden in the history of the US\",\n",
        "  \"Joe Biden is the worst Presiden in the history of the US\",\n",
        "  \"Vladimir Putin is the worst Presiden in the history of Russia\",\n",
        "  \"Donald Trump is the best President in the history of the US\",\n",
        "  \" people,  white males are racists,  OF THEM, EVERY.SINGLE.ONE, they are bigots and dumb \"\n",
        "]\n",
        "loss, accuracy = export_model.evaluate(raw_test_dsB)\n",
        "print(accuracy)\n",
        "export_modelB.predict(examples)"
      ],
      "execution_count": 29,
      "outputs": [
        {
          "output_type": "stream",
          "text": [
            "8/8 [==============================] - 0s 3ms/step - loss: 0.8339 - accuracy: 0.6375\n",
            "0.637499988079071\n"
          ],
          "name": "stdout"
        },
        {
          "output_type": "execute_result",
          "data": {
            "text/plain": [
              "array([[0.05107403],\n",
              "       [0.16256478],\n",
              "       [0.18259785],\n",
              "       [0.22924864],\n",
              "       [0.03732833],\n",
              "       [0.06804854],\n",
              "       [0.15583342],\n",
              "       [0.2268888 ],\n",
              "       [0.1429174 ],\n",
              "       [0.16418841],\n",
              "       [0.13193935],\n",
              "       [0.10216892],\n",
              "       [0.1346676 ],\n",
              "       [0.1319511 ],\n",
              "       [0.10849571],\n",
              "       [0.13104811]], dtype=float32)"
            ]
          },
          "metadata": {
            "tags": []
          },
          "execution_count": 29
        }
      ]
    },
    {
      "cell_type": "code",
      "metadata": {
        "id": "NuocNQscJb-V",
        "colab": {
          "base_uri": "https://localhost:8080/"
        },
        "outputId": "fcfe1155-d47f-4d55-8a31-bf67d9e3515f"
      },
      "source": [
        "file = open('/content/olid-training-v1.0.tsv', 'r')\n",
        "Lines = file.readlines()\n",
        " \n",
        "\n",
        "all_lines=[]\n",
        "\n",
        "for line in Lines:\n",
        "    splitted=line.split()\n",
        "    splitted_list=[]\n",
        "    tweet=''\n",
        "    length=len(splitted)\n",
        "    splitted_list.append(splitted[0])\n",
        "    for i in range(1,length-3):\n",
        "      tweet+=splitted[i] + \" \"\n",
        "    tweet=tweet.lower().strip('!\"$%&()*+,-./:;<=>?[\\]^_`{|}~\\t\\n' )\n",
        "    splitted_list.append(tweet)\n",
        "    splitted_list.append(splitted[length-3])\n",
        "    splitted_list.append(splitted[length-2])\n",
        "    all_lines.append(splitted_list)\n",
        "print(all_lines[:5])\n",
        "all_lines=all_lines[1:]\n",
        "df = pd.DataFrame(all_lines, columns =['id', 'tweet', 'subtask_a','subtask_b'])\n",
        "\n",
        "\n",
        "\n",
        "testing_values_a = open('/content/testset-levela.tsv', 'r')\n",
        "Lines_values = testing_values_a.readlines()\n",
        "testing_labels_a = open('/content/labels-levela.csv', 'r')\n",
        "Lines_labels = testing_labels_a.readlines()\n",
        "Lines_values=Lines_values[1:]\n",
        "\n",
        "all_lines=[]\n",
        "count=0\n",
        "for line in zip(Lines_values,Lines_labels):\n",
        "    splitted=line[0].split()\n",
        "    splitted_labels=line[1].split(',')\n",
        "    splitted_list=[]\n",
        "    tweet=''\n",
        "    length=len(splitted)\n",
        "    splitted_list.append(splitted[0])\n",
        "    for i in range(1,length):\n",
        "      tweet+=splitted[i] + \" \"\n",
        "    tweet=tweet.lower().strip('!\"$%&()*+,-./:;<=>?[\\]^_`{|}~\\t\\n' )\n",
        "    splitted_list.append(tweet)\n",
        "    splitted_list.append(splitted_labels[1])\n",
        "    count+=1\n",
        "    all_lines.append(splitted_list)\n",
        "\n",
        "print(all_lines[:5])\n",
        "\n",
        "df_testing = pd.DataFrame(all_lines, columns =['id', 'tweet', 'subtask_a'])\n",
        "target_a_testing_labels=df_testing.pop('subtask_a')\n",
        "target_a_testing=df_testing.drop(columns=['id'])\n",
        "\n",
        "target_a=df.pop('subtask_a')\n",
        "target_b=df.pop('subtask_b')\n"
      ],
      "execution_count": 30,
      "outputs": [
        {
          "output_type": "stream",
          "text": [
            "[['id', 'tweet ', 'subtask_a', 'subtask_b'], ['86426', '@user she should ask a few native americans what their take on this is. ', 'OFF', 'UNT'], ['90194', '@user @user go home you’re drunk!!! @user #maga #trump2020 👊🇺🇸👊 url ', 'OFF', 'TIN'], ['16820', 'amazon is investigating chinese employees who are selling internal data to third-party sellers looking for an edge in the competitive marketplace. url #amazon #maga #kag #china #tcot ', 'NOT', 'NULL'], ['62688', '@user someone should\\'vetaken\"\" this piece of shit to a volcano. 😂\"\"\" ', 'OFF', 'UNT']]\n",
            "[['15923', '#whoisq #wherestheserver #dumpnike #declasfisa democrats support antifa, muslim brotherhood, ms13, isis, pedophilia, child trafficking, taxpayer funded abortion’s, election fraud, sedition and treason!!! #lockthemallup #wwg1wga #qanon \\u2066@user url ', 'OFF\\n'], ['27014', '#constitutionday is revered by conservatives, hated by progressives/socialist/democrats that want to change it. ', 'NOT\\n'], ['30530', '#foxnews #nra #maga #potus #trump #2ndamendment #rnc #usmc #veterans @user @user @user @user @user #fakereporting #theswamp #dnc #liberals @user @user #fakeoutrage @user first, it reduces the ca url ', 'NOT\\n'], ['13876', '#watching #boomer getting the news that she is still up for parole always makes me smile. #wentworth finale...@user is such a treasure. url ', 'NOT\\n'], ['60133', '#nopasaran: unity demo to oppose the far-right in #london – #antifa #oct13 — enough is enough! url ', 'OFF\\n']]\n"
          ],
          "name": "stdout"
        }
      ]
    },
    {
      "cell_type": "code",
      "metadata": {
        "id": "hC9j_pX7sTaP",
        "colab": {
          "base_uri": "https://localhost:8080/"
        },
        "outputId": "2cf0fd98-d665-4d9c-df4c-0923cb3d2791"
      },
      "source": [
        "X_train_a, X_val_a, y_train_a, y_val_a = train_test_split(df.values, target_a.values, test_size=0.20, random_state=33)\n",
        "training_x=pd.DataFrame(X_train_a,columns =['id', 'tweet'] )\n",
        "training_Y=pd.DataFrame(y_train_a,columns =['subtask_a'] )\n",
        "\n",
        "validation_x=pd.DataFrame(X_train_a,columns =['id', 'tweet'] ).drop(columns=['id'])\n",
        "validation_y=pd.DataFrame(y_train_a,columns =['subtask_a'] )\n",
        "\n",
        "lb = preprocessing.LabelBinarizer()\n",
        "training_Y = lb.fit_transform(training_Y)\n",
        "validation_y = lb.fit_transform(training_Y)\n",
        "\n",
        "target_a_testing_labels=lb.fit_transform(target_a_testing_labels)\n",
        "\n",
        "training_x = training_x.drop(columns=['id'])\n",
        "training_Y=pd.DataFrame(training_Y,columns =['subtask_a'] )\n",
        "training_a=pd.concat([training_x ,training_Y],axis=1)\n",
        "\n",
        "dataset_a = tf.data.Dataset.from_tensor_slices((training_x,training_Y))\n",
        "dataset_a_valid= tf.data.Dataset.from_tensor_slices((validation_x,validation_y))\n",
        "dataset_a_testing=tf.data.Dataset.from_tensor_slices((target_a_testing.values,target_a_testing_labels))\n",
        "dataset_a=dataset_a.batch(32)\n",
        "dataset_a_valid=dataset_a_valid.batch(32)\n",
        "dataset_a_testing.batch(32)\n",
        "print(dataset_a)\n",
        "print(dataset_a_valid)\n",
        "print(dataset_a_testing)\n",
        "\n",
        "\n"
      ],
      "execution_count": 31,
      "outputs": [
        {
          "output_type": "stream",
          "text": [
            "<BatchDataset shapes: ((None, 1), (None, 1)), types: (tf.string, tf.int64)>\n",
            "<BatchDataset shapes: ((None, 1), (None, 1)), types: (tf.string, tf.int64)>\n",
            "<TensorSliceDataset shapes: ((1,), (1,)), types: (tf.string, tf.int64)>\n"
          ],
          "name": "stdout"
        }
      ]
    },
    {
      "cell_type": "code",
      "metadata": {
        "id": "TWHxqt9aM914"
      },
      "source": [
        "max_features = 10000\n",
        "#sequence of such length because the length of Twitter post is 280 symbols long\n",
        "sequence_length = 280\n",
        "vectorize_layer = TextVectorization(\n",
        " max_tokens=max_features,\n",
        " output_mode='int',\n",
        " output_sequence_length=int(sequence_length))\n",
        "# Make a text-only dataset (without labels), then call adapt\n",
        "train_text = dataset_a.map(lambda x, y: x)\n",
        "#train_textB=raw_test_dsB.map(lambda x,y:x)\n",
        "vectorize_layer.adapt(train_text)\n",
        "#vectorize_layerB.adapt(train_textB)\n",
        "\n",
        "\n"
      ],
      "execution_count": 32,
      "outputs": []
    },
    {
      "cell_type": "code",
      "metadata": {
        "id": "RII2-dZAQ7-M"
      },
      "source": [
        ""
      ],
      "execution_count": 32,
      "outputs": []
    },
    {
      "cell_type": "code",
      "metadata": {
        "colab": {
          "base_uri": "https://localhost:8080/"
        },
        "id": "7SSnoYWWQREn",
        "outputId": "e75360dd-3cc6-4408-872f-9fc72842bb1f"
      },
      "source": [
        "def vectorize_text(text, label):\n",
        "  #text = tf.expand_dims(text, -1)\n",
        "  return vectorize_layer(text), label\n",
        "# retrieve a batch (of 32 reviews and labels) from the dataset\n",
        "\n",
        "text_batch, label_batch = next(iter(dataset_a))\n",
        "first_review=text_batch[0]\n",
        "first_review, first_label = text_batch[0], label_batch[0]\n",
        "\n",
        "print(\"Review\", first_review)\n",
        "\n",
        "#print(\"Label\", dataset_a.class_names[first_label])\n",
        "print(\"Vectorized review\", vectorize_text(first_review, first_label))"
      ],
      "execution_count": 33,
      "outputs": [
        {
          "output_type": "stream",
          "text": [
            "Review tf.Tensor([b'@user @user @user how do you come up with all these lies. you have not done a thing as far as gun control. open your eyes obama your hero had 8 years in office. all your doing is sucking around for the last minute vote. '], shape=(1,), dtype=string)\n",
            "Vectorized review (<tf.Tensor: shape=(1, 280), dtype=int64, numpy=\n",
            "array([[   2,    2,    2,   52,   45,    8,  220,   60,   23,   30,  108,\n",
            "         374,    8,   25,   21,  244,    6,  160,   36,  266,   36,   26,\n",
            "          29,  481,   32, 1044,  258,   32, 1434,  121, 1308,  151,   13,\n",
            "         575,   30,   32,  149,    4, 2789,  302,   15,    3,  265, 1501,\n",
            "         125,    0,    0,    0,    0,    0,    0,    0,    0,    0,    0,\n",
            "           0,    0,    0,    0,    0,    0,    0,    0,    0,    0,    0,\n",
            "           0,    0,    0,    0,    0,    0,    0,    0,    0,    0,    0,\n",
            "           0,    0,    0,    0,    0,    0,    0,    0,    0,    0,    0,\n",
            "           0,    0,    0,    0,    0,    0,    0,    0,    0,    0,    0,\n",
            "           0,    0,    0,    0,    0,    0,    0,    0,    0,    0,    0,\n",
            "           0,    0,    0,    0,    0,    0,    0,    0,    0,    0,    0,\n",
            "           0,    0,    0,    0,    0,    0,    0,    0,    0,    0,    0,\n",
            "           0,    0,    0,    0,    0,    0,    0,    0,    0,    0,    0,\n",
            "           0,    0,    0,    0,    0,    0,    0,    0,    0,    0,    0,\n",
            "           0,    0,    0,    0,    0,    0,    0,    0,    0,    0,    0,\n",
            "           0,    0,    0,    0,    0,    0,    0,    0,    0,    0,    0,\n",
            "           0,    0,    0,    0,    0,    0,    0,    0,    0,    0,    0,\n",
            "           0,    0,    0,    0,    0,    0,    0,    0,    0,    0,    0,\n",
            "           0,    0,    0,    0,    0,    0,    0,    0,    0,    0,    0,\n",
            "           0,    0,    0,    0,    0,    0,    0,    0,    0,    0,    0,\n",
            "           0,    0,    0,    0,    0,    0,    0,    0,    0,    0,    0,\n",
            "           0,    0,    0,    0,    0,    0,    0,    0,    0,    0,    0,\n",
            "           0,    0,    0,    0,    0,    0,    0,    0,    0,    0,    0,\n",
            "           0,    0,    0,    0,    0,    0,    0,    0,    0,    0,    0,\n",
            "           0,    0,    0,    0,    0,    0,    0,    0,    0,    0,    0,\n",
            "           0,    0,    0,    0,    0]])>, <tf.Tensor: shape=(1,), dtype=int64, numpy=array([1])>)\n"
          ],
          "name": "stdout"
        }
      ]
    },
    {
      "cell_type": "code",
      "metadata": {
        "colab": {
          "base_uri": "https://localhost:8080/"
        },
        "id": "WcVMX3hmRnfc",
        "outputId": "a4a1eddf-a1e7-4261-ba7b-3e4e81e1a558"
      },
      "source": [
        "print(\"7517 ---> \",vectorize_layer.get_vocabulary()[500])\n",
        "print(\" 1953 ---> \",vectorize_layer.get_vocabulary()[1953])\n",
        "print('Vocabulary size: {}'.format(len(vectorize_layer.get_vocabulary())))\n"
      ],
      "execution_count": 34,
      "outputs": [
        {
          "output_type": "stream",
          "text": [
            "7517 --->  sucks\n",
            " 1953 --->  sending\n",
            "Vocabulary size: 10000\n"
          ],
          "name": "stdout"
        }
      ]
    },
    {
      "cell_type": "markdown",
      "metadata": {
        "id": "jBbMrKbgt1Yw"
      },
      "source": [
        ""
      ]
    },
    {
      "cell_type": "code",
      "metadata": {
        "id": "TqqCdVaDSXfl"
      },
      "source": [
        "def map_and_optimize(raw_train,raw_val,raw_test,vectorize_text):\n",
        "  train_ds = raw_train.map(vectorize_text)\n",
        "  val_ds = raw_val.map(vectorize_text)\n",
        "  test_ds = raw_test.map(vectorize_text)\n",
        "\n",
        "  #optimization\n",
        "  AUTOTUNE = tf.data.AUTOTUNE\n",
        "\n",
        "  train_ds = train_ds.cache().prefetch(buffer_size=AUTOTUNE)\n",
        "  val_ds = val_ds.cache().prefetch(buffer_size=AUTOTUNE)\n",
        "  test_ds = test_ds.cache().prefetch(buffer_size=AUTOTUNE)\n",
        "  return train_ds,val_ds,test_ds\n",
        "\n",
        "dataset_a_finished,dataset_a_valid_finished,dataset_a_testing_finished=map_and_optimize(dataset_a,dataset_a_valid,dataset_a_testing,vectorize_text)\n",
        "\n"
      ],
      "execution_count": 35,
      "outputs": []
    },
    {
      "cell_type": "code",
      "metadata": {
        "colab": {
          "base_uri": "https://localhost:8080/"
        },
        "id": "bLfv3dQISfn5",
        "outputId": "5299a9df-f440-4a6d-fdb1-3fc4490cc264"
      },
      "source": [
        "embedding_dim = 48\n",
        "model = tf.keras.Sequential([\n",
        "  layers.Embedding(max_features + 1, embedding_dim),\n",
        "  layers.Dropout(0.2),\n",
        "  layers.GlobalAveragePooling1D(),\n",
        "  layers.Dropout(0.2),\n",
        "  layers.Dense(1)\n",
        "  ])\n",
        "\n",
        "model.summary()"
      ],
      "execution_count": 36,
      "outputs": [
        {
          "output_type": "stream",
          "text": [
            "Model: \"sequential_4\"\n",
            "_________________________________________________________________\n",
            "Layer (type)                 Output Shape              Param #   \n",
            "=================================================================\n",
            "embedding_2 (Embedding)      (None, None, 48)          480048    \n",
            "_________________________________________________________________\n",
            "dropout_4 (Dropout)          (None, None, 48)          0         \n",
            "_________________________________________________________________\n",
            "global_average_pooling1d_2 ( (None, 48)                0         \n",
            "_________________________________________________________________\n",
            "dropout_5 (Dropout)          (None, 48)                0         \n",
            "_________________________________________________________________\n",
            "dense_2 (Dense)              (None, 1)                 49        \n",
            "=================================================================\n",
            "Total params: 480,097\n",
            "Trainable params: 480,097\n",
            "Non-trainable params: 0\n",
            "_________________________________________________________________\n"
          ],
          "name": "stdout"
        }
      ]
    },
    {
      "cell_type": "code",
      "metadata": {
        "id": "oIrMApaQSqpI"
      },
      "source": [
        "# for some reason, in the tutorial the threshold is 0.0, which, in my opinion, is too unfair\n",
        "model.compile(loss=losses.BinaryCrossentropy(from_logits=True,label_smoothing=0.15),\n",
        "              optimizer='adam',\n",
        "              metrics=tf.metrics.BinaryAccuracy(threshold=0.3))\n"
      ],
      "execution_count": 37,
      "outputs": []
    },
    {
      "cell_type": "code",
      "metadata": {
        "colab": {
          "base_uri": "https://localhost:8080/"
        },
        "id": "BUhfnkuvSzmx",
        "outputId": "49a95732-7b41-49f5-fe96-cf35d134a868"
      },
      "source": [
        "epochs = 30\n",
        "history = model.fit(\n",
        "    dataset_a_finished,\n",
        "    validation_data=dataset_a_valid_finished,\n",
        "    epochs=epochs)"
      ],
      "execution_count": 38,
      "outputs": [
        {
          "output_type": "stream",
          "text": [
            "Epoch 1/30\n",
            "331/331 [==============================] - 5s 14ms/step - loss: 0.6531 - binary_accuracy: 0.6680 - val_loss: 0.6495 - val_binary_accuracy: 0.6680\n",
            "Epoch 2/30\n",
            "331/331 [==============================] - 4s 12ms/step - loss: 0.6495 - binary_accuracy: 0.6680 - val_loss: 0.6474 - val_binary_accuracy: 0.6680\n",
            "Epoch 3/30\n",
            "331/331 [==============================] - 4s 13ms/step - loss: 0.6468 - binary_accuracy: 0.6680 - val_loss: 0.6444 - val_binary_accuracy: 0.6680\n",
            "Epoch 4/30\n",
            "331/331 [==============================] - 4s 13ms/step - loss: 0.6434 - binary_accuracy: 0.6680 - val_loss: 0.6403 - val_binary_accuracy: 0.6680\n",
            "Epoch 5/30\n",
            "331/331 [==============================] - 4s 12ms/step - loss: 0.6385 - binary_accuracy: 0.6680 - val_loss: 0.6348 - val_binary_accuracy: 0.6680\n",
            "Epoch 6/30\n",
            "331/331 [==============================] - 4s 13ms/step - loss: 0.6328 - binary_accuracy: 0.6680 - val_loss: 0.6282 - val_binary_accuracy: 0.6680\n",
            "Epoch 7/30\n",
            "331/331 [==============================] - 4s 12ms/step - loss: 0.6261 - binary_accuracy: 0.6688 - val_loss: 0.6206 - val_binary_accuracy: 0.6695\n",
            "Epoch 8/30\n",
            "331/331 [==============================] - 4s 13ms/step - loss: 0.6176 - binary_accuracy: 0.6719 - val_loss: 0.6119 - val_binary_accuracy: 0.6752\n",
            "Epoch 9/30\n",
            "331/331 [==============================] - 4s 12ms/step - loss: 0.6087 - binary_accuracy: 0.6774 - val_loss: 0.6020 - val_binary_accuracy: 0.6833\n",
            "Epoch 10/30\n",
            "331/331 [==============================] - 4s 13ms/step - loss: 0.5985 - binary_accuracy: 0.6860 - val_loss: 0.5910 - val_binary_accuracy: 0.6927\n",
            "Epoch 11/30\n",
            "331/331 [==============================] - 4s 12ms/step - loss: 0.5878 - binary_accuracy: 0.6949 - val_loss: 0.5797 - val_binary_accuracy: 0.7035\n",
            "Epoch 12/30\n",
            "331/331 [==============================] - 4s 13ms/step - loss: 0.5770 - binary_accuracy: 0.7062 - val_loss: 0.5680 - val_binary_accuracy: 0.7145\n",
            "Epoch 13/30\n",
            "331/331 [==============================] - 4s 12ms/step - loss: 0.5655 - binary_accuracy: 0.7164 - val_loss: 0.5561 - val_binary_accuracy: 0.7252\n",
            "Epoch 14/30\n",
            "331/331 [==============================] - 4s 13ms/step - loss: 0.5536 - binary_accuracy: 0.7290 - val_loss: 0.5446 - val_binary_accuracy: 0.7396\n",
            "Epoch 15/30\n",
            "331/331 [==============================] - 4s 13ms/step - loss: 0.5425 - binary_accuracy: 0.7424 - val_loss: 0.5334 - val_binary_accuracy: 0.7472\n",
            "Epoch 16/30\n",
            "331/331 [==============================] - 4s 13ms/step - loss: 0.5314 - binary_accuracy: 0.7560 - val_loss: 0.5229 - val_binary_accuracy: 0.7574\n",
            "Epoch 17/30\n",
            "331/331 [==============================] - 4s 12ms/step - loss: 0.5216 - binary_accuracy: 0.7689 - val_loss: 0.5131 - val_binary_accuracy: 0.7661\n",
            "Epoch 18/30\n",
            "331/331 [==============================] - 4s 12ms/step - loss: 0.5117 - binary_accuracy: 0.7809 - val_loss: 0.5036 - val_binary_accuracy: 0.7779\n",
            "Epoch 19/30\n",
            "331/331 [==============================] - 4s 13ms/step - loss: 0.5025 - binary_accuracy: 0.7946 - val_loss: 0.4948 - val_binary_accuracy: 0.7873\n",
            "Epoch 20/30\n",
            "331/331 [==============================] - 4s 13ms/step - loss: 0.4941 - binary_accuracy: 0.8007 - val_loss: 0.4866 - val_binary_accuracy: 0.7958\n",
            "Epoch 21/30\n",
            "331/331 [==============================] - 4s 13ms/step - loss: 0.4859 - binary_accuracy: 0.8096 - val_loss: 0.4791 - val_binary_accuracy: 0.8016\n",
            "Epoch 22/30\n",
            "331/331 [==============================] - 4s 12ms/step - loss: 0.4784 - binary_accuracy: 0.8172 - val_loss: 0.4721 - val_binary_accuracy: 0.8078\n",
            "Epoch 23/30\n",
            "331/331 [==============================] - 4s 13ms/step - loss: 0.4711 - binary_accuracy: 0.8271 - val_loss: 0.4655 - val_binary_accuracy: 0.8153\n",
            "Epoch 24/30\n",
            "331/331 [==============================] - 4s 13ms/step - loss: 0.4649 - binary_accuracy: 0.8332 - val_loss: 0.4592 - val_binary_accuracy: 0.8254\n",
            "Epoch 25/30\n",
            "331/331 [==============================] - 4s 12ms/step - loss: 0.4589 - binary_accuracy: 0.8398 - val_loss: 0.4531 - val_binary_accuracy: 0.8317\n",
            "Epoch 26/30\n",
            "331/331 [==============================] - 4s 13ms/step - loss: 0.4533 - binary_accuracy: 0.8475 - val_loss: 0.4482 - val_binary_accuracy: 0.8355\n",
            "Epoch 27/30\n",
            "331/331 [==============================] - 4s 13ms/step - loss: 0.4482 - binary_accuracy: 0.8515 - val_loss: 0.4445 - val_binary_accuracy: 0.8369\n",
            "Epoch 28/30\n",
            "331/331 [==============================] - 4s 13ms/step - loss: 0.4437 - binary_accuracy: 0.8555 - val_loss: 0.4385 - val_binary_accuracy: 0.8457\n",
            "Epoch 29/30\n",
            "331/331 [==============================] - 4s 13ms/step - loss: 0.4389 - binary_accuracy: 0.8630 - val_loss: 0.4342 - val_binary_accuracy: 0.8499\n",
            "Epoch 30/30\n",
            "331/331 [==============================] - 4s 13ms/step - loss: 0.4345 - binary_accuracy: 0.8662 - val_loss: 0.4313 - val_binary_accuracy: 0.8512\n"
          ],
          "name": "stdout"
        }
      ]
    },
    {
      "cell_type": "code",
      "metadata": {
        "colab": {
          "base_uri": "https://localhost:8080/"
        },
        "id": "oyHo9xjJTDhh",
        "outputId": "12c7dd32-bc19-4875-f8df-71f59d3cad56"
      },
      "source": [
        "loss, accuracy = model.evaluate(dataset_a_testing_finished)\n",
        "\n",
        "print(\"Loss: \", loss)\n",
        "print(\"Accuracy: \", accuracy)"
      ],
      "execution_count": 39,
      "outputs": [
        {
          "output_type": "stream",
          "text": [
            "860/860 [==============================] - 1s 1ms/step - loss: 0.5598 - binary_accuracy: 0.7802\n",
            "Loss:  0.5597977638244629\n",
            "Accuracy:  0.7802325487136841\n"
          ],
          "name": "stdout"
        }
      ]
    },
    {
      "cell_type": "code",
      "metadata": {
        "id": "HqTCi91FifbJ",
        "colab": {
          "base_uri": "https://localhost:8080/",
          "height": 295
        },
        "outputId": "7c0a6af8-dac2-4990-fb6c-d4c7ddea9bed"
      },
      "source": [
        "history_dict = history.history\n",
        "history_dict.keys()\n",
        "acc = history_dict['binary_accuracy']\n",
        "val_acc = history_dict['val_binary_accuracy']\n",
        "loss = history_dict['loss']\n",
        "val_loss = history_dict['val_loss']\n",
        "\n",
        "epochs = range(1, len(acc) + 1)\n",
        "\n",
        "# \"bo\" is for \"blue dot\"\n",
        "plt.plot(epochs, loss, 'bo', label='Training loss')\n",
        "# b is for \"solid blue line\"\n",
        "plt.plot(epochs, val_loss, 'b', label='Validation loss')\n",
        "plt.title('Training and validation loss')\n",
        "plt.xlabel('Epochs')\n",
        "plt.ylabel('Loss')\n",
        "plt.legend()\n",
        "\n",
        "plt.show()"
      ],
      "execution_count": 40,
      "outputs": [
        {
          "output_type": "display_data",
          "data": {
            "image/png": "[encoded data removed]",
            "text/plain": [
              "<Figure size 432x288 with 1 Axes>"
            ]
          },
          "metadata": {
            "tags": [],
            "needs_background": "light"
          }
        }
      ]
    },
    {
      "cell_type": "code",
      "metadata": {
        "id": "isF7ZU-5kvRu",
        "colab": {
          "base_uri": "https://localhost:8080/",
          "height": 295
        },
        "outputId": "5b2edb58-cfda-4655-d388-39259dcc8f9b"
      },
      "source": [
        "plt.plot(epochs, acc, 'bo', label='Training acc')\n",
        "plt.plot(epochs, val_acc, 'b', label='Validation acc')\n",
        "plt.title('Training and validation accuracy')\n",
        "plt.xlabel('Epochs')\n",
        "plt.ylabel('Accuracy')\n",
        "plt.legend(loc='lower right')\n",
        "\n",
        "plt.show()\n"
      ],
      "execution_count": 41,
      "outputs": [
        {
          "output_type": "display_data",
          "data": {
            "image/png": "[encoded data removed]",
            "text/plain": [
              "<Figure size 432x288 with 1 Axes>"
            ]
          },
          "metadata": {
            "tags": [],
            "needs_background": "light"
          }
        }
      ]
    },
    {
      "cell_type": "code",
      "metadata": {
        "colab": {
          "base_uri": "https://localhost:8080/"
        },
        "id": "7-lsefCx7rXh",
        "outputId": "a3421b01-1f83-4d5a-8988-c3ef762b1eec"
      },
      "source": [
        "export_model = tf.keras.Sequential([\n",
        "  vectorize_layer,\n",
        "  model,\n",
        "  layers.Activation('sigmoid')\n",
        "])\n",
        "\n",
        "export_model.compile(\n",
        "    loss=losses.BinaryCrossentropy(from_logits=False), optimizer=\"adam\", metrics=['accuracy']\n",
        ")\n",
        "\n",
        "examples = [\n",
        "  \"MAGA TRUMP MAGA TRUMP WON\",\n",
        "  \"JOE BIDEN JOE BIDEN VOTE BLUE NO MATTER WHO\",\n",
        "  \"NIGGER NIGGER NIGGER NIGGER NIGGER NIGGER NIGGER NIGGER NIGGER NIGGER\",\n",
        "  \"Nigger is an offensive and derogatory word that is used to insulf all people of color (not only afro-americans) \",\n",
        "  \"Love is good, I love everyone and wish you all the best things in life\",\n",
        "  \"Believe in Jesus and he will believe in you\",\n",
        "  \"Democracy is one of the most important aspect of every US cityzen's life\",\n",
        "  \"TRUMP\",\n",
        "  \"BIDEN\",\n",
        "  \"#MAGA\",\n",
        "  \"NIGGER JEW HOLOCAUST HITLER TRUMP PUTIN 9/11 ELECTION FRAUD  ALLAH\",\n",
        "  \"NIGGER JEW HOLOCAUST HITLER TRUMP PUTIN 9/11 ELECTION FRAUD JESUS ALLAH Jesus Jesus\",\n",
        "]\n",
        "loss, accuracy = export_model.evaluate(dataset_a_testing)\n",
        "print(accuracy)\n",
        "export_model.predict(examples)\n"
      ],
      "execution_count": 42,
      "outputs": [
        {
          "output_type": "stream",
          "text": [
            "860/860 [==============================] - 1s 1ms/step - loss: 0.4706 - accuracy: 0.7860\n",
            "0.7860465049743652\n"
          ],
          "name": "stdout"
        },
        {
          "output_type": "execute_result",
          "data": {
            "text/plain": [
              "array([[0.29088283],\n",
              "       [0.28345633],\n",
              "       [0.6954864 ],\n",
              "       [0.30615252],\n",
              "       [0.04440102],\n",
              "       [0.3359507 ],\n",
              "       [0.09223202],\n",
              "       [0.24702436],\n",
              "       [0.24494675],\n",
              "       [0.23304603],\n",
              "       [0.5856401 ],\n",
              "       [0.6374905 ]], dtype=float32)"
            ]
          },
          "metadata": {
            "tags": []
          },
          "execution_count": 42
        }
      ]
    },
    {
      "cell_type": "code",
      "metadata": {
        "colab": {
          "base_uri": "https://localhost:8080/"
        },
        "id": "RxsQn5Bj9DKt",
        "outputId": "c8c75c03-854e-438f-9719-947b8fc69352"
      },
      "source": [
        "file = open('/content/olid-training-v1.0.tsv', 'r')\n",
        "Lines = file.readlines()\n",
        " \n",
        "\n",
        "all_lines=[]\n",
        "\n",
        "for line in Lines:\n",
        "    splitted=line.split()\n",
        "    splitted_list=[]\n",
        "    tweet=''\n",
        "    length=len(splitted)\n",
        "    splitted_list.append(splitted[0])\n",
        "    for i in range(1,length-3):\n",
        "      tweet+=splitted[i] + \" \"\n",
        "    tweet=tweet.lower().strip('!\"$%&()*+,-./:;<=>?[\\]^_`{|}~\\t\\n' )\n",
        "    splitted_list.append(tweet)\n",
        "    splitted_list.append(splitted[length-3])\n",
        "    second_atribute=splitted[length-2]\n",
        "    splitted_list.append(second_atribute)\n",
        "    if second_atribute ==\"UNT\" or second_atribute ==\"TIN\":\n",
        "      all_lines.append(splitted_list)\n",
        "print(all_lines[:5])\n",
        "all_lines=all_lines[1:]\n",
        "df = pd.DataFrame(all_lines, columns =['id', 'tweet', 'subtask_a','subtask_b'])\n",
        "labels_b = df.pop('subtask_b')\n",
        "df=df.drop(columns=['id','subtask_a'])\n",
        "df.head()\n",
        "labels_b"
      ],
      "execution_count": 43,
      "outputs": [
        {
          "output_type": "stream",
          "text": [
            "[['86426', '@user she should ask a few native americans what their take on this is. ', 'OFF', 'UNT'], ['90194', '@user @user go home you’re drunk!!! @user #maga #trump2020 👊🇺🇸👊 url ', 'OFF', 'TIN'], ['62688', '@user someone should\\'vetaken\"\" this piece of shit to a volcano. 😂\"\"\" ', 'OFF', 'UNT'], ['97670', '@user liberals are all kookoo !!! ', 'OFF', 'TIN'], ['77444', '@user @user oh noes! tough shit. ', 'OFF', 'UNT']]\n"
          ],
          "name": "stdout"
        },
        {
          "output_type": "execute_result",
          "data": {
            "text/plain": [
              "0       TIN\n",
              "1       UNT\n",
              "2       TIN\n",
              "3       UNT\n",
              "4       TIN\n",
              "       ... \n",
              "4394    TIN\n",
              "4395    TIN\n",
              "4396    TIN\n",
              "4397    TIN\n",
              "4398    UNT\n",
              "Name: subtask_b, Length: 4399, dtype: object"
            ]
          },
          "metadata": {
            "tags": []
          },
          "execution_count": 43
        }
      ]
    },
    {
      "cell_type": "code",
      "metadata": {
        "colab": {
          "base_uri": "https://localhost:8080/",
          "height": 240
        },
        "id": "e2YnA2WS9029",
        "outputId": "da631677-03fd-4a32-d412-190d40e07c3b"
      },
      "source": [
        "testing_values_b = open('/content/testset-levelb.tsv', 'r')\n",
        "Lines_values = testing_values_b.readlines()\n",
        "testing_labels_b = open('/content/labels-levelb.csv', 'r')\n",
        "Lines_labels = testing_labels_b.readlines()\n",
        "Lines_values=Lines_values[1:]\n",
        "\n",
        "\n",
        "all_lines=[]\n",
        "\n",
        "for line in zip(Lines_values,Lines_labels):\n",
        "    splitted=line[0].split()\n",
        "    splitted_labels=line[1].split(',')\n",
        "    splitted_list=[]\n",
        "    tweet=''\n",
        "    length=len(splitted)\n",
        "    splitted_list.append(splitted[0])\n",
        "    for i in range(1,length):\n",
        "      tweet+=splitted[i] + \" \"\n",
        "    tweet=tweet.lower().strip('!\"$%&()*+,-./:;<=>?[\\]^_`{|}~\\t\\n' )\n",
        "    splitted_list.append(tweet)\n",
        "    label=splitted_labels[1]\n",
        "    #print(label)\n",
        "    \n",
        "    if label ==\"UNT\\n\" or label ==\"TIN\\n\":\n",
        "      splitted_list.append(label)\n",
        "      all_lines.append(splitted_list)\n",
        "    else:\n",
        "      print(label)\n",
        "    \n",
        "print(all_lines[:5])\n",
        "df_testing_b = pd.DataFrame(all_lines, columns =['id', 'tweet','subtask_b'])\n",
        "labels_b_test = df_testing_b.pop('subtask_b')\n",
        "df_testing_b=df_testing_b.drop(columns=['id'])\n",
        "df_testing_b.head()"
      ],
      "execution_count": 44,
      "outputs": [
        {
          "output_type": "stream",
          "text": [
            "[['15923', '#whoisq #wherestheserver #dumpnike #declasfisa democrats support antifa, muslim brotherhood, ms13, isis, pedophilia, child trafficking, taxpayer funded abortion’s, election fraud, sedition and treason!!! #lockthemallup #wwg1wga #qanon \\u2066@user url ', 'TIN\\n'], ['60133', '#nopasaran: unity demo to oppose the far-right in #london – #antifa #oct13 — enough is enough! url ', 'TIN\\n'], ['83681', ' . . what the fuck did he do this time? ', 'TIN\\n'], ['65507', '@user do you get the feeling he is kissing @user behind so he can humiliate him later? ', 'TIN\\n'], ['12588', '@user nigga ware da hits at ', 'UNT\\n']]\n"
          ],
          "name": "stdout"
        },
        {
          "output_type": "execute_result",
          "data": {
            "text/html": [
              "<div>\n",
              "<style scoped>\n",
              "    .dataframe tbody tr th:only-of-type {\n",
              "        vertical-align: middle;\n",
              "    }\n",
              "\n",
              "    .dataframe tbody tr th {\n",
              "        vertical-align: top;\n",
              "    }\n",
              "\n",
              "    .dataframe thead th {\n",
              "        text-align: right;\n",
              "    }\n",
              "</style>\n",
              "<table border=\"1\" class=\"dataframe\">\n",
              "  <thead>\n",
              "    <tr style=\"text-align: right;\">\n",
              "      <th></th>\n",
              "      <th>tweet</th>\n",
              "    </tr>\n",
              "  </thead>\n",
              "  <tbody>\n",
              "    <tr>\n",
              "      <th>0</th>\n",
              "      <td>#whoisq #wherestheserver #dumpnike #declasfisa...</td>\n",
              "    </tr>\n",
              "    <tr>\n",
              "      <th>1</th>\n",
              "      <td>#nopasaran: unity demo to oppose the far-right...</td>\n",
              "    </tr>\n",
              "    <tr>\n",
              "      <th>2</th>\n",
              "      <td>. . what the fuck did he do this time?</td>\n",
              "    </tr>\n",
              "    <tr>\n",
              "      <th>3</th>\n",
              "      <td>@user do you get the feeling he is kissing @us...</td>\n",
              "    </tr>\n",
              "    <tr>\n",
              "      <th>4</th>\n",
              "      <td>@user nigga ware da hits at</td>\n",
              "    </tr>\n",
              "  </tbody>\n",
              "</table>\n",
              "</div>"
            ],
            "text/plain": [
              "                                               tweet\n",
              "0  #whoisq #wherestheserver #dumpnike #declasfisa...\n",
              "1  #nopasaran: unity demo to oppose the far-right...\n",
              "2            . . what the fuck did he do this time? \n",
              "3  @user do you get the feeling he is kissing @us...\n",
              "4                       @user nigga ware da hits at "
            ]
          },
          "metadata": {
            "tags": []
          },
          "execution_count": 44
        }
      ]
    },
    {
      "cell_type": "code",
      "metadata": {
        "colab": {
          "base_uri": "https://localhost:8080/"
        },
        "id": "OVVMZQWksTwq",
        "outputId": "eacea41c-827e-477f-fb65-1b9b1038c10c"
      },
      "source": [
        "X_train_b, X_val_b, y_train_b, y_val_b = train_test_split(df.values, labels_b.values, test_size=0.20, random_state=33)\n",
        "training_x=pd.DataFrame(X_train_b,columns =['tweet'] )\n",
        "training_Y=pd.DataFrame(y_train_b,columns =['subtask_b'] )\n",
        "\n",
        "validation_x=pd.DataFrame(X_train_b,columns =[ 'tweet'] )\n",
        "validation_y=pd.DataFrame(y_train_b,columns =['subtask_b'] )\n",
        "\n",
        "lb = preprocessing.LabelBinarizer()\n",
        "training_Y = lb.fit_transform(training_Y)\n",
        "validation_y = lb.fit_transform(training_Y)\n",
        "\n",
        "labels_b_test=lb.fit_transform(labels_b_test)\n",
        "\n",
        "\n",
        "training_Y=pd.DataFrame(training_Y,columns =['subtask_b'] )\n",
        "training_b=pd.concat([training_x ,training_Y],axis=1)\n",
        "\n",
        "dataset_b = tf.data.Dataset.from_tensor_slices((training_x,training_Y))\n",
        "dataset_b_valid= tf.data.Dataset.from_tensor_slices((validation_x,validation_y))\n",
        "dataset_b_testing=tf.data.Dataset.from_tensor_slices((df_testing_b.values,labels_b_test))\n",
        "dataset_b=dataset_b.batch(32)\n",
        "dataset_b_valid=dataset_b_valid.batch(32)\n",
        "dataset_b_testing.batch(32)\n",
        "print(dataset_b)\n",
        "print(dataset_b_valid)\n",
        "print(dataset_b_testing)"
      ],
      "execution_count": 45,
      "outputs": [
        {
          "output_type": "stream",
          "text": [
            "<BatchDataset shapes: ((None, 1), (None, 1)), types: (tf.string, tf.int64)>\n",
            "<BatchDataset shapes: ((None, 1), (None, 1)), types: (tf.string, tf.int64)>\n",
            "<TensorSliceDataset shapes: ((1,), (1,)), types: (tf.string, tf.int64)>\n"
          ],
          "name": "stdout"
        }
      ]
    },
    {
      "cell_type": "code",
      "metadata": {
        "id": "3jTnBrG0ACkf"
      },
      "source": [
        "max_features = 10000\n",
        "#sequence of such length because the length of Twitter post is 280 symbols long\n",
        "sequence_length = 280\n",
        "\n",
        "\n",
        "train_text = dataset_b.map(lambda x, y: x)\n",
        "\n",
        "vectorize_layer.adapt(train_text)\n",
        "\n"
      ],
      "execution_count": 46,
      "outputs": []
    },
    {
      "cell_type": "code",
      "metadata": {
        "id": "qhX7uLYf19vB"
      },
      "source": [
        "dataset_b_finished,dataset_b_valid_finished,dataset_b_testing_finished=map_and_optimize(dataset_b,dataset_b_valid,dataset_b_testing,vectorize_text)\n",
        "\n",
        "\n",
        "\n",
        "\n",
        "\n"
      ],
      "execution_count": 47,
      "outputs": []
    },
    {
      "cell_type": "code",
      "metadata": {
        "colab": {
          "base_uri": "https://localhost:8080/"
        },
        "id": "bvHAKW4y2UJj",
        "outputId": "46e221d5-72a5-4082-d9c0-cd2cbe0069d1"
      },
      "source": [
        "embedding_dim = 64\n",
        "model = tf.keras.Sequential([\n",
        "  layers.Embedding(max_features + 1, embedding_dim),\n",
        "  layers.Dropout(0.2),\n",
        "  layers.GlobalAveragePooling1D(),\n",
        "  layers.Dropout(0.2),\n",
        "  layers.Dense(1)\n",
        "  ])\n",
        "\n",
        "model.summary()"
      ],
      "execution_count": 48,
      "outputs": [
        {
          "output_type": "stream",
          "text": [
            "Model: \"sequential_6\"\n",
            "_________________________________________________________________\n",
            "Layer (type)                 Output Shape              Param #   \n",
            "=================================================================\n",
            "embedding_3 (Embedding)      (None, None, 64)          640064    \n",
            "_________________________________________________________________\n",
            "dropout_6 (Dropout)          (None, None, 64)          0         \n",
            "_________________________________________________________________\n",
            "global_average_pooling1d_3 ( (None, 64)                0         \n",
            "_________________________________________________________________\n",
            "dropout_7 (Dropout)          (None, 64)                0         \n",
            "_________________________________________________________________\n",
            "dense_3 (Dense)              (None, 1)                 65        \n",
            "=================================================================\n",
            "Total params: 640,129\n",
            "Trainable params: 640,129\n",
            "Non-trainable params: 0\n",
            "_________________________________________________________________\n"
          ],
          "name": "stdout"
        }
      ]
    },
    {
      "cell_type": "code",
      "metadata": {
        "id": "DTCSyVqT2b-P"
      },
      "source": [
        "model.compile(loss=losses.BinaryCrossentropy(from_logits=True,label_smoothing=0.15),\n",
        "              optimizer='adam',\n",
        "              metrics=tf.metrics.BinaryAccuracy(threshold=0.5))"
      ],
      "execution_count": 49,
      "outputs": []
    },
    {
      "cell_type": "code",
      "metadata": {
        "colab": {
          "base_uri": "https://localhost:8080/"
        },
        "id": "WnYFfg_GED4R",
        "outputId": "04eed65b-c165-40c9-aae9-2a1ad558c1db"
      },
      "source": [
        "epochs = 100\n",
        "historyB = model.fit(\n",
        "    dataset_b_finished,\n",
        "    validation_data=dataset_b_valid_finished,\n",
        "    epochs=epochs)"
      ],
      "execution_count": 50,
      "outputs": [
        {
          "output_type": "stream",
          "text": [
            "Epoch 1/100\n",
            "110/110 [==============================] - 3s 18ms/step - loss: 0.5482 - binary_accuracy: 0.8798 - val_loss: 0.4718 - val_binary_accuracy: 0.8798\n",
            "Epoch 2/100\n",
            "110/110 [==============================] - 2s 16ms/step - loss: 0.4697 - binary_accuracy: 0.8798 - val_loss: 0.4674 - val_binary_accuracy: 0.8798\n",
            "Epoch 3/100\n",
            "110/110 [==============================] - 2s 16ms/step - loss: 0.4671 - binary_accuracy: 0.8798 - val_loss: 0.4664 - val_binary_accuracy: 0.8798\n",
            "Epoch 4/100\n",
            "110/110 [==============================] - 2s 16ms/step - loss: 0.4675 - binary_accuracy: 0.8798 - val_loss: 0.4655 - val_binary_accuracy: 0.8798\n",
            "Epoch 5/100\n",
            "110/110 [==============================] - 2s 16ms/step - loss: 0.4666 - binary_accuracy: 0.8798 - val_loss: 0.4644 - val_binary_accuracy: 0.8798\n",
            "Epoch 6/100\n",
            "110/110 [==============================] - 2s 16ms/step - loss: 0.4653 - binary_accuracy: 0.8798 - val_loss: 0.4633 - val_binary_accuracy: 0.8798\n",
            "Epoch 7/100\n",
            "110/110 [==============================] - 2s 15ms/step - loss: 0.4646 - binary_accuracy: 0.8798 - val_loss: 0.4622 - val_binary_accuracy: 0.8798\n",
            "Epoch 8/100\n",
            "110/110 [==============================] - 2s 16ms/step - loss: 0.4626 - binary_accuracy: 0.8798 - val_loss: 0.4610 - val_binary_accuracy: 0.8798\n",
            "Epoch 9/100\n",
            "110/110 [==============================] - 2s 16ms/step - loss: 0.4617 - binary_accuracy: 0.8798 - val_loss: 0.4598 - val_binary_accuracy: 0.8798\n",
            "Epoch 10/100\n",
            "110/110 [==============================] - 2s 16ms/step - loss: 0.4609 - binary_accuracy: 0.8798 - val_loss: 0.4584 - val_binary_accuracy: 0.8798\n",
            "Epoch 11/100\n",
            "110/110 [==============================] - 2s 16ms/step - loss: 0.4587 - binary_accuracy: 0.8798 - val_loss: 0.4570 - val_binary_accuracy: 0.8798\n",
            "Epoch 12/100\n",
            "110/110 [==============================] - 2s 16ms/step - loss: 0.4574 - binary_accuracy: 0.8798 - val_loss: 0.4555 - val_binary_accuracy: 0.8798\n",
            "Epoch 13/100\n",
            "110/110 [==============================] - 2s 16ms/step - loss: 0.4561 - binary_accuracy: 0.8798 - val_loss: 0.4539 - val_binary_accuracy: 0.8798\n",
            "Epoch 14/100\n",
            "110/110 [==============================] - 2s 16ms/step - loss: 0.4548 - binary_accuracy: 0.8798 - val_loss: 0.4523 - val_binary_accuracy: 0.8798\n",
            "Epoch 15/100\n",
            "110/110 [==============================] - 2s 16ms/step - loss: 0.4524 - binary_accuracy: 0.8798 - val_loss: 0.4505 - val_binary_accuracy: 0.8798\n",
            "Epoch 16/100\n",
            "110/110 [==============================] - 2s 16ms/step - loss: 0.4508 - binary_accuracy: 0.8798 - val_loss: 0.4487 - val_binary_accuracy: 0.8798\n",
            "Epoch 17/100\n",
            "110/110 [==============================] - 2s 18ms/step - loss: 0.4489 - binary_accuracy: 0.8798 - val_loss: 0.4468 - val_binary_accuracy: 0.8798\n",
            "Epoch 18/100\n",
            "110/110 [==============================] - 2s 16ms/step - loss: 0.4482 - binary_accuracy: 0.8798 - val_loss: 0.4450 - val_binary_accuracy: 0.8798\n",
            "Epoch 19/100\n",
            "110/110 [==============================] - 2s 16ms/step - loss: 0.4453 - binary_accuracy: 0.8798 - val_loss: 0.4430 - val_binary_accuracy: 0.8798\n",
            "Epoch 20/100\n",
            "110/110 [==============================] - 2s 16ms/step - loss: 0.4442 - binary_accuracy: 0.8798 - val_loss: 0.4409 - val_binary_accuracy: 0.8798\n",
            "Epoch 21/100\n",
            "110/110 [==============================] - 2s 16ms/step - loss: 0.4416 - binary_accuracy: 0.8798 - val_loss: 0.4388 - val_binary_accuracy: 0.8798\n",
            "Epoch 22/100\n",
            "110/110 [==============================] - 2s 16ms/step - loss: 0.4398 - binary_accuracy: 0.8798 - val_loss: 0.4367 - val_binary_accuracy: 0.8798\n",
            "Epoch 23/100\n",
            "110/110 [==============================] - 2s 16ms/step - loss: 0.4366 - binary_accuracy: 0.8798 - val_loss: 0.4345 - val_binary_accuracy: 0.8798\n",
            "Epoch 24/100\n",
            "110/110 [==============================] - 2s 16ms/step - loss: 0.4351 - binary_accuracy: 0.8798 - val_loss: 0.4321 - val_binary_accuracy: 0.8798\n",
            "Epoch 25/100\n",
            "110/110 [==============================] - 2s 16ms/step - loss: 0.4319 - binary_accuracy: 0.8798 - val_loss: 0.4298 - val_binary_accuracy: 0.8798\n",
            "Epoch 26/100\n",
            "110/110 [==============================] - 2s 16ms/step - loss: 0.4306 - binary_accuracy: 0.8798 - val_loss: 0.4273 - val_binary_accuracy: 0.8798\n",
            "Epoch 27/100\n",
            "110/110 [==============================] - 2s 16ms/step - loss: 0.4282 - binary_accuracy: 0.8798 - val_loss: 0.4247 - val_binary_accuracy: 0.8798\n",
            "Epoch 28/100\n",
            "110/110 [==============================] - 2s 16ms/step - loss: 0.4244 - binary_accuracy: 0.8798 - val_loss: 0.4220 - val_binary_accuracy: 0.8798\n",
            "Epoch 29/100\n",
            "110/110 [==============================] - 2s 16ms/step - loss: 0.4224 - binary_accuracy: 0.8798 - val_loss: 0.4193 - val_binary_accuracy: 0.8798\n",
            "Epoch 30/100\n",
            "110/110 [==============================] - 2s 16ms/step - loss: 0.4200 - binary_accuracy: 0.8798 - val_loss: 0.4165 - val_binary_accuracy: 0.8798\n",
            "Epoch 31/100\n",
            "110/110 [==============================] - 2s 16ms/step - loss: 0.4174 - binary_accuracy: 0.8798 - val_loss: 0.4136 - val_binary_accuracy: 0.8798\n",
            "Epoch 32/100\n",
            "110/110 [==============================] - 2s 16ms/step - loss: 0.4140 - binary_accuracy: 0.8798 - val_loss: 0.4106 - val_binary_accuracy: 0.8798\n",
            "Epoch 33/100\n",
            "110/110 [==============================] - 2s 16ms/step - loss: 0.4114 - binary_accuracy: 0.8798 - val_loss: 0.4076 - val_binary_accuracy: 0.8798\n",
            "Epoch 34/100\n",
            "110/110 [==============================] - 2s 16ms/step - loss: 0.4082 - binary_accuracy: 0.8798 - val_loss: 0.4046 - val_binary_accuracy: 0.8798\n",
            "Epoch 35/100\n",
            "110/110 [==============================] - 2s 16ms/step - loss: 0.4054 - binary_accuracy: 0.8798 - val_loss: 0.4015 - val_binary_accuracy: 0.8798\n",
            "Epoch 36/100\n",
            "110/110 [==============================] - 2s 16ms/step - loss: 0.4015 - binary_accuracy: 0.8801 - val_loss: 0.3985 - val_binary_accuracy: 0.8801\n",
            "Epoch 37/100\n",
            "110/110 [==============================] - 2s 18ms/step - loss: 0.3994 - binary_accuracy: 0.8806 - val_loss: 0.3954 - val_binary_accuracy: 0.8806\n",
            "Epoch 38/100\n",
            "110/110 [==============================] - 2s 16ms/step - loss: 0.3966 - binary_accuracy: 0.8812 - val_loss: 0.3925 - val_binary_accuracy: 0.8812\n",
            "Epoch 39/100\n",
            "110/110 [==============================] - 2s 16ms/step - loss: 0.3937 - binary_accuracy: 0.8824 - val_loss: 0.3895 - val_binary_accuracy: 0.8818\n",
            "Epoch 40/100\n",
            "110/110 [==============================] - 2s 16ms/step - loss: 0.3904 - binary_accuracy: 0.8824 - val_loss: 0.3867 - val_binary_accuracy: 0.8829\n",
            "Epoch 41/100\n",
            "110/110 [==============================] - 2s 16ms/step - loss: 0.3880 - binary_accuracy: 0.8838 - val_loss: 0.3838 - val_binary_accuracy: 0.8843\n",
            "Epoch 42/100\n",
            "110/110 [==============================] - 2s 16ms/step - loss: 0.3850 - binary_accuracy: 0.8855 - val_loss: 0.3811 - val_binary_accuracy: 0.8852\n",
            "Epoch 43/100\n",
            "110/110 [==============================] - 2s 16ms/step - loss: 0.3827 - binary_accuracy: 0.8863 - val_loss: 0.3784 - val_binary_accuracy: 0.8878\n",
            "Epoch 44/100\n",
            "110/110 [==============================] - 2s 18ms/step - loss: 0.3798 - binary_accuracy: 0.8892 - val_loss: 0.3758 - val_binary_accuracy: 0.8892\n",
            "Epoch 45/100\n",
            "110/110 [==============================] - 2s 16ms/step - loss: 0.3766 - binary_accuracy: 0.8912 - val_loss: 0.3733 - val_binary_accuracy: 0.8912\n",
            "Epoch 46/100\n",
            "110/110 [==============================] - 2s 17ms/step - loss: 0.3744 - binary_accuracy: 0.8937 - val_loss: 0.3709 - val_binary_accuracy: 0.8932\n",
            "Epoch 47/100\n",
            "110/110 [==============================] - 2s 16ms/step - loss: 0.3723 - binary_accuracy: 0.8957 - val_loss: 0.3685 - val_binary_accuracy: 0.8954\n",
            "Epoch 48/100\n",
            "110/110 [==============================] - 2s 16ms/step - loss: 0.3697 - binary_accuracy: 0.8971 - val_loss: 0.3664 - val_binary_accuracy: 0.8968\n",
            "Epoch 49/100\n",
            "110/110 [==============================] - 2s 16ms/step - loss: 0.3673 - binary_accuracy: 0.8983 - val_loss: 0.3641 - val_binary_accuracy: 0.9003\n",
            "Epoch 50/100\n",
            "110/110 [==============================] - 2s 16ms/step - loss: 0.3659 - binary_accuracy: 0.9022 - val_loss: 0.3618 - val_binary_accuracy: 0.9034\n",
            "Epoch 51/100\n",
            "110/110 [==============================] - 2s 16ms/step - loss: 0.3635 - binary_accuracy: 0.9037 - val_loss: 0.3598 - val_binary_accuracy: 0.9048\n",
            "Epoch 52/100\n",
            "110/110 [==============================] - 2s 16ms/step - loss: 0.3615 - binary_accuracy: 0.9076 - val_loss: 0.3579 - val_binary_accuracy: 0.9065\n",
            "Epoch 53/100\n",
            "110/110 [==============================] - 2s 18ms/step - loss: 0.3598 - binary_accuracy: 0.9085 - val_loss: 0.3559 - val_binary_accuracy: 0.9079\n",
            "Epoch 54/100\n",
            "110/110 [==============================] - 2s 17ms/step - loss: 0.3569 - binary_accuracy: 0.9099 - val_loss: 0.3540 - val_binary_accuracy: 0.9096\n",
            "Epoch 55/100\n",
            "110/110 [==============================] - 2s 17ms/step - loss: 0.3561 - binary_accuracy: 0.9113 - val_loss: 0.3524 - val_binary_accuracy: 0.9108\n",
            "Epoch 56/100\n",
            "110/110 [==============================] - 2s 16ms/step - loss: 0.3532 - binary_accuracy: 0.9139 - val_loss: 0.3504 - val_binary_accuracy: 0.9130\n",
            "Epoch 57/100\n",
            "110/110 [==============================] - 2s 17ms/step - loss: 0.3518 - binary_accuracy: 0.9156 - val_loss: 0.3487 - val_binary_accuracy: 0.9147\n",
            "Epoch 58/100\n",
            "110/110 [==============================] - 2s 17ms/step - loss: 0.3500 - binary_accuracy: 0.9182 - val_loss: 0.3470 - val_binary_accuracy: 0.9159\n",
            "Epoch 59/100\n",
            "110/110 [==============================] - 2s 16ms/step - loss: 0.3483 - binary_accuracy: 0.9204 - val_loss: 0.3456 - val_binary_accuracy: 0.9162\n",
            "Epoch 60/100\n",
            "110/110 [==============================] - 2s 16ms/step - loss: 0.3463 - binary_accuracy: 0.9216 - val_loss: 0.3436 - val_binary_accuracy: 0.9193\n",
            "Epoch 61/100\n",
            "110/110 [==============================] - 2s 16ms/step - loss: 0.3452 - binary_accuracy: 0.9247 - val_loss: 0.3422 - val_binary_accuracy: 0.9207\n",
            "Epoch 62/100\n",
            "110/110 [==============================] - 2s 17ms/step - loss: 0.3435 - binary_accuracy: 0.9267 - val_loss: 0.3409 - val_binary_accuracy: 0.9227\n",
            "Epoch 63/100\n",
            "110/110 [==============================] - 2s 16ms/step - loss: 0.3423 - binary_accuracy: 0.9275 - val_loss: 0.3393 - val_binary_accuracy: 0.9244\n",
            "Epoch 64/100\n",
            "110/110 [==============================] - 2s 17ms/step - loss: 0.3405 - binary_accuracy: 0.9298 - val_loss: 0.3381 - val_binary_accuracy: 0.9250\n",
            "Epoch 65/100\n",
            "110/110 [==============================] - 2s 18ms/step - loss: 0.3391 - binary_accuracy: 0.9295 - val_loss: 0.3366 - val_binary_accuracy: 0.9267\n",
            "Epoch 66/100\n",
            "110/110 [==============================] - 2s 16ms/step - loss: 0.3375 - binary_accuracy: 0.9321 - val_loss: 0.3354 - val_binary_accuracy: 0.9273\n",
            "Epoch 67/100\n",
            "110/110 [==============================] - 2s 17ms/step - loss: 0.3364 - binary_accuracy: 0.9352 - val_loss: 0.3339 - val_binary_accuracy: 0.9304\n",
            "Epoch 68/100\n",
            "110/110 [==============================] - 2s 17ms/step - loss: 0.3350 - binary_accuracy: 0.9358 - val_loss: 0.3326 - val_binary_accuracy: 0.9315\n",
            "Epoch 69/100\n",
            "110/110 [==============================] - 2s 16ms/step - loss: 0.3333 - binary_accuracy: 0.9383 - val_loss: 0.3315 - val_binary_accuracy: 0.9324\n",
            "Epoch 70/100\n",
            "110/110 [==============================] - 2s 16ms/step - loss: 0.3328 - binary_accuracy: 0.9378 - val_loss: 0.3297 - val_binary_accuracy: 0.9363\n",
            "Epoch 71/100\n",
            "110/110 [==============================] - 2s 18ms/step - loss: 0.3307 - binary_accuracy: 0.9412 - val_loss: 0.3290 - val_binary_accuracy: 0.9361\n",
            "Epoch 72/100\n",
            "110/110 [==============================] - 2s 18ms/step - loss: 0.3299 - binary_accuracy: 0.9412 - val_loss: 0.3276 - val_binary_accuracy: 0.9381\n",
            "Epoch 73/100\n",
            "110/110 [==============================] - 2s 16ms/step - loss: 0.3287 - binary_accuracy: 0.9412 - val_loss: 0.3266 - val_binary_accuracy: 0.9398\n",
            "Epoch 74/100\n",
            "110/110 [==============================] - 2s 16ms/step - loss: 0.3276 - binary_accuracy: 0.9434 - val_loss: 0.3257 - val_binary_accuracy: 0.9400\n",
            "Epoch 75/100\n",
            "110/110 [==============================] - 2s 18ms/step - loss: 0.3262 - binary_accuracy: 0.9454 - val_loss: 0.3242 - val_binary_accuracy: 0.9432\n",
            "Epoch 76/100\n",
            "110/110 [==============================] - 2s 17ms/step - loss: 0.3252 - binary_accuracy: 0.9469 - val_loss: 0.3233 - val_binary_accuracy: 0.9437\n",
            "Epoch 77/100\n",
            "110/110 [==============================] - 2s 16ms/step - loss: 0.3245 - binary_accuracy: 0.9469 - val_loss: 0.3225 - val_binary_accuracy: 0.9437\n",
            "Epoch 78/100\n",
            "110/110 [==============================] - 2s 18ms/step - loss: 0.3233 - binary_accuracy: 0.9486 - val_loss: 0.3216 - val_binary_accuracy: 0.9443\n",
            "Epoch 79/100\n",
            "110/110 [==============================] - 2s 16ms/step - loss: 0.3221 - binary_accuracy: 0.9508 - val_loss: 0.3204 - val_binary_accuracy: 0.9460\n",
            "Epoch 80/100\n",
            "110/110 [==============================] - 2s 16ms/step - loss: 0.3212 - binary_accuracy: 0.9511 - val_loss: 0.3192 - val_binary_accuracy: 0.9474\n",
            "Epoch 81/100\n",
            "110/110 [==============================] - 2s 16ms/step - loss: 0.3202 - binary_accuracy: 0.9520 - val_loss: 0.3181 - val_binary_accuracy: 0.9480\n",
            "Epoch 82/100\n",
            "110/110 [==============================] - 2s 16ms/step - loss: 0.3193 - binary_accuracy: 0.9525 - val_loss: 0.3175 - val_binary_accuracy: 0.9483\n",
            "Epoch 83/100\n",
            "110/110 [==============================] - 2s 17ms/step - loss: 0.3181 - binary_accuracy: 0.9548 - val_loss: 0.3169 - val_binary_accuracy: 0.9483\n",
            "Epoch 84/100\n",
            "110/110 [==============================] - 2s 16ms/step - loss: 0.3173 - binary_accuracy: 0.9557 - val_loss: 0.3156 - val_binary_accuracy: 0.9503\n",
            "Epoch 85/100\n",
            "110/110 [==============================] - 2s 17ms/step - loss: 0.3163 - binary_accuracy: 0.9574 - val_loss: 0.3150 - val_binary_accuracy: 0.9506\n",
            "Epoch 86/100\n",
            "110/110 [==============================] - 2s 17ms/step - loss: 0.3160 - binary_accuracy: 0.9571 - val_loss: 0.3148 - val_binary_accuracy: 0.9506\n",
            "Epoch 87/100\n",
            "110/110 [==============================] - 2s 16ms/step - loss: 0.3147 - binary_accuracy: 0.9579 - val_loss: 0.3133 - val_binary_accuracy: 0.9531\n",
            "Epoch 88/100\n",
            "110/110 [==============================] - 2s 16ms/step - loss: 0.3140 - binary_accuracy: 0.9591 - val_loss: 0.3122 - val_binary_accuracy: 0.9557\n",
            "Epoch 89/100\n",
            "110/110 [==============================] - 2s 16ms/step - loss: 0.3135 - binary_accuracy: 0.9599 - val_loss: 0.3115 - val_binary_accuracy: 0.9568\n",
            "Epoch 90/100\n",
            "110/110 [==============================] - 2s 16ms/step - loss: 0.3121 - binary_accuracy: 0.9594 - val_loss: 0.3108 - val_binary_accuracy: 0.9577\n",
            "Epoch 91/100\n",
            "110/110 [==============================] - 2s 17ms/step - loss: 0.3114 - binary_accuracy: 0.9599 - val_loss: 0.3103 - val_binary_accuracy: 0.9582\n",
            "Epoch 92/100\n",
            "110/110 [==============================] - 2s 16ms/step - loss: 0.3106 - binary_accuracy: 0.9631 - val_loss: 0.3097 - val_binary_accuracy: 0.9588\n",
            "Epoch 93/100\n",
            "110/110 [==============================] - 2s 16ms/step - loss: 0.3101 - binary_accuracy: 0.9619 - val_loss: 0.3088 - val_binary_accuracy: 0.9596\n",
            "Epoch 94/100\n",
            "110/110 [==============================] - 2s 16ms/step - loss: 0.3094 - binary_accuracy: 0.9639 - val_loss: 0.3084 - val_binary_accuracy: 0.9596\n",
            "Epoch 95/100\n",
            "110/110 [==============================] - 2s 17ms/step - loss: 0.3082 - binary_accuracy: 0.9636 - val_loss: 0.3073 - val_binary_accuracy: 0.9611\n",
            "Epoch 96/100\n",
            "110/110 [==============================] - 2s 17ms/step - loss: 0.3080 - binary_accuracy: 0.9656 - val_loss: 0.3066 - val_binary_accuracy: 0.9619\n",
            "Epoch 97/100\n",
            "110/110 [==============================] - 2s 16ms/step - loss: 0.3071 - binary_accuracy: 0.9659 - val_loss: 0.3064 - val_binary_accuracy: 0.9622\n",
            "Epoch 98/100\n",
            "110/110 [==============================] - 2s 16ms/step - loss: 0.3067 - binary_accuracy: 0.9656 - val_loss: 0.3055 - val_binary_accuracy: 0.9636\n",
            "Epoch 99/100\n",
            "110/110 [==============================] - 2s 17ms/step - loss: 0.3062 - binary_accuracy: 0.9670 - val_loss: 0.3047 - val_binary_accuracy: 0.9650\n",
            "Epoch 100/100\n",
            "110/110 [==============================] - 2s 17ms/step - loss: 0.3054 - binary_accuracy: 0.9679 - val_loss: 0.3043 - val_binary_accuracy: 0.9650\n"
          ],
          "name": "stdout"
        }
      ]
    },
    {
      "cell_type": "code",
      "metadata": {
        "id": "8Hi87cIgEFmS",
        "colab": {
          "base_uri": "https://localhost:8080/"
        },
        "outputId": "fbb0b72c-dfd5-495d-aef3-ca0ce982c875"
      },
      "source": [
        "lossB, accuracyB = model.evaluate(dataset_b_finished)\n",
        "\n",
        "print(\"Loss: \", lossB)\n",
        "print(\"Accuracy: \", accuracyB)"
      ],
      "execution_count": 51,
      "outputs": [
        {
          "output_type": "stream",
          "text": [
            "110/110 [==============================] - 0s 2ms/step - loss: 0.3043 - binary_accuracy: 0.9650\n",
            "Loss:  0.30427247285842896\n",
            "Accuracy:  0.9650468826293945\n"
          ],
          "name": "stdout"
        }
      ]
    },
    {
      "cell_type": "code",
      "metadata": {
        "id": "EJWK2a0rIt7T",
        "colab": {
          "base_uri": "https://localhost:8080/",
          "height": 295
        },
        "outputId": "2fca11db-b166-499d-bf30-2209374b2ffe"
      },
      "source": [
        "history_dictB = historyB.history\n",
        "history_dictB.keys()\n",
        "accB = history_dictB['binary_accuracy']\n",
        "val_accB = history_dictB['val_binary_accuracy']\n",
        "lossB = history_dictB['loss']\n",
        "val_lossB = history_dictB['val_loss']\n",
        "\n",
        "epochs = range(1, len(accB) + 1)\n",
        "\n",
        "# \"ro\" is for \"red dot\"\n",
        "plt.plot(epochs, lossB, 'ro', label='Training loss')\n",
        "# r is for \"solid blue line\"\n",
        "plt.plot(epochs, val_lossB, 'r', label='Validation loss')\n",
        "plt.title('Training and validation loss')\n",
        "plt.xlabel('Epochs')\n",
        "plt.ylabel('Loss')\n",
        "plt.legend()\n",
        "\n",
        "plt.show()"
      ],
      "execution_count": 52,
      "outputs": [
        {
          "output_type": "display_data",
          "data": {
            "image/png": "[encoded data removed]",
            "text/plain": [
              "<Figure size 432x288 with 1 Axes>"
            ]
          },
          "metadata": {
            "tags": [],
            "needs_background": "light"
          }
        }
      ]
    },
    {
      "cell_type": "code",
      "metadata": {
        "id": "c4DEBhk4KEZa",
        "colab": {
          "base_uri": "https://localhost:8080/",
          "height": 295
        },
        "outputId": "33b7bf06-3663-4293-e788-a6b5e51bb4e0"
      },
      "source": [
        "plt.plot(epochs, accB, 'ro', label='Training acc')\n",
        "plt.plot(epochs, val_accB, 'r', label='Validation acc')\n",
        "plt.title('Training and validation accuracy')\n",
        "plt.xlabel('Epochs')\n",
        "plt.ylabel('Accuracy')\n",
        "plt.legend(loc='lower right')\n",
        "\n",
        "plt.show()"
      ],
      "execution_count": 53,
      "outputs": [
        {
          "output_type": "display_data",
          "data": {
            "image/png": "[encoded data removed]",
            "text/plain": [
              "<Figure size 432x288 with 1 Axes>"
            ]
          },
          "metadata": {
            "tags": [],
            "needs_background": "light"
          }
        }
      ]
    },
    {
      "cell_type": "code",
      "metadata": {
        "id": "wfYlXEE9KODg",
        "colab": {
          "base_uri": "https://localhost:8080/"
        },
        "outputId": "045b4125-4df4-42d7-91cc-9953b59fca8b"
      },
      "source": [
        "export_modelB = tf.keras.Sequential([\n",
        "  vectorize_layer,\n",
        "  model,\n",
        "  layers.Activation('sigmoid')\n",
        "])\n",
        "\n",
        "export_modelB.compile(\n",
        "    loss=losses.BinaryCrossentropy(from_logits=False), optimizer=\"adam\", metrics=['accuracy']\n",
        ")\n",
        "\n",
        "examples = [\n",
        "  \"You are a dumb retard, you are an asshole and you shoudl kill yourself, you are an idiot, you are a bigot\",\n",
        "  \" dumb retard, an asshole and should kill oneself , an idiot, a bigot\",\n",
        "  \"you are an IDIOT!\",\n",
        "  \"IDIOT!\",\n",
        "  \"You are the worst President in the hisotry of the US, I can't wait till you will be out of office. You are a nazi\",\n",
        "  \"The worst   in the hisotry of the US, I can't wait till  will be out of office.  are a nazi\",\n",
        "  \"You are like Hitler, dumb retarded nigger, KYS\",\n",
        "  \"I am like Hitler, dumb retarded nigger, KYS\",\n",
        "  \"He is like Hitler, dumb retarded nigger, KYS\",\n",
        "  \"She is like Hitler, dumb retarded nigger, KYS\",\n",
        "  \"Donald Trump is like Hitler, dumb retarded nigger, KYS\",\n",
        "  \"Donald Trump is the worst Presiden in the history of the US\",\n",
        "  \"Joe Biden is the worst Presiden in the history of the US\",\n",
        "  \"Vladimir Putin is the worst Presiden in the history of Russia\",\n",
        "  \"Donald Trump is the best President in the history of the US\",\n",
        "  \" people,  white males are racists,  OF THEM, EVERY.SINGLE.ONE, they are bigots and dumb \"\n",
        "]\n",
        "loss, accuracy = export_model.evaluate(dataset_b_testing)\n",
        "print(accuracy)\n",
        "export_modelB.predict(examples)"
      ],
      "execution_count": 54,
      "outputs": [
        {
          "output_type": "stream",
          "text": [
            "240/240 [==============================] - 0s 1ms/step - loss: 0.6490 - accuracy: 0.7250\n",
            "0.7250000238418579\n"
          ],
          "name": "stdout"
        },
        {
          "output_type": "execute_result",
          "data": {
            "text/plain": [
              "array([[0.02706984],\n",
              "       [0.11401805],\n",
              "       [0.23664618],\n",
              "       [0.27886373],\n",
              "       [0.08221951],\n",
              "       [0.19407955],\n",
              "       [0.04119518],\n",
              "       [0.05119544],\n",
              "       [0.03460202],\n",
              "       [0.04113361],\n",
              "       [0.03523779],\n",
              "       [0.11416358],\n",
              "       [0.14735845],\n",
              "       [0.12532884],\n",
              "       [0.1554372 ],\n",
              "       [0.40947038]], dtype=float32)"
            ]
          },
          "metadata": {
            "tags": []
          },
          "execution_count": 54
        }
      ]
    },
    {
      "cell_type": "code",
      "metadata": {
        "id": "OXqybxFMKPMq"
      },
      "source": [
        "  "
      ],
      "execution_count": 54,
      "outputs": []
    }
  ]
}