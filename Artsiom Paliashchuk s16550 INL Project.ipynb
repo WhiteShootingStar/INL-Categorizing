{
  "nbformat": 4,
  "nbformat_minor": 0,
  "metadata": {
    "colab": {
      "name": "Project.ipynb",
      "provenance": [],
      "collapsed_sections": []
    },
    "kernelspec": {
      "name": "python3",
      "display_name": "Python 3"
    },
    "language_info": {
      "name": "python"
    }
  },
  "cells": [
    {
      "cell_type": "code",
      "metadata": {
        "id": "x5cQdAx3GdPp"
      },
      "source": [
        "!rm -rf \"/content/TaskA\"\n",
        "!rm -rf \"/content/TaskB\"\n",
        "import matplotlib.pyplot as plt\n",
        "from pathlib import Path\n",
        "import os\n",
        "import re\n",
        "import shutil\n",
        "import string\n",
        "import tensorflow as tf\n",
        "import sklearn\n",
        "import numpy as np\n",
        "\n",
        "\n",
        "from tensorflow.keras import layers\n",
        "from tensorflow.keras import losses\n",
        "from tensorflow.keras import preprocessing\n",
        "from tensorflow.keras.layers.experimental.preprocessing import TextVectorization\n",
        "from sklearn import model_selection\n",
        "from tensorflow.python.keras.preprocessing import dataset_utils"
      ],
      "execution_count": 5,
      "outputs": []
    },
    {
      "cell_type": "code",
      "metadata": {
        "id": "r5LurnUMqVpk"
      },
      "source": [
        "Path(\"/content/TaskA\").mkdir(parents=True, exist_ok=True)\n",
        "Path(\"/content/TaskB\").mkdir(parents=True, exist_ok=True)\n",
        "Path(\"/content/Data\").mkdir(parents=True, exist_ok=True)"
      ],
      "execution_count": 6,
      "outputs": []
    },
    {
      "cell_type": "code",
      "metadata": {
        "id": "HmUsKbuHH7OH"
      },
      "source": [
        "#Upload the data into Data folder!!!!!\n",
        "dataset=open(\"/content/Data/olid-training-v1.0.tsv\").readlines()\n",
        "testsetA=open(\"/content/Data/testset-levela.tsv\").readlines()\n",
        "testsetB=open(\"/content/Data/testset-levelb.tsv\").readlines()\n",
        "\n",
        "def make_directories_to_fit(path,first_label,second_label):\n",
        "  paths=[]\n",
        "  tr_path=path+\"/Train/\"\n",
        "  te_path=path+\"/Test/\"\n",
        "  tr_path_off=tr_path+first_label+\"/\"\n",
        "  tr_path_not=tr_path+second_label+\"/\"\n",
        "  te_path_off=te_path+first_label+\"/\"\n",
        "  te_path_not=te_path+second_label+\"/\"\n",
        "  paths.append(tr_path)\n",
        "  paths.append(te_path)\n",
        "  paths.append(tr_path_off)\n",
        "  paths.append(tr_path_not)\n",
        "  paths.append(te_path_off)\n",
        "  paths.append(te_path_not)\n",
        "  for element in paths:\n",
        "    Path(element).mkdir(parents=True, exist_ok=True)\n",
        "make_directories_to_fit(\"/content/TaskA\",\"off\",\"not\")\n",
        "make_directories_to_fit(\"/content/TaskB\",\"tin\",\"unt\")"
      ],
      "execution_count": 7,
      "outputs": []
    },
    {
      "cell_type": "code",
      "metadata": {
        "id": "VGSQK3Fr1WdM"
      },
      "source": [
        "\n",
        "#Don't forget to create  txt files!!!!!!!!!!!!!!!!!!!!!!!!!!!!!!!!!!!!!11\n",
        "#open(\"/content/traindata/Test/not/not.txt\",'x')\n",
        "#open(\"/content/traindata/Test/off/off.txt\",'x')\n",
        "#notText=open(\"/content/traindata/Test/not/not.txt\",'w')\n",
        "#offText=open(\"/content/traindata/Test/off/off.txt\",'w')\n",
        "filter='!\"$%&()*+,-./:;<=>?[\\]^_`{|}~\\t\\n'\n",
        "\n",
        "\n",
        "def create_train_texts(train_path,first_label,second_label,label_index,symbol_filter,dataset):  \n",
        "  for line in dataset:\n",
        "    tokenized_line=tf.keras.preprocessing.text.text_to_word_sequence(line,filters=symbol_filter)\n",
        "    length=len(tokenized_line)-4\n",
        "    string=\"\"\n",
        "  \n",
        "    if tokenized_line[length+label_index]==first_label:\n",
        "      newFile=open(train_path+\"/\"+first_label+\"/{0}.txt\".format(tokenized_line[0]),'w')\n",
        "      for i in range (1,length+1):\n",
        "        string+=tokenized_line[i] +\" \"\n",
        "      newFile.write(string)\n",
        "      newFile.write(\"\\n\")\n",
        "      newFile.close()\n",
        "    elif tokenized_line[length+label_index]==second_label:\n",
        "      newFile=open(train_path+\"/\"+second_label+\"/{0}.txt\".format(tokenized_line[0]),'w')\n",
        "      for i in range (1,length+1):\n",
        "        string+=tokenized_line[i] +\" \"\n",
        "      newFile.write(string)\n",
        "      newFile.write(\"\\n\")\n",
        "      newFile.close()\n",
        "   \n",
        "create_train_texts(\"/content/TaskA/Train\",\"off\",\"not\",1,filter,dataset)\n",
        "create_train_texts(\"/content/TaskB/Train\",\"tin\",\"unt\",2,filter,dataset)"
      ],
      "execution_count": 8,
      "outputs": []
    },
    {
      "cell_type": "code",
      "metadata": {
        "colab": {
          "base_uri": "https://localhost:8080/"
        },
        "id": "2AmVQw3KfQl0",
        "outputId": "5b8fc085-6c35-41d1-8b18-265f49d345d6"
      },
      "source": [
        "\n",
        "def create_test_dictionary(path_to_csv):\n",
        "  labelA=open(path_to_csv).readlines()\n",
        "  header=open(path_to_csv).readline().split(',')\n",
        "  dictionary_id_category={}\n",
        "  for strings in labelA:\n",
        "    splitted=strings.split(',')\n",
        "    dictionary_id_category[splitted[0]]=splitted[1][:-1].lower()\n",
        "  dictionary_id_category[header[0]]=header[1][:-1].lower()\n",
        "  print(dictionary_id_category.items())\n",
        "  return dictionary_id_category\n",
        "dictionaryA=create_test_dictionary(\"/content/Data/labels-levela.csv\")\n",
        "dictionaryB=create_test_dictionary(\"/content/Data/labels-levelb.csv\")\n"
      ],
      "execution_count": 9,
      "outputs": [
        {
          "output_type": "stream",
          "text": [
            "dict_items([('15923', 'off'), ('27014', 'not'), ('30530', 'not'), ('13876', 'not'), ('60133', 'off'), ('83681', 'off'), ('96874', 'not'), ('65507', 'off'), ('78910', 'not'), ('46363', 'not'), ('68123', 'not'), ('22452', 'not'), ('15565', 'not'), ('64376', 'not'), ('12588', 'off'), ('34263', 'off'), ('65773', 'not'), ('95457', 'not'), ('24930', 'not'), ('15938', 'not'), ('45712', 'not'), ('70840', 'not'), ('53563', 'not'), ('59432', 'not'), ('21454', 'not'), ('83155', 'not'), ('69576', 'not'), ('49139', 'off'), ('76669', 'not'), ('58995', 'off'), ('88490', 'off'), ('77101', 'not'), ('86917', 'not'), ('78472', 'not'), ('17798', 'not'), ('71873', 'not'), ('30247', 'not'), ('81150', 'not'), ('46444', 'off'), ('60587', 'off'), ('70569', 'off'), ('59200', 'not'), ('30900', 'not'), ('44546', 'off'), ('53982', 'not'), ('37884', 'not'), ('15079', 'not'), ('51628', 'off'), ('30899', 'off'), ('99680', 'not'), ('38628', 'not'), ('40110', 'off'), ('50310', 'not'), ('84101', 'not'), ('84876', 'not'), ('57425', 'not'), ('83262', 'not'), ('46777', 'not'), ('54053', 'not'), ('15998', 'off'), ('62945', 'not'), ('96457', 'off'), ('85977', 'not'), ('70841', 'off'), ('46139', 'off'), ('99009', 'not'), ('66388', 'not'), ('91217', 'not'), ('91994', 'not'), ('58751', 'not'), ('80947', 'off'), ('99253', 'not'), ('40386', 'off'), ('58742', 'not'), ('39752', 'not'), ('25262', 'not'), ('17703', 'not'), ('98916', 'off'), ('18709', 'not'), ('26026', 'not'), ('32190', 'off'), ('27550', 'off'), ('68539', 'not'), ('93643', 'not'), ('99120', 'not'), ('24040', 'off'), ('85436', 'not'), ('73516', 'off'), ('88905', 'off'), ('52955', 'not'), ('33452', 'not'), ('13276', 'not'), ('26462', 'not'), ('94339', 'not'), ('23786', 'not'), ('27371', 'not'), ('88670', 'not'), ('54391', 'not'), ('42112', 'off'), ('37740', 'off'), ('72405', 'off'), ('20780', 'not'), ('38820', 'not'), ('82913', 'not'), ('97383', 'not'), ('21397', 'not'), ('51738', 'not'), ('47445', 'off'), ('27158', 'off'), ('26382', 'not'), ('17183', 'off'), ('10595', 'not'), ('49481', 'not'), ('37949', 'not'), ('96729', 'not'), ('42325', 'off'), ('21748', 'not'), ('24316', 'not'), ('19516', 'not'), ('79383', 'not'), ('64857', 'not'), ('89936', 'not'), ('90362', 'not'), ('75620', 'not'), ('24907', 'not'), ('26259', 'not'), ('76095', 'not'), ('11557', 'not'), ('51963', 'not'), ('15180', 'off'), ('58026', 'off'), ('26432', 'not'), ('76565', 'not'), ('91588', 'not'), ('58033', 'not'), ('81352', 'off'), ('33133', 'off'), ('96661', 'not'), ('91036', 'off'), ('56581', 'not'), ('22882', 'off'), ('66377', 'not'), ('40842', 'off'), ('73612', 'off'), ('45709', 'not'), ('21338', 'not'), ('15630', 'not'), ('15815', 'off'), ('53858', 'not'), ('89606', 'not'), ('30942', 'not'), ('56973', 'not'), ('24049', 'off'), ('79204', 'off'), ('46229', 'off'), ('93101', 'not'), ('42196', 'off'), ('38084', 'not'), ('67973', 'not'), ('72071', 'not'), ('34669', 'off'), ('66054', 'not'), ('15607', 'not'), ('13959', 'not'), ('34575', 'off'), ('27546', 'not'), ('69203', 'not'), ('86385', 'not'), ('20357', 'off'), ('83011', 'not'), ('80059', 'not'), ('52104', 'not'), ('29531', 'not'), ('52445', 'off'), ('12746', 'not'), ('10991', 'off'), ('63725', 'not'), ('57135', 'off'), ('11284', 'not'), ('57107', 'not'), ('72369', 'off'), ('84879', 'not'), ('42192', 'off'), ('20034', 'not'), ('39516', 'not'), ('43587', 'off'), ('10684', 'off'), ('76394', 'not'), ('76692', 'not'), ('41553', 'off'), ('48839', 'not'), ('38718', 'not'), ('56048', 'not'), ('18997', 'not'), ('36720', 'not'), ('51656', 'not'), ('62986', 'off'), ('24430', 'not'), ('19563', 'not'), ('19836', 'not'), ('31033', 'not'), ('70051', 'off'), ('73642', 'off'), ('10727', 'off'), ('73442', 'not'), ('59758', 'not'), ('11781', 'not'), ('11645', 'off'), ('91116', 'not'), ('86437', 'not'), ('86268', 'not'), ('21643', 'not'), ('72274', 'off'), ('95198', 'not'), ('31550', 'not'), ('21524', 'off'), ('84579', 'off'), ('26291', 'not'), ('72424', 'not'), ('28744', 'not'), ('59961', 'not'), ('59519', 'off'), ('51386', 'off'), ('76052', 'not'), ('14837', 'not'), ('57295', 'not'), ('74610', 'not'), ('55653', 'not'), ('10918', 'off'), ('57541', 'off'), ('55318', 'not'), ('80965', 'not'), ('14051', 'not'), ('25125', 'off'), ('81974', 'not'), ('76797', 'not'), ('57494', 'not'), ('49441', 'not'), ('78266', 'not'), ('31401', 'not'), ('80020', 'not'), ('61295', 'off'), ('45518', 'not'), ('53351', 'off'), ('51610', 'not'), ('26758', 'not'), ('30718', 'not'), ('25463', 'off'), ('82558', 'not'), ('85613', 'off'), ('36875', 'not'), ('86142', 'not'), ('87711', 'not'), ('51626', 'not'), ('59423', 'not'), ('80555', 'not'), ('85830', 'not'), ('29102', 'not'), ('85886', 'off'), ('54621', 'off'), ('80397', 'off'), ('76937', 'not'), ('68875', 'off'), ('89591', 'not'), ('67926', 'off'), ('41588', 'off'), ('18091', 'not'), ('56205', 'not'), ('24467', 'not'), ('47245', 'not'), ('32851', 'not'), ('86982', 'not'), ('95247', 'not'), ('74211', 'not'), ('51948', 'off'), ('28196', 'off'), ('71881', 'not'), ('50376', 'off'), ('64161', 'not'), ('45304', 'off'), ('22248', 'not'), ('27228', 'off'), ('57326', 'off'), ('97729', 'not'), ('24957', 'not'), ('68774', 'not'), ('43350', 'not'), ('41709', 'not'), ('71063', 'not'), ('92516', 'not'), ('85100', 'not'), ('89661', 'not'), ('47898', 'not'), ('88523', 'not'), ('19321', 'not'), ('26042', 'not'), ('16694', 'not'), ('88221', 'off'), ('30357', 'not'), ('11021', 'not'), ('26763', 'not'), ('59708', 'not'), ('78244', 'not'), ('11813', 'not'), ('16468', 'not'), ('75637', 'not'), ('71071', 'not'), ('17714', 'off'), ('97610', 'off'), ('63048', 'off'), ('30075', 'off'), ('74237', 'not'), ('60466', 'off'), ('25685', 'off'), ('16333', 'off'), ('78417', 'off'), ('78760', 'not'), ('78261', 'not'), ('40790', 'not'), ('63775', 'not'), ('44108', 'not'), ('98949', 'not'), ('74414', 'not'), ('51525', 'off'), ('84550', 'off'), ('19499', 'not'), ('23530', 'off'), ('84034', 'not'), ('79051', 'not'), ('93740', 'not'), ('54366', 'not'), ('57284', 'off'), ('82565', 'not'), ('59700', 'off'), ('13433', 'off'), ('80197', 'off'), ('90353', 'not'), ('36496', 'not'), ('93321', 'not'), ('79309', 'off'), ('80637', 'not'), ('50793', 'not'), ('84239', 'not'), ('47834', 'not'), ('65426', 'not'), ('81354', 'not'), ('14479', 'not'), ('47696', 'off'), ('75438', 'not'), ('11699', 'not'), ('62379', 'not'), ('71294', 'off'), ('55633', 'off'), ('43864', 'not'), ('40013', 'not'), ('30399', 'not'), ('47886', 'not'), ('87934', 'off'), ('46232', 'not'), ('21869', 'not'), ('35976', 'not'), ('59337', 'not'), ('57732', 'off'), ('17563', 'not'), ('55899', 'not'), ('47396', 'not'), ('46717', 'not'), ('78260', 'not'), ('22695', 'not'), ('27455', 'off'), ('83466', 'off'), ('48657', 'off'), ('89635', 'off'), ('52335', 'not'), ('27360', 'not'), ('53971', 'not'), ('89603', 'off'), ('86611', 'off'), ('44222', 'not'), ('41078', 'not'), ('44625', 'not'), ('21197', 'not'), ('12193', 'off'), ('73484', 'not'), ('96283', 'not'), ('78289', 'not'), ('29485', 'not'), ('67024', 'not'), ('97430', 'not'), ('63985', 'off'), ('65505', 'not'), ('29697', 'not'), ('26695', 'not'), ('86529', 'not'), ('37332', 'not'), ('80612', 'not'), ('89438', 'not'), ('68755', 'not'), ('53675', 'not'), ('31195', 'not'), ('20522', 'off'), ('52866', 'not'), ('65428', 'not'), ('94260', 'off'), ('93256', 'not'), ('78364', 'not'), ('70324', 'off'), ('96847', 'not'), ('89329', 'off'), ('40929', 'not'), ('24798', 'not'), ('99947', 'not'), ('94203', 'not'), ('11100', 'off'), ('83240', 'off'), ('14591', 'not'), ('66094', 'not'), ('59164', 'not'), ('90036', 'not'), ('24047', 'not'), ('81890', 'off'), ('26010', 'not'), ('72037', 'off'), ('56312', 'not'), ('10860', 'not'), ('38829', 'not'), ('78301', 'off'), ('56599', 'not'), ('94607', 'off'), ('72531', 'off'), ('37214', 'not'), ('84952', 'not'), ('98575', 'off'), ('58342', 'off'), ('53914', 'not'), ('76324', 'not'), ('18730', 'not'), ('39429', 'off'), ('72893', 'not'), ('18786', 'off'), ('61004', 'not'), ('46603', 'not'), ('73236', 'not'), ('35785', 'off'), ('84045', 'not'), ('67049', 'off'), ('57804', 'not'), ('82273', 'off'), ('68340', 'not'), ('78646', 'not'), ('13582', 'not'), ('36455', 'not'), ('98994', 'not'), ('92967', 'not'), ('70762', 'not'), ('98216', 'off'), ('42113', 'not'), ('61889', 'not'), ('30365', 'not'), ('68518', 'not'), ('37649', 'off'), ('21394', 'not'), ('14582', 'off'), ('88487', 'not'), ('21714', 'not'), ('50821', 'not'), ('57793', 'not'), ('55400', 'not'), ('59751', 'off'), ('66470', 'not'), ('92215', 'off'), ('11122', 'not'), ('87139', 'not'), ('17311', 'not'), ('89392', 'not'), ('22311', 'off'), ('88188', 'not'), ('35503', 'not'), ('75125', 'off'), ('49210', 'not'), ('21354', 'off'), ('48965', 'not'), ('88939', 'not'), ('22594', 'off'), ('45855', 'not'), ('59159', 'not'), ('77395', 'not'), ('90492', 'not'), ('19410', 'off'), ('67211', 'not'), ('35940', 'not'), ('33394', 'off'), ('96543', 'not'), ('45271', 'not'), ('56513', 'off'), ('59691', 'off'), ('34864', 'not'), ('97956', 'not'), ('49164', 'not'), ('14273', 'not'), ('38323', 'not'), ('84848', 'not'), ('41997', 'off'), ('56637', 'off'), ('65514', 'not'), ('19815', 'off'), ('36737', 'not'), ('97410', 'off'), ('18782', 'not'), ('77746', 'off'), ('42925', 'not'), ('17704', 'off'), ('61674', 'off'), ('42419', 'not'), ('83463', 'not'), ('39860', 'off'), ('93586', 'not'), ('22189', 'not'), ('39918', 'not'), ('51726', 'not'), ('86382', 'not'), ('20568', 'not'), ('14923', 'not'), ('53787', 'not'), ('53660', 'not'), ('61551', 'not'), ('21826', 'off'), ('80230', 'not'), ('24974', 'not'), ('56257', 'not'), ('61311', 'not'), ('79934', 'off'), ('96418', 'not'), ('55048', 'off'), ('77625', 'not'), ('10252', 'not'), ('63128', 'not'), ('70740', 'not'), ('34034', 'not'), ('92341', 'not'), ('84419', 'not'), ('72634', 'not'), ('18825', 'not'), ('70424', 'not'), ('35265', 'not'), ('44869', 'not'), ('22047', 'not'), ('66950', 'not'), ('57443', 'not'), ('76833', 'off'), ('22502', 'not'), ('44206', 'not'), ('82044', 'not'), ('24929', 'not'), ('55832', 'off'), ('32056', 'off'), ('76339', 'not'), ('21266', 'not'), ('83591', 'not'), ('67841', 'off'), ('93576', 'not'), ('44218', 'not'), ('51732', 'not'), ('74605', 'not'), ('58487', 'not'), ('74006', 'not'), ('94427', 'off'), ('96594', 'off'), ('85447', 'not'), ('62689', 'off'), ('72609', 'not'), ('25047', 'not'), ('35968', 'off'), ('99924', 'not'), ('34665', 'not'), ('45053', 'not'), ('56232', 'not'), ('62051', 'not'), ('69036', 'not'), ('14516', 'off'), ('29514', 'not'), ('75770', 'not'), ('89749', 'not'), ('25138', 'not'), ('15866', 'off'), ('91659', 'not'), ('30657', 'not'), ('57185', 'off'), ('33172', 'not'), ('71506', 'not'), ('49079', 'not'), ('91430', 'off'), ('29203', 'off'), ('66750', 'not'), ('27913', 'off'), ('94816', 'not'), ('54004', 'not'), ('41609', 'not'), ('74157', 'not'), ('65187', 'not'), ('42656', 'not'), ('53325', 'off'), ('48503', 'not'), ('36871', 'not'), ('10417', 'not'), ('10611', 'not'), ('66771', 'not'), ('23461', 'not'), ('71455', 'not'), ('46410', 'off'), ('48142', 'not'), ('58191', 'not'), ('65968', 'not'), ('26072', 'off'), ('16856', 'off'), ('89200', 'off'), ('57869', 'not'), ('45269', 'off'), ('85583', 'not'), ('88398', 'not'), ('50667', 'not'), ('90222', 'not'), ('74235', 'not'), ('52352', 'not'), ('95106', 'not'), ('16717', 'not'), ('37049', 'not'), ('58975', 'not'), ('62938', 'not'), ('15437', 'off'), ('21198', 'not'), ('66623', 'not'), ('91472', 'off'), ('27211', 'not'), ('98531', 'off'), ('46018', 'not'), ('19152', 'not'), ('43753', 'off'), ('98685', 'off'), ('31665', 'off'), ('38732', 'off'), ('47022', 'not'), ('66074', 'not'), ('41323', 'not'), ('27613', 'not'), ('61997', 'not'), ('58690', 'not'), ('15977', 'not'), ('31957', 'not'), ('46983', 'off'), ('90529', 'not'), ('91136', 'not'), ('76332', 'not'), ('42929', 'not'), ('82896', 'not'), ('30424', 'not'), ('97795', 'not'), ('22067', 'off'), ('48738', 'not'), ('62374', 'not'), ('95156', 'not'), ('81749', 'not'), ('68363', 'not'), ('79756', 'off'), ('24097', 'not'), ('99563', 'off'), ('92047', 'not'), ('23542', 'off'), ('43453', 'not'), ('69292', 'not'), ('97930', 'not'), ('28354', 'not'), ('74959', 'not'), ('96033', 'not'), ('80440', 'not'), ('98096', 'not'), ('83416', 'off'), ('59687', 'not'), ('86570', 'not'), ('67418', 'off'), ('61929', 'not'), ('58632', 'off'), ('51621', 'not'), ('85309', 'not'), ('57330', 'not'), ('30207', 'not'), ('62237', 'not'), ('92823', 'not'), ('39788', 'not'), ('48820', 'not'), ('35612', 'off'), ('96905', 'off'), ('34122', 'not'), ('17100', 'not'), ('72538', 'not'), ('68371', 'not'), ('24638', 'not'), ('73621', 'not'), ('79778', 'off'), ('87617', 'not'), ('16323', 'not'), ('90328', 'off'), ('71350', 'off'), ('43782', 'off'), ('46378', 'not'), ('18357', 'not'), ('24000', 'not'), ('51286', 'not'), ('10412', 'not'), ('84900', 'not'), ('45147', 'not'), ('58287', 'off'), ('44599', 'not'), ('38726', 'not'), ('36393', 'not'), ('74747', 'not'), ('43173', 'not'), ('58109', 'not'), ('42091', 'not'), ('29475', 'not'), ('19296', 'not'), ('96203', 'not'), ('27467', 'not'), ('42404', 'not'), ('14972', 'not'), ('49426', 'not'), ('82638', 'not'), ('51052', 'not'), ('32059', 'not'), ('77649', 'not'), ('32061', 'off'), ('88660', 'not'), ('63129', 'off'), ('79653', 'not'), ('99016', 'not'), ('57283', 'not'), ('74797', 'off'), ('25177', 'off'), ('68831', 'not'), ('60621', 'not'), ('87428', 'off'), ('39400', 'off'), ('90355', 'not'), ('38003', 'not'), ('62788', 'off'), ('28484', 'not'), ('91471', 'not'), ('84343', 'not'), ('88745', 'off'), ('70443', 'off'), ('90402', 'not'), ('90327', 'off'), ('85687', 'not'), ('88177', 'not'), ('31022', 'not'), ('65545', 'off'), ('56129', 'not'), ('51851', 'not'), ('31997', 'not'), ('89493', 'not'), ('34903', 'not'), ('40766', 'not'), ('58543', 'off'), ('53194', 'not'), ('79222', 'off'), ('72401', 'off'), ('37002', 'not'), ('31354', 'off'), ('99347', 'not'), ('60713', 'not'), ('89054', 'not'), ('29008', 'off'), ('96333', 'not'), ('19770', 'not'), ('41590', 'off'), ('72523', 'off'), ('25783', 'not'), ('16683', 'not'), ('14640', 'off'), ('31641', 'not'), ('23762', 'not'), ('45984', 'not'), ('74909', 'off'), ('88822', 'not'), ('89432', 'not'), ('38070', 'not'), ('96397', 'off'), ('37342', 'not'), ('77917', 'not'), ('31499', 'not'), ('52547', 'not'), ('34030', 'off'), ('21054', 'not'), ('60546', 'not'), ('98396', 'not'), ('29882', 'not'), ('90581', 'not'), ('69073', 'off'), ('49338', 'not'), ('22812', 'not'), ('29113', 'off'), ('13097', 'not'), ('98816', 'not'), ('77222', 'not'), ('95258', 'not'), ('36892', 'not'), ('51589', 'not'), ('48945', 'not'), ('74448', 'not'), ('76036', 'not'), ('11286', 'off'), ('36500', 'not'), ('21677', 'not'), ('73105', 'not'), ('41821', 'off'), ('72213', 'not'), ('14258', 'not'), ('13131', 'not'), ('76379', 'off'), ('25354', 'not'), ('89417', 'not'), ('68256', 'not'), ('78984', 'not'), ('52080', 'off'), ('25127', 'not'), ('48650', 'not'), ('51762', 'off'), ('71592', 'off'), ('28558', 'not'), ('32141', 'not'), ('80406', 'not'), ('73366', 'not'), ('26454', 'not'), ('78688', 'off'), ('76135', 'off'), ('30778', 'off'), ('48418', 'not'), ('10313', 'not'), ('78950', 'not'), ('13993', 'not'), ('32492', 'not'), ('50781', 'not'), ('22569', 'off'), ('87317', 'not'), ('53862', 'not'), ('89424', 'not'), ('22470', 'not'), ('48938', 'off'), ('85360', 'not'), ('90032', 'not'), ('31182', 'not'), ('83464', 'not'), ('51218', 'not'), ('41438', 'off'), ('72867', 'not'), ('73439', 'off'), ('25657', 'not'), ('67018', 'off'), ('50665', 'not'), ('24583', 'not')])\n",
            "dict_items([('15923', 'tin'), ('60133', 'tin'), ('83681', 'tin'), ('65507', 'tin'), ('12588', 'unt'), ('34263', 'tin'), ('49139', 'tin'), ('58995', 'tin'), ('88490', 'tin'), ('46444', 'tin'), ('60587', 'tin'), ('70569', 'unt'), ('44546', 'tin'), ('51628', 'tin'), ('30899', 'unt'), ('40110', 'tin'), ('15998', 'tin'), ('96457', 'tin'), ('70841', 'tin'), ('46139', 'tin'), ('80947', 'unt'), ('40386', 'tin'), ('98916', 'tin'), ('32190', 'tin'), ('27550', 'tin'), ('24040', 'tin'), ('73516', 'tin'), ('88905', 'tin'), ('42112', 'tin'), ('37740', 'tin'), ('72405', 'tin'), ('47445', 'tin'), ('27158', 'tin'), ('17183', 'tin'), ('42325', 'tin'), ('15180', 'tin'), ('58026', 'tin'), ('81352', 'tin'), ('33133', 'tin'), ('91036', 'tin'), ('22882', 'tin'), ('40842', 'tin'), ('73612', 'tin'), ('15815', 'tin'), ('24049', 'tin'), ('79204', 'tin'), ('46229', 'tin'), ('42196', 'unt'), ('34669', 'tin'), ('34575', 'tin'), ('20357', 'tin'), ('52445', 'tin'), ('10991', 'tin'), ('57135', 'tin'), ('72369', 'tin'), ('42192', 'tin'), ('43587', 'tin'), ('10684', 'unt'), ('41553', 'tin'), ('62986', 'tin'), ('70051', 'tin'), ('73642', 'tin'), ('10727', 'unt'), ('11645', 'tin'), ('72274', 'tin'), ('21524', 'tin'), ('84579', 'tin'), ('59519', 'tin'), ('51386', 'tin'), ('10918', 'tin'), ('57541', 'tin'), ('25125', 'tin'), ('61295', 'tin'), ('53351', 'tin'), ('25463', 'tin'), ('85613', 'tin'), ('85886', 'tin'), ('54621', 'tin'), ('80397', 'tin'), ('68875', 'unt'), ('67926', 'tin'), ('41588', 'tin'), ('51948', 'tin'), ('28196', 'tin'), ('50376', 'tin'), ('45304', 'tin'), ('27228', 'tin'), ('57326', 'tin'), ('88221', 'tin'), ('17714', 'unt'), ('97610', 'tin'), ('63048', 'tin'), ('30075', 'tin'), ('60466', 'tin'), ('25685', 'tin'), ('16333', 'tin'), ('78417', 'tin'), ('51525', 'tin'), ('84550', 'tin'), ('23530', 'tin'), ('57284', 'tin'), ('59700', 'tin'), ('13433', 'tin'), ('80197', 'tin'), ('79309', 'tin'), ('47696', 'tin'), ('71294', 'unt'), ('55633', 'tin'), ('87934', 'tin'), ('57732', 'unt'), ('27455', 'tin'), ('83466', 'tin'), ('48657', 'tin'), ('89635', 'unt'), ('89603', 'unt'), ('86611', 'tin'), ('12193', 'tin'), ('63985', 'tin'), ('20522', 'tin'), ('94260', 'unt'), ('70324', 'tin'), ('89329', 'tin'), ('11100', 'tin'), ('83240', 'tin'), ('81890', 'tin'), ('72037', 'tin'), ('78301', 'unt'), ('94607', 'tin'), ('72531', 'tin'), ('98575', 'tin'), ('58342', 'tin'), ('39429', 'tin'), ('18786', 'tin'), ('35785', 'unt'), ('67049', 'tin'), ('82273', 'unt'), ('98216', 'tin'), ('37649', 'tin'), ('14582', 'unt'), ('59751', 'tin'), ('92215', 'tin'), ('22311', 'tin'), ('75125', 'tin'), ('21354', 'tin'), ('22594', 'tin'), ('19410', 'unt'), ('33394', 'tin'), ('56513', 'tin'), ('59691', 'tin'), ('41997', 'tin'), ('56637', 'tin'), ('19815', 'unt'), ('97410', 'tin'), ('77746', 'tin'), ('17704', 'tin'), ('61674', 'tin'), ('39860', 'tin'), ('21826', 'unt'), ('79934', 'tin'), ('55048', 'tin'), ('76833', 'tin'), ('55832', 'tin'), ('32056', 'tin'), ('67841', 'tin'), ('94427', 'tin'), ('96594', 'tin'), ('62689', 'tin'), ('35968', 'tin'), ('14516', 'tin'), ('15866', 'tin'), ('57185', 'tin'), ('91430', 'tin'), ('29203', 'tin'), ('27913', 'tin'), ('53325', 'unt'), ('46410', 'tin'), ('26072', 'unt'), ('16856', 'tin'), ('89200', 'tin'), ('45269', 'tin'), ('15437', 'tin'), ('91472', 'tin'), ('98531', 'tin'), ('43753', 'unt'), ('98685', 'tin'), ('31665', 'tin'), ('38732', 'tin'), ('46983', 'tin'), ('22067', 'tin'), ('79756', 'tin'), ('99563', 'tin'), ('23542', 'tin'), ('83416', 'tin'), ('67418', 'tin'), ('58632', 'tin'), ('35612', 'tin'), ('96905', 'tin'), ('79778', 'tin'), ('90328', 'tin'), ('71350', 'tin'), ('43782', 'tin'), ('58287', 'tin'), ('32061', 'tin'), ('63129', 'tin'), ('74797', 'tin'), ('25177', 'tin'), ('87428', 'tin'), ('39400', 'tin'), ('62788', 'unt'), ('88745', 'tin'), ('70443', 'tin'), ('90327', 'tin'), ('65545', 'tin'), ('58543', 'tin'), ('79222', 'tin'), ('72401', 'tin'), ('31354', 'tin'), ('29008', 'tin'), ('41590', 'tin'), ('72523', 'tin'), ('14640', 'tin'), ('74909', 'tin'), ('96397', 'tin'), ('34030', 'tin'), ('69073', 'unt'), ('29113', 'tin'), ('11286', 'tin'), ('41821', 'tin'), ('76379', 'tin'), ('52080', 'tin'), ('51762', 'tin'), ('71592', 'tin'), ('78688', 'tin'), ('76135', 'tin'), ('30778', 'tin'), ('22569', 'tin'), ('48938', 'tin'), ('41438', 'tin'), ('73439', 'tin'), ('67018', 'unt')])\n"
          ],
          "name": "stdout"
        }
      ]
    },
    {
      "cell_type": "code",
      "metadata": {
        "id": "jtRWl0MhdpMx"
      },
      "source": [
        "#Test values\n",
        "\n",
        "\n",
        "\n",
        "  \n",
        "def create_test_texts(test_path,first_label,second_label,dictionary,symbol_filter,dataset):\n",
        "  for line in dataset:\n",
        "    string=\"\"\n",
        "    tokenized_line_test=tf.keras.preprocessing.text.text_to_word_sequence(line,filters=symbol_filter)\n",
        "    if dictionary.get(tokenized_line_test[0])==first_label:\n",
        "    \n",
        "      newFile=open(test_path+\"/\"+first_label+\"/{0}.txt\".format(tokenized_line_test[0]),'w')\n",
        "      for i in range (1,len(tokenized_line_test)):\n",
        "          string+=tokenized_line_test[i] +\" \"\n",
        "      newFile.write(string)\n",
        "      newFile.write(\"\\n\")\n",
        "      newFile.close()\n",
        "    elif dictionary.get(tokenized_line_test[0])==second_label:\n",
        "      newFile=open(test_path+\"/\"+second_label+\"/{0}.txt\".format(tokenized_line_test[0]),'w')\n",
        "      for i in range (1,len(tokenized_line_test)):\n",
        "          string+=tokenized_line_test[i] +\" \"\n",
        "      newFile.write(string)\n",
        "      newFile.write(\"\\n\")\n",
        "      newFile.close()\n",
        "    elif dictionary.get(tokenized_line_test[0])==None:\n",
        "      continue\n",
        "    else:\n",
        "      print(dictionary.get(tokenized_line_test[0]))\n",
        "create_test_texts(\"/content/TaskA/Test\",\"off\",\"not\",dictionaryA,filter,testsetA)     \n",
        "create_test_texts(\"/content/TaskB/Test\",\"tin\",\"unt\",dictionaryB,filter,testsetB)"
      ],
      "execution_count": 10,
      "outputs": []
    },
    {
      "cell_type": "code",
      "metadata": {
        "colab": {
          "base_uri": "https://localhost:8080/"
        },
        "id": "LW81qk3z92qE",
        "outputId": "2d5c655e-144d-40a0-c0a9-756195689c9c"
      },
      "source": [
        "#notText=open(\"/content/traindata/Test/not/not.txt\").read()\n",
        "#offText=open(\"/content/traindata/Test/off/off.txt\").read()\n",
        "batch_size = 32\n",
        "seed = 228\n",
        "\n",
        "def generate_datasets(path_to_root_folder,batch_size,seed):\n",
        "  #create training\n",
        "  raw_train_ds = tf.keras.preprocessing.text_dataset_from_directory(directory=\n",
        "    path_to_root_folder+\"/Train\",labels='inferred',\n",
        "    batch_size=batch_size, \n",
        "    validation_split=0.2, \n",
        "    subset='training',seed=seed)\n",
        "  #create validation\n",
        "  raw_val_ds = tf.keras.preprocessing.text_dataset_from_directory(\n",
        "    path_to_root_folder+\"/Train\", labels='inferred',\n",
        "    batch_size=batch_size, \n",
        "    validation_split=0.2, \n",
        "    subset='validation', \n",
        "    seed=seed)  \n",
        "  #create testing\n",
        "  raw_test_ds = tf.keras.preprocessing.text_dataset_from_directory(\n",
        "    path_to_root_folder+\"/Test\", \n",
        "    batch_size=batch_size)\n",
        "  return raw_train_ds,raw_val_ds,raw_test_ds\n",
        "\n",
        "raw_train_ds,raw_val_ds,raw_test_ds=generate_datasets(\"/content/TaskA\",batch_size,seed)\n",
        "raw_train_dsB,raw_val_dsB,raw_test_dsB=generate_datasets(\"/content/TaskB\",batch_size,seed)\n",
        "\n",
        "for text_batch, label_batch in raw_train_ds.take(1):\n",
        "  for i in range(3):\n",
        "    print(\"Review\", text_batch.numpy()[i])\n",
        "    print(\"Label\", label_batch.numpy()[i])\n",
        "print(\"Label 0 corresponds to\", raw_train_ds.class_names[0])\n",
        "print(\"Label 1 corresponds to\", raw_train_ds.class_names[1])\n",
        "\n",
        "\n",
        "for text_batch, label_batch in raw_train_dsB.take(1):\n",
        "  for i in range(3):\n",
        "    print(\"Review\", text_batch.numpy()[i])\n",
        "    print(\"Label\", label_batch.numpy()[i])\n",
        "print(\"Label 0 corresponds to\", raw_train_dsB.class_names[0])\n",
        "print(\"Label 1 corresponds to\", raw_train_dsB.class_names[1])"
      ],
      "execution_count": 11,
      "outputs": [
        {
          "output_type": "stream",
          "text": [
            "Found 13240 files belonging to 2 classes.\n",
            "Using 10592 files for training.\n",
            "Found 13240 files belonging to 2 classes.\n",
            "Using 2648 files for validation.\n",
            "Found 860 files belonging to 2 classes.\n",
            "Found 4400 files belonging to 2 classes.\n",
            "Using 3520 files for training.\n",
            "Found 4400 files belonging to 2 classes.\n",
            "Using 880 files for validation.\n",
            "Found 240 files belonging to 2 classes.\n",
            "Review b'@user @user are you bipolar you keep saying different shit to people commenting on what u said \\n'\n",
            "Label 1\n",
            "Review b'@user hope they bankrupt soon \\n'\n",
            "Label 1\n",
            "Review b'@user whenever you conservatives whine kavanaugh is being appointed fast enough all i think of is garland never getting a hearing for a year so just shhh hypocrites \\n'\n",
            "Label 0\n",
            "Label 0 corresponds to not\n",
            "Label 1 corresponds to off\n",
            "Review b'@user @user @user fake conservatives and their fake outrage over the budget betrayal url url \\n'\n",
            "Label 0\n",
            "Review b'@user whoever you are you deserve this url \\n'\n",
            "Label 0\n",
            "Review b'@user made my wife take the egghead bible challenge our two kids are obviously more obnoxious than that loop because this shit isnt phasing her at all \\n'\n",
            "Label 1\n",
            "Label 0 corresponds to tin\n",
            "Label 1 corresponds to unt\n"
          ],
          "name": "stdout"
        }
      ]
    },
    {
      "cell_type": "code",
      "metadata": {
        "id": "8-hgWyk3QUNA"
      },
      "source": [
        "\n"
      ],
      "execution_count": 11,
      "outputs": []
    },
    {
      "cell_type": "code",
      "metadata": {
        "id": "gs8Yk-krbL1z"
      },
      "source": [
        "max_features = 10000\n",
        "#sequence of such length because the length of Twitter post is 280 symbols long\n",
        "sequence_length = 280\n",
        "\n",
        "def generate_vectorization_layer(max_features,sequence_length):\n",
        "  return TextVectorization(\n",
        "    max_tokens=max_features,\n",
        "    output_mode='int',\n",
        "    output_sequence_length=int(sequence_length))\n",
        "vectorize_layer = generate_vectorization_layer(max_features,sequence_length)\n",
        "vectorize_layerB=generate_vectorization_layer(max_features,sequence_length)"
      ],
      "execution_count": 12,
      "outputs": []
    },
    {
      "cell_type": "code",
      "metadata": {
        "id": "H_9AMm07bsZF"
      },
      "source": [
        "# Make a text-only dataset (without labels), then call adapt\n",
        "train_text = raw_train_ds.map(lambda x, y: x)\n",
        "train_textB=raw_test_dsB.map(lambda x,y:x)\n",
        "vectorize_layer.adapt(train_text)\n",
        "vectorize_layerB.adapt(train_textB)"
      ],
      "execution_count": 13,
      "outputs": []
    },
    {
      "cell_type": "code",
      "metadata": {
        "colab": {
          "base_uri": "https://localhost:8080/"
        },
        "id": "eHAgVMG8bvE2",
        "outputId": "a8528ce4-edde-4d39-ff44-3da0ddcd9181"
      },
      "source": [
        "def vectorize_text(text, label):\n",
        "  text = tf.expand_dims(text, -1)\n",
        "  return vectorize_layer(text), label\n",
        "# retrieve a batch (of 32 reviews and labels) from the dataset\n",
        "\n",
        "text_batch, label_batch = next(iter(raw_train_ds))\n",
        "first_review, first_label = text_batch[0], label_batch[0]\n",
        "\n",
        "print(\"Review\", first_review)\n",
        "print(\"Label\", raw_train_ds.class_names[first_label])\n",
        "print(\"Vectorized review\", vectorize_text(first_review, first_label))\n",
        "\n",
        "text_batchB, label_batchB = next(iter(raw_train_dsB))\n",
        "first_reviewB, first_labelB = text_batchB[0], label_batchB[0]\n",
        "\n",
        "print(\"Review\", first_reviewB)\n",
        "print(\"Label\", raw_train_dsB.class_names[first_labelB])\n",
        "print(\"Vectorized review\", vectorize_text(first_reviewB, first_labelB))\n",
        "\n"
      ],
      "execution_count": 14,
      "outputs": [
        {
          "output_type": "stream",
          "text": [
            "Review tf.Tensor(b'@user fascism of the right is fully represented by the @user and protected by the @user who hold the left to account with their threats to tax havens \\n', shape=(), dtype=string)\n",
            "Label not\n",
            "Vectorized review (<tf.Tensor: shape=(1, 280), dtype=int64, numpy=\n",
            "array([[   2, 1124,    9,    3,   82,    4, 1303, 6387,   57,    3,    2,\n",
            "           8, 1737,   57,    3,    2,   47,  523,    3,  120,    5,  602,\n",
            "          22,   58,  858,    5,  618,    1,    0,    0,    0,    0,    0,\n",
            "           0,    0,    0,    0,    0,    0,    0,    0,    0,    0,    0,\n",
            "           0,    0,    0,    0,    0,    0,    0,    0,    0,    0,    0,\n",
            "           0,    0,    0,    0,    0,    0,    0,    0,    0,    0,    0,\n",
            "           0,    0,    0,    0,    0,    0,    0,    0,    0,    0,    0,\n",
            "           0,    0,    0,    0,    0,    0,    0,    0,    0,    0,    0,\n",
            "           0,    0,    0,    0,    0,    0,    0,    0,    0,    0,    0,\n",
            "           0,    0,    0,    0,    0,    0,    0,    0,    0,    0,    0,\n",
            "           0,    0,    0,    0,    0,    0,    0,    0,    0,    0,    0,\n",
            "           0,    0,    0,    0,    0,    0,    0,    0,    0,    0,    0,\n",
            "           0,    0,    0,    0,    0,    0,    0,    0,    0,    0,    0,\n",
            "           0,    0,    0,    0,    0,    0,    0,    0,    0,    0,    0,\n",
            "           0,    0,    0,    0,    0,    0,    0,    0,    0,    0,    0,\n",
            "           0,    0,    0,    0,    0,    0,    0,    0,    0,    0,    0,\n",
            "           0,    0,    0,    0,    0,    0,    0,    0,    0,    0,    0,\n",
            "           0,    0,    0,    0,    0,    0,    0,    0,    0,    0,    0,\n",
            "           0,    0,    0,    0,    0,    0,    0,    0,    0,    0,    0,\n",
            "           0,    0,    0,    0,    0,    0,    0,    0,    0,    0,    0,\n",
            "           0,    0,    0,    0,    0,    0,    0,    0,    0,    0,    0,\n",
            "           0,    0,    0,    0,    0,    0,    0,    0,    0,    0,    0,\n",
            "           0,    0,    0,    0,    0,    0,    0,    0,    0,    0,    0,\n",
            "           0,    0,    0,    0,    0,    0,    0,    0,    0,    0,    0,\n",
            "           0,    0,    0,    0,    0,    0,    0,    0,    0,    0,    0,\n",
            "           0,    0,    0,    0,    0]])>, <tf.Tensor: shape=(), dtype=int32, numpy=0>)\n",
            "Review tf.Tensor(b\"#mogg #jacobreesmogg calls for @user to #chuckchequers now 'chequers pleases nobody other than the #primeminister herself ' url #bbc #sky #lbc @user @user @user @user @user @user @user @user #tory #tories \\n\", shape=(), dtype=string)\n",
            "Label tin\n",
            "Vectorized review (<tf.Tensor: shape=(1, 280), dtype=int64, numpy=\n",
            "array([[6776,    1,  849,   15,    2,    5, 7761,   77, 2457,    1,  794,\n",
            "         127,   91,    3,    1,  754,   17, 1926, 1978, 3006,    2,    2,\n",
            "           2,    2,    2,    2,    2,    2, 1267,  617,    0,    0,    0,\n",
            "           0,    0,    0,    0,    0,    0,    0,    0,    0,    0,    0,\n",
            "           0,    0,    0,    0,    0,    0,    0,    0,    0,    0,    0,\n",
            "           0,    0,    0,    0,    0,    0,    0,    0,    0,    0,    0,\n",
            "           0,    0,    0,    0,    0,    0,    0,    0,    0,    0,    0,\n",
            "           0,    0,    0,    0,    0,    0,    0,    0,    0,    0,    0,\n",
            "           0,    0,    0,    0,    0,    0,    0,    0,    0,    0,    0,\n",
            "           0,    0,    0,    0,    0,    0,    0,    0,    0,    0,    0,\n",
            "           0,    0,    0,    0,    0,    0,    0,    0,    0,    0,    0,\n",
            "           0,    0,    0,    0,    0,    0,    0,    0,    0,    0,    0,\n",
            "           0,    0,    0,    0,    0,    0,    0,    0,    0,    0,    0,\n",
            "           0,    0,    0,    0,    0,    0,    0,    0,    0,    0,    0,\n",
            "           0,    0,    0,    0,    0,    0,    0,    0,    0,    0,    0,\n",
            "           0,    0,    0,    0,    0,    0,    0,    0,    0,    0,    0,\n",
            "           0,    0,    0,    0,    0,    0,    0,    0,    0,    0,    0,\n",
            "           0,    0,    0,    0,    0,    0,    0,    0,    0,    0,    0,\n",
            "           0,    0,    0,    0,    0,    0,    0,    0,    0,    0,    0,\n",
            "           0,    0,    0,    0,    0,    0,    0,    0,    0,    0,    0,\n",
            "           0,    0,    0,    0,    0,    0,    0,    0,    0,    0,    0,\n",
            "           0,    0,    0,    0,    0,    0,    0,    0,    0,    0,    0,\n",
            "           0,    0,    0,    0,    0,    0,    0,    0,    0,    0,    0,\n",
            "           0,    0,    0,    0,    0,    0,    0,    0,    0,    0,    0,\n",
            "           0,    0,    0,    0,    0,    0,    0,    0,    0,    0,    0,\n",
            "           0,    0,    0,    0,    0]])>, <tf.Tensor: shape=(), dtype=int32, numpy=0>)\n"
          ],
          "name": "stdout"
        }
      ]
    },
    {
      "cell_type": "code",
      "metadata": {
        "colab": {
          "base_uri": "https://localhost:8080/"
        },
        "id": "NOogiFJ4cLGP",
        "outputId": "f12b75c1-0ac0-4308-92f5-566d1b019f3f"
      },
      "source": [
        "print(\"7517 ---> \",vectorize_layer.get_vocabulary()[500])\n",
        "print(\" 1953 ---> \",vectorize_layer.get_vocabulary()[1953])\n",
        "print('Vocabulary size: {}'.format(len(vectorize_layer.get_vocabulary())))\n",
        "\n",
        "print(\"7517 ---> \",vectorize_layerB.get_vocabulary()[500])\n",
        "print(\" 1953 ---> \",vectorize_layerB.get_vocabulary()[1953])\n",
        "print('Vocabulary size: {}'.format(len(vectorize_layerB.get_vocabulary())))"
      ],
      "execution_count": 15,
      "outputs": [
        {
          "output_type": "stream",
          "text": [
            "7517 --->  happen\n",
            " 1953 --->  votered\n",
            "Vocabulary size: 10000\n",
            "7517 --->  goals\n",
            " 1953 --->  alive\n",
            "Vocabulary size: 2014\n"
          ],
          "name": "stdout"
        }
      ]
    },
    {
      "cell_type": "code",
      "metadata": {
        "id": "ExdXVBlscSOa"
      },
      "source": [
        "def map_and_optimize(raw_train,raw_val,raw_test,vectorize_text):\n",
        "  train_ds = raw_train.map(vectorize_text)\n",
        "  val_ds = raw_val.map(vectorize_text)\n",
        "  test_ds = raw_test.map(vectorize_text)\n",
        "\n",
        "  #optimization\n",
        "  AUTOTUNE = tf.data.AUTOTUNE\n",
        "\n",
        "  train_ds = train_ds.cache().prefetch(buffer_size=AUTOTUNE)\n",
        "  val_ds = val_ds.cache().prefetch(buffer_size=AUTOTUNE)\n",
        "  test_ds = test_ds.cache().prefetch(buffer_size=AUTOTUNE)\n",
        "  return train_ds,val_ds,test_ds\n",
        "\n",
        "train_ds,val_ds,test_ds=map_and_optimize(raw_train_ds,raw_val_ds,raw_test_ds,vectorize_text)\n",
        "train_dsB,val_dsB,test_dsB=map_and_optimize(raw_train_dsB,raw_val_dsB,raw_test_dsB,vectorize_text)"
      ],
      "execution_count": 16,
      "outputs": []
    },
    {
      "cell_type": "code",
      "metadata": {
        "id": "s5d--2twnhBj"
      },
      "source": [
        "\n",
        "\n",
        "\n",
        "\n",
        "#Callback function to stop overfitting\n",
        "callback = tf.keras.callbacks.EarlyStopping(monitor='loss', patience=3)"
      ],
      "execution_count": 17,
      "outputs": []
    },
    {
      "cell_type": "code",
      "metadata": {
        "colab": {
          "base_uri": "https://localhost:8080/"
        },
        "id": "21lrm559np7s",
        "outputId": "edc24f5b-5012-47c1-f235-65857d1f9339"
      },
      "source": [
        "embedding_dim = 48\n",
        "model = tf.keras.Sequential([\n",
        "  layers.Embedding(max_features + 1, embedding_dim),\n",
        "  layers.Dropout(0.2),\n",
        "  layers.GlobalAveragePooling1D(),\n",
        "  layers.Dropout(0.2),\n",
        "  layers.Dense(1)\n",
        "  ])\n",
        "\n",
        "model.summary()"
      ],
      "execution_count": 26,
      "outputs": [
        {
          "output_type": "stream",
          "text": [
            "Model: \"sequential_4\"\n",
            "_________________________________________________________________\n",
            "Layer (type)                 Output Shape              Param #   \n",
            "=================================================================\n",
            "embedding_4 (Embedding)      (None, None, 48)          480048    \n",
            "_________________________________________________________________\n",
            "dropout_8 (Dropout)          (None, None, 48)          0         \n",
            "_________________________________________________________________\n",
            "global_average_pooling1d_4 ( (None, 48)                0         \n",
            "_________________________________________________________________\n",
            "dropout_9 (Dropout)          (None, 48)                0         \n",
            "_________________________________________________________________\n",
            "dense_4 (Dense)              (None, 1)                 49        \n",
            "=================================================================\n",
            "Total params: 480,097\n",
            "Trainable params: 480,097\n",
            "Non-trainable params: 0\n",
            "_________________________________________________________________\n"
          ],
          "name": "stdout"
        }
      ]
    },
    {
      "cell_type": "code",
      "metadata": {
        "id": "qqDsrmnVohJn"
      },
      "source": [
        "# for some reason, in the tutorial the threshold is 0.0, which, in my opinion, is too unfair\n",
        "model.compile(loss=losses.BinaryCrossentropy(from_logits=True,label_smoothing=0.15),\n",
        "              optimizer='adam',\n",
        "              metrics=tf.metrics.BinaryAccuracy(threshold=0.75))\n",
        "#(from_logits=False)"
      ],
      "execution_count": 27,
      "outputs": []
    },
    {
      "cell_type": "code",
      "metadata": {
        "colab": {
          "base_uri": "https://localhost:8080/"
        },
        "id": "x7OPqoAxo-aQ",
        "outputId": "7c639340-9bd6-4ea9-f9d4-e410b718d53f"
      },
      "source": [
        "\n",
        "\n",
        "\n",
        "epochs = 30\n",
        "history = model.fit(\n",
        "    train_ds,\n",
        "    validation_data=val_ds,\n",
        "    epochs=epochs)"
      ],
      "execution_count": 28,
      "outputs": [
        {
          "output_type": "stream",
          "text": [
            "Epoch 1/30\n",
            "331/331 [==============================] - 9s 25ms/step - loss: 0.6539 - binary_accuracy: 0.6650 - val_loss: 0.6445 - val_binary_accuracy: 0.6782\n",
            "Epoch 2/30\n",
            "331/331 [==============================] - 5s 16ms/step - loss: 0.6502 - binary_accuracy: 0.6650 - val_loss: 0.6432 - val_binary_accuracy: 0.6782\n",
            "Epoch 3/30\n",
            "331/331 [==============================] - 5s 15ms/step - loss: 0.6474 - binary_accuracy: 0.6650 - val_loss: 0.6415 - val_binary_accuracy: 0.6782\n",
            "Epoch 4/30\n",
            "331/331 [==============================] - 5s 15ms/step - loss: 0.6434 - binary_accuracy: 0.6650 - val_loss: 0.6393 - val_binary_accuracy: 0.6782\n",
            "Epoch 5/30\n",
            "331/331 [==============================] - 5s 16ms/step - loss: 0.6385 - binary_accuracy: 0.6650 - val_loss: 0.6367 - val_binary_accuracy: 0.6782\n",
            "Epoch 6/30\n",
            "331/331 [==============================] - 5s 15ms/step - loss: 0.6330 - binary_accuracy: 0.6650 - val_loss: 0.6334 - val_binary_accuracy: 0.6782\n",
            "Epoch 7/30\n",
            "331/331 [==============================] - 5s 15ms/step - loss: 0.6259 - binary_accuracy: 0.6650 - val_loss: 0.6295 - val_binary_accuracy: 0.6782\n",
            "Epoch 8/30\n",
            "331/331 [==============================] - 5s 16ms/step - loss: 0.6179 - binary_accuracy: 0.6652 - val_loss: 0.6253 - val_binary_accuracy: 0.6782\n",
            "Epoch 9/30\n",
            "331/331 [==============================] - 5s 15ms/step - loss: 0.6092 - binary_accuracy: 0.6662 - val_loss: 0.6207 - val_binary_accuracy: 0.6790\n",
            "Epoch 10/30\n",
            "331/331 [==============================] - 5s 15ms/step - loss: 0.5987 - binary_accuracy: 0.6681 - val_loss: 0.6157 - val_binary_accuracy: 0.6790\n",
            "Epoch 11/30\n",
            "331/331 [==============================] - 5s 16ms/step - loss: 0.5881 - binary_accuracy: 0.6727 - val_loss: 0.6105 - val_binary_accuracy: 0.6805\n",
            "Epoch 12/30\n",
            "331/331 [==============================] - 5s 15ms/step - loss: 0.5769 - binary_accuracy: 0.6783 - val_loss: 0.6055 - val_binary_accuracy: 0.6832\n",
            "Epoch 13/30\n",
            "331/331 [==============================] - 5s 15ms/step - loss: 0.5656 - binary_accuracy: 0.6852 - val_loss: 0.6008 - val_binary_accuracy: 0.6850\n",
            "Epoch 14/30\n",
            "331/331 [==============================] - 5s 15ms/step - loss: 0.5541 - binary_accuracy: 0.6920 - val_loss: 0.5966 - val_binary_accuracy: 0.6884\n",
            "Epoch 15/30\n",
            "331/331 [==============================] - 5s 15ms/step - loss: 0.5434 - binary_accuracy: 0.7003 - val_loss: 0.5929 - val_binary_accuracy: 0.6915\n",
            "Epoch 16/30\n",
            "331/331 [==============================] - 5s 15ms/step - loss: 0.5328 - binary_accuracy: 0.7102 - val_loss: 0.5897 - val_binary_accuracy: 0.6960\n",
            "Epoch 17/30\n",
            "331/331 [==============================] - 5s 15ms/step - loss: 0.5229 - binary_accuracy: 0.7218 - val_loss: 0.5871 - val_binary_accuracy: 0.7009\n",
            "Epoch 18/30\n",
            "331/331 [==============================] - 5s 15ms/step - loss: 0.5132 - binary_accuracy: 0.7302 - val_loss: 0.5851 - val_binary_accuracy: 0.7069\n",
            "Epoch 19/30\n",
            "331/331 [==============================] - 5s 15ms/step - loss: 0.5042 - binary_accuracy: 0.7393 - val_loss: 0.5834 - val_binary_accuracy: 0.7149\n",
            "Epoch 20/30\n",
            "331/331 [==============================] - 5s 15ms/step - loss: 0.4963 - binary_accuracy: 0.7515 - val_loss: 0.5824 - val_binary_accuracy: 0.7179\n",
            "Epoch 21/30\n",
            "331/331 [==============================] - 5s 15ms/step - loss: 0.4884 - binary_accuracy: 0.7577 - val_loss: 0.5818 - val_binary_accuracy: 0.7224\n",
            "Epoch 22/30\n",
            "331/331 [==============================] - 5s 15ms/step - loss: 0.4812 - binary_accuracy: 0.7710 - val_loss: 0.5818 - val_binary_accuracy: 0.7270\n",
            "Epoch 23/30\n",
            "331/331 [==============================] - 5s 14ms/step - loss: 0.4745 - binary_accuracy: 0.7779 - val_loss: 0.5820 - val_binary_accuracy: 0.7319\n",
            "Epoch 24/30\n",
            "331/331 [==============================] - 5s 15ms/step - loss: 0.4684 - binary_accuracy: 0.7851 - val_loss: 0.5826 - val_binary_accuracy: 0.7323\n",
            "Epoch 25/30\n",
            "331/331 [==============================] - 5s 16ms/step - loss: 0.4624 - binary_accuracy: 0.7928 - val_loss: 0.5839 - val_binary_accuracy: 0.7341\n",
            "Epoch 26/30\n",
            "331/331 [==============================] - 5s 16ms/step - loss: 0.4566 - binary_accuracy: 0.7998 - val_loss: 0.5851 - val_binary_accuracy: 0.7356\n",
            "Epoch 27/30\n",
            "331/331 [==============================] - 5s 15ms/step - loss: 0.4519 - binary_accuracy: 0.8083 - val_loss: 0.5866 - val_binary_accuracy: 0.7375\n",
            "Epoch 28/30\n",
            "331/331 [==============================] - 5s 15ms/step - loss: 0.4472 - binary_accuracy: 0.8128 - val_loss: 0.5885 - val_binary_accuracy: 0.7409\n",
            "Epoch 29/30\n",
            "331/331 [==============================] - 5s 16ms/step - loss: 0.4416 - binary_accuracy: 0.8184 - val_loss: 0.5906 - val_binary_accuracy: 0.7424\n",
            "Epoch 30/30\n",
            "331/331 [==============================] - 5s 15ms/step - loss: 0.4384 - binary_accuracy: 0.8252 - val_loss: 0.5925 - val_binary_accuracy: 0.7436\n"
          ],
          "name": "stdout"
        }
      ]
    },
    {
      "cell_type": "code",
      "metadata": {
        "colab": {
          "base_uri": "https://localhost:8080/"
        },
        "id": "HUe6Dsu43rkI",
        "outputId": "f2e38d28-c6dc-475b-e700-beb33dfebaa4"
      },
      "source": [
        "loss, accuracy = model.evaluate(test_ds)\n",
        "\n",
        "print(\"Loss: \", loss)\n",
        "print(\"Accuracy: \", accuracy)"
      ],
      "execution_count": 29,
      "outputs": [
        {
          "output_type": "stream",
          "text": [
            "27/27 [==============================] - 0s 7ms/step - loss: 0.5599 - binary_accuracy: 0.7826\n",
            "Loss:  0.5598729252815247\n",
            "Accuracy:  0.7825581431388855\n"
          ],
          "name": "stdout"
        }
      ]
    },
    {
      "cell_type": "code",
      "metadata": {
        "colab": {
          "base_uri": "https://localhost:8080/",
          "height": 295
        },
        "id": "pXTuG-cipJlk",
        "outputId": "bef157d8-f904-4fcd-90a7-9ca24e512c42"
      },
      "source": [
        "history_dict = history.history\n",
        "history_dict.keys()\n",
        "acc = history_dict['binary_accuracy']\n",
        "val_acc = history_dict['val_binary_accuracy']\n",
        "loss = history_dict['loss']\n",
        "val_loss = history_dict['val_loss']\n",
        "\n",
        "epochs = range(1, len(acc) + 1)\n",
        "\n",
        "# \"bo\" is for \"blue dot\"\n",
        "plt.plot(epochs, loss, 'bo', label='Training loss')\n",
        "# b is for \"solid blue line\"\n",
        "plt.plot(epochs, val_loss, 'b', label='Validation loss')\n",
        "plt.title('Training and validation loss')\n",
        "plt.xlabel('Epochs')\n",
        "plt.ylabel('Loss')\n",
        "plt.legend()\n",
        "\n",
        "plt.show()"
      ],
      "execution_count": 30,
      "outputs": [
        {
          "output_type": "display_data",
          "data": {
            "image/png": "[encoded data removed]",
            "text/plain": [
              "<Figure size 432x288 with 1 Axes>"
            ]
          },
          "metadata": {
            "tags": [],
            "needs_background": "light"
          }
        }
      ]
    },
    {
      "cell_type": "code",
      "metadata": {
        "colab": {
          "base_uri": "https://localhost:8080/",
          "height": 295
        },
        "id": "UbsCph_Nv4ud",
        "outputId": "04501c3d-0bf6-4fa3-f2b2-68d58a6aee2f"
      },
      "source": [
        "plt.plot(epochs, acc, 'bo', label='Training acc')\n",
        "plt.plot(epochs, val_acc, 'b', label='Validation acc')\n",
        "plt.title('Training and validation accuracy')\n",
        "plt.xlabel('Epochs')\n",
        "plt.ylabel('Accuracy')\n",
        "plt.legend(loc='lower right')\n",
        "\n",
        "plt.show()"
      ],
      "execution_count": 31,
      "outputs": [
        {
          "output_type": "display_data",
          "data": {
            "image/png": "[encoded data removed]",
            "text/plain": [
              "<Figure size 432x288 with 1 Axes>"
            ]
          },
          "metadata": {
            "tags": [],
            "needs_background": "light"
          }
        }
      ]
    },
    {
      "cell_type": "code",
      "metadata": {
        "colab": {
          "base_uri": "https://localhost:8080/"
        },
        "id": "l8uz5hauy8Es",
        "outputId": "61f5fe9c-86e0-4c31-96ec-f76d4934d4ca"
      },
      "source": [
        "export_model = tf.keras.Sequential([\n",
        "  vectorize_layer,\n",
        "  model,\n",
        "  layers.Activation('sigmoid')\n",
        "])\n",
        "\n",
        "export_model.compile(\n",
        "    loss=losses.BinaryCrossentropy(from_logits=False), optimizer=\"adam\", metrics=['accuracy']\n",
        ")\n",
        "\n",
        "examples = [\n",
        "  \"MAGA TRUMP MAGA TRUMP WON\",\n",
        "  \"JOE BIDEN JOE BIDEN VOTE BLUE NO MATTER WHO\",\n",
        "  \"NIGGER NIGGER NIGGER NIGGER NIGGER NIGGER NIGGER NIGGER NIGGER NIGGER\",\n",
        "  \"Nigger is an offensive and derogatory word that is used to insulf all people of color (not only afro-americans) \",\n",
        "  \"Love is good, I love everyone and wish you all the best things in life\",\n",
        "  \"Believe in Jesus and he will believe in you\",\n",
        "  \"Democracy is one of the most important aspect of every US cityzen's life\",\n",
        "  \"TRUMP\",\n",
        "  \"BIDEN\",\n",
        "  \"#MAGA\",\n",
        "  \"NIGGER JEW HOLOCAUST HITLER TRUMP PUTIN 9/11 ELECTION FRAUD  ALLAH\",\n",
        "  \"NIGGER JEW HOLOCAUST HITLER TRUMP PUTIN 9/11 ELECTION FRAUD JESUS ALLAH Jesus Jesus\",\n",
        "]\n",
        "loss, accuracy = export_model.evaluate(raw_test_ds)\n",
        "print(accuracy)\n",
        "export_model.predict(examples)"
      ],
      "execution_count": 32,
      "outputs": [
        {
          "output_type": "stream",
          "text": [
            "27/27 [==============================] - 1s 8ms/step - loss: 0.4771 - accuracy: 0.7837\n",
            "0.7837209105491638\n"
          ],
          "name": "stdout"
        },
        {
          "output_type": "execute_result",
          "data": {
            "text/plain": [
              "array([[0.24264237],\n",
              "       [0.39713567],\n",
              "       [0.84177446],\n",
              "       [0.2684738 ],\n",
              "       [0.04982293],\n",
              "       [0.44170934],\n",
              "       [0.07323289],\n",
              "       [0.27706003],\n",
              "       [0.28648967],\n",
              "       [0.27297127],\n",
              "       [0.5402326 ],\n",
              "       [0.7910484 ]], dtype=float32)"
            ]
          },
          "metadata": {
            "tags": []
          },
          "execution_count": 32
        }
      ]
    },
    {
      "cell_type": "code",
      "metadata": {
        "id": "-4wqJUO0yhZX"
      },
      "source": [
        "embedding_dim = 64\n",
        "model = tf.keras.Sequential([\n",
        "  layers.Embedding(max_features + 1, embedding_dim),\n",
        "  layers.Dropout(0.1),\n",
        "  layers.GlobalAveragePooling1D(),\n",
        "  layers.Dropout(0.1),\n",
        "  layers.Dense(1)\n",
        "  ])"
      ],
      "execution_count": 33,
      "outputs": []
    },
    {
      "cell_type": "code",
      "metadata": {
        "id": "K4etxLjrykr8"
      },
      "source": [
        "# for some reason, in the tutorial the threshold is 0.0, which, in my opinion, is too unfair\n",
        "model.compile(loss=losses.BinaryCrossentropy\n",
        "(from_logits=True,label_smoothing=0),\n",
        "              optimizer='adam',\n",
        "              metrics=tf.metrics.BinaryAccuracy(threshold=0.5))\n",
        "#(from_logits=False)"
      ],
      "execution_count": 34,
      "outputs": []
    },
    {
      "cell_type": "code",
      "metadata": {
        "id": "yotbLiix11eM",
        "colab": {
          "base_uri": "https://localhost:8080/"
        },
        "outputId": "471bbdfb-a688-4955-da71-a2fb0ae3d43e"
      },
      "source": [
        "\n",
        "\n",
        "model.summary()\n",
        "epochs = 30\n",
        "historyB = model.fit(\n",
        "    train_dsB,\n",
        "    validation_data=val_dsB,\n",
        "    epochs=epochs)"
      ],
      "execution_count": 35,
      "outputs": [
        {
          "output_type": "stream",
          "text": [
            "Model: \"sequential_6\"\n",
            "_________________________________________________________________\n",
            "Layer (type)                 Output Shape              Param #   \n",
            "=================================================================\n",
            "embedding_5 (Embedding)      (None, None, 64)          640064    \n",
            "_________________________________________________________________\n",
            "dropout_10 (Dropout)         (None, None, 64)          0         \n",
            "_________________________________________________________________\n",
            "global_average_pooling1d_5 ( (None, 64)                0         \n",
            "_________________________________________________________________\n",
            "dropout_11 (Dropout)         (None, 64)                0         \n",
            "_________________________________________________________________\n",
            "dense_5 (Dense)              (None, 1)                 65        \n",
            "=================================================================\n",
            "Total params: 640,129\n",
            "Trainable params: 640,129\n",
            "Non-trainable params: 0\n",
            "_________________________________________________________________\n",
            "Epoch 1/30\n",
            "110/110 [==============================] - 4s 29ms/step - loss: 0.5268 - binary_accuracy: 0.8787 - val_loss: 0.3784 - val_binary_accuracy: 0.8898\n",
            "Epoch 2/30\n",
            "110/110 [==============================] - 2s 19ms/step - loss: 0.3751 - binary_accuracy: 0.8787 - val_loss: 0.3488 - val_binary_accuracy: 0.8898\n",
            "Epoch 3/30\n",
            "110/110 [==============================] - 2s 18ms/step - loss: 0.3699 - binary_accuracy: 0.8787 - val_loss: 0.3480 - val_binary_accuracy: 0.8898\n",
            "Epoch 4/30\n",
            "110/110 [==============================] - 2s 19ms/step - loss: 0.3686 - binary_accuracy: 0.8787 - val_loss: 0.3474 - val_binary_accuracy: 0.8898\n",
            "Epoch 5/30\n",
            "110/110 [==============================] - 2s 20ms/step - loss: 0.3680 - binary_accuracy: 0.8787 - val_loss: 0.3469 - val_binary_accuracy: 0.8898\n",
            "Epoch 6/30\n",
            "110/110 [==============================] - 2s 20ms/step - loss: 0.3668 - binary_accuracy: 0.8787 - val_loss: 0.3462 - val_binary_accuracy: 0.8898\n",
            "Epoch 7/30\n",
            "110/110 [==============================] - 2s 19ms/step - loss: 0.3641 - binary_accuracy: 0.8787 - val_loss: 0.3456 - val_binary_accuracy: 0.8898\n",
            "Epoch 8/30\n",
            "110/110 [==============================] - 2s 20ms/step - loss: 0.3627 - binary_accuracy: 0.8787 - val_loss: 0.3449 - val_binary_accuracy: 0.8898\n",
            "Epoch 9/30\n",
            "110/110 [==============================] - 2s 19ms/step - loss: 0.3608 - binary_accuracy: 0.8787 - val_loss: 0.3442 - val_binary_accuracy: 0.8898\n",
            "Epoch 10/30\n",
            "110/110 [==============================] - 2s 20ms/step - loss: 0.3597 - binary_accuracy: 0.8787 - val_loss: 0.3437 - val_binary_accuracy: 0.8898\n",
            "Epoch 11/30\n",
            "110/110 [==============================] - 2s 20ms/step - loss: 0.3570 - binary_accuracy: 0.8787 - val_loss: 0.3429 - val_binary_accuracy: 0.8898\n",
            "Epoch 12/30\n",
            "110/110 [==============================] - 2s 20ms/step - loss: 0.3555 - binary_accuracy: 0.8787 - val_loss: 0.3423 - val_binary_accuracy: 0.8898\n",
            "Epoch 13/30\n",
            "110/110 [==============================] - 2s 20ms/step - loss: 0.3533 - binary_accuracy: 0.8787 - val_loss: 0.3416 - val_binary_accuracy: 0.8898\n",
            "Epoch 14/30\n",
            "110/110 [==============================] - 2s 20ms/step - loss: 0.3508 - binary_accuracy: 0.8787 - val_loss: 0.3411 - val_binary_accuracy: 0.8898\n",
            "Epoch 15/30\n",
            "110/110 [==============================] - 2s 19ms/step - loss: 0.3486 - binary_accuracy: 0.8787 - val_loss: 0.3405 - val_binary_accuracy: 0.8898\n",
            "Epoch 16/30\n",
            "110/110 [==============================] - 2s 21ms/step - loss: 0.3460 - binary_accuracy: 0.8787 - val_loss: 0.3398 - val_binary_accuracy: 0.8898\n",
            "Epoch 17/30\n",
            "110/110 [==============================] - 2s 20ms/step - loss: 0.3441 - binary_accuracy: 0.8787 - val_loss: 0.3394 - val_binary_accuracy: 0.8898\n",
            "Epoch 18/30\n",
            "110/110 [==============================] - 2s 20ms/step - loss: 0.3404 - binary_accuracy: 0.8787 - val_loss: 0.3389 - val_binary_accuracy: 0.8898\n",
            "Epoch 19/30\n",
            "110/110 [==============================] - 2s 20ms/step - loss: 0.3384 - binary_accuracy: 0.8787 - val_loss: 0.3385 - val_binary_accuracy: 0.8898\n",
            "Epoch 20/30\n",
            "110/110 [==============================] - 2s 19ms/step - loss: 0.3349 - binary_accuracy: 0.8787 - val_loss: 0.3382 - val_binary_accuracy: 0.8898\n",
            "Epoch 21/30\n",
            "110/110 [==============================] - 2s 20ms/step - loss: 0.3326 - binary_accuracy: 0.8787 - val_loss: 0.3377 - val_binary_accuracy: 0.8898\n",
            "Epoch 22/30\n",
            "110/110 [==============================] - 2s 20ms/step - loss: 0.3303 - binary_accuracy: 0.8787 - val_loss: 0.3378 - val_binary_accuracy: 0.8898\n",
            "Epoch 23/30\n",
            "110/110 [==============================] - 2s 20ms/step - loss: 0.3264 - binary_accuracy: 0.8787 - val_loss: 0.3374 - val_binary_accuracy: 0.8898\n",
            "Epoch 24/30\n",
            "110/110 [==============================] - 2s 20ms/step - loss: 0.3227 - binary_accuracy: 0.8787 - val_loss: 0.3374 - val_binary_accuracy: 0.8898\n",
            "Epoch 25/30\n",
            "110/110 [==============================] - 2s 21ms/step - loss: 0.3195 - binary_accuracy: 0.8787 - val_loss: 0.3372 - val_binary_accuracy: 0.8898\n",
            "Epoch 26/30\n",
            "110/110 [==============================] - 2s 21ms/step - loss: 0.3159 - binary_accuracy: 0.8787 - val_loss: 0.3371 - val_binary_accuracy: 0.8898\n",
            "Epoch 27/30\n",
            "110/110 [==============================] - 2s 20ms/step - loss: 0.3123 - binary_accuracy: 0.8787 - val_loss: 0.3372 - val_binary_accuracy: 0.8898\n",
            "Epoch 28/30\n",
            "110/110 [==============================] - 2s 20ms/step - loss: 0.3083 - binary_accuracy: 0.8787 - val_loss: 0.3373 - val_binary_accuracy: 0.8898\n",
            "Epoch 29/30\n",
            "110/110 [==============================] - 2s 20ms/step - loss: 0.3043 - binary_accuracy: 0.8787 - val_loss: 0.3373 - val_binary_accuracy: 0.8898\n",
            "Epoch 30/30\n",
            "110/110 [==============================] - 2s 20ms/step - loss: 0.3009 - binary_accuracy: 0.8787 - val_loss: 0.3375 - val_binary_accuracy: 0.8898\n"
          ],
          "name": "stdout"
        }
      ]
    },
    {
      "cell_type": "code",
      "metadata": {
        "id": "vlWaecKi118P",
        "colab": {
          "base_uri": "https://localhost:8080/"
        },
        "outputId": "69107356-119f-443f-cb66-9d3db5fd8fb8"
      },
      "source": [
        "lossB, accuracyB = model.evaluate(test_dsB)\n",
        "\n",
        "print(\"Loss: \", lossB)\n",
        "print(\"Accuracy: \", accuracyB)"
      ],
      "execution_count": 36,
      "outputs": [
        {
          "output_type": "stream",
          "text": [
            "8/8 [==============================] - 0s 3ms/step - loss: 0.3001 - binary_accuracy: 0.8875\n",
            "Loss:  0.3000640273094177\n",
            "Accuracy:  0.887499988079071\n"
          ],
          "name": "stdout"
        }
      ]
    },
    {
      "cell_type": "code",
      "metadata": {
        "colab": {
          "base_uri": "https://localhost:8080/",
          "height": 295
        },
        "id": "1xVB3Xj3bNrR",
        "outputId": "f18442cf-df48-472b-aca3-8899c1703461"
      },
      "source": [
        "history_dictB = historyB.history\n",
        "history_dictB.keys()\n",
        "accB = history_dictB['binary_accuracy']\n",
        "val_accB = history_dictB['val_binary_accuracy']\n",
        "lossB = history_dictB['loss']\n",
        "val_lossB = history_dictB['val_loss']\n",
        "\n",
        "epochs = range(1, len(accB) + 1)\n",
        "\n",
        "# \"ro\" is for \"red dot\"\n",
        "plt.plot(epochs, lossB, 'ro', label='Training loss')\n",
        "# r is for \"solid blue line\"\n",
        "plt.plot(epochs, val_lossB, 'r', label='Validation loss')\n",
        "plt.title('Training and validation loss')\n",
        "plt.xlabel('Epochs')\n",
        "plt.ylabel('Loss')\n",
        "plt.legend()\n",
        "\n",
        "plt.show()"
      ],
      "execution_count": 37,
      "outputs": [
        {
          "output_type": "display_data",
          "data": {
            "image/png": "[encoded data removed]",
            "text/plain": [
              "<Figure size 432x288 with 1 Axes>"
            ]
          },
          "metadata": {
            "tags": [],
            "needs_background": "light"
          }
        }
      ]
    },
    {
      "cell_type": "code",
      "metadata": {
        "colab": {
          "base_uri": "https://localhost:8080/",
          "height": 295
        },
        "id": "yHiRwSq_blXz",
        "outputId": "18ab9656-79af-4547-d223-b15e83c6ae66"
      },
      "source": [
        "plt.plot(epochs, accB, 'ro', label='Training acc')\n",
        "plt.plot(epochs, val_accB, 'r', label='Validation acc')\n",
        "plt.title('Training and validation accuracy')\n",
        "plt.xlabel('Epochs')\n",
        "plt.ylabel('Accuracy')\n",
        "plt.legend(loc='lower right')\n",
        "\n",
        "plt.show()"
      ],
      "execution_count": 38,
      "outputs": [
        {
          "output_type": "display_data",
          "data": {
            "image/png": "[encoded data removed]",
            "text/plain": [
              "<Figure size 432x288 with 1 Axes>"
            ]
          },
          "metadata": {
            "tags": [],
            "needs_background": "light"
          }
        }
      ]
    },
    {
      "cell_type": "code",
      "metadata": {
        "colab": {
          "base_uri": "https://localhost:8080/",
          "height": 295
        },
        "id": "c_TG761Mcq0Y",
        "outputId": "47e294f0-1f73-4dff-f3f7-7d1cc2115fb3"
      },
      "source": [
        "loss = history_dict['loss']\n",
        "plt.plot(epochs, loss, 'bo', label='Training loss A')\n",
        "plt.plot(epochs, val_loss, 'b', label='Validation loss A')\n",
        "plt.plot(epochs, lossB, 'ro', label='Training loss B')\n",
        "plt.plot(epochs, val_lossB, 'r', label='Validation loss B')\n",
        "plt.title('Training and validation loss')\n",
        "plt.xlabel('Epochs')\n",
        "plt.ylabel('Loss')\n",
        "plt.legend()\n",
        "\n",
        "plt.show()"
      ],
      "execution_count": 39,
      "outputs": [
        {
          "output_type": "display_data",
          "data": {
            "image/png": "[encoded data removed]",
            "text/plain": [
              "<Figure size 432x288 with 1 Axes>"
            ]
          },
          "metadata": {
            "tags": [],
            "needs_background": "light"
          }
        }
      ]
    },
    {
      "cell_type": "code",
      "metadata": {
        "colab": {
          "base_uri": "https://localhost:8080/",
          "height": 295
        },
        "id": "ToH9mr67gFQc",
        "outputId": "091eceb3-70a2-4ba6-d8b1-68d83e924826"
      },
      "source": [
        "plt.plot(epochs, acc, 'bo', label='Training acc A')\n",
        "plt.plot(epochs, val_acc, 'b', label='Validation acc A')\n",
        "plt.plot(epochs, accB, 'ro', label='Training acc B')\n",
        "plt.plot(epochs, val_accB, 'r', label='Validation acc B')\n",
        "plt.title('Training and validation accuracy')\n",
        "plt.xlabel('Epochs')\n",
        "plt.ylabel('Accuracy')\n",
        "plt.legend(loc='lower right')\n",
        "\n",
        "plt.show()"
      ],
      "execution_count": 40,
      "outputs": [
        {
          "output_type": "display_data",
          "data": {
            "image/png": "[encoded data removed]",
            "text/plain": [
              "<Figure size 432x288 with 1 Axes>"
            ]
          },
          "metadata": {
            "tags": [],
            "needs_background": "light"
          }
        }
      ]
    },
    {
      "cell_type": "code",
      "metadata": {
        "colab": {
          "base_uri": "https://localhost:8080/"
        },
        "id": "bdt7GgL_jAU3",
        "outputId": "5c227e58-d14b-45a5-8af4-af732fbbaf8c"
      },
      "source": [
        "export_modelB = tf.keras.Sequential([\n",
        "  vectorize_layer,\n",
        "  model,\n",
        "  layers.Activation('sigmoid')\n",
        "])\n",
        "\n",
        "export_modelB.compile(\n",
        "    loss=losses.BinaryCrossentropy(from_logits=False), optimizer=\"adam\", metrics=['accuracy']\n",
        ")\n",
        "\n",
        "examples = [\n",
        "  \"You are a dumb retard, you are an asshole and you shoudl kill yourself, you are an idiot, you are a bigot\",\n",
        "  \" dumb retard, an asshole and should kill oneself , an idiot, a bigot\",\n",
        "  \"you are an IDIOT!\",\n",
        "  \"IDIOT!\",\n",
        "  \"You are the worst President in the hisotry of the US, I can't wait till you will be out of office. You are a nazi\",\n",
        "  \"The worst   in the hisotry of the US, I can't wait till  will be out of office.  are a nazi\",\n",
        "  \"You are like Hitler, dumb retarded nigger, KYS\",\n",
        "  \"I am like Hitler, dumb retarded nigger, KYS\",\n",
        "  \"He is like Hitler, dumb retarded nigger, KYS\",\n",
        "  \"She is like Hitler, dumb retarded nigger, KYS\",\n",
        "  \"Donald Trump is like Hitler, dumb retarded nigger, KYS\",\n",
        "  \"Donald Trump is the worst Presiden in the history of the US\",\n",
        "  \"Joe Biden is the worst Presiden in the history of the US\",\n",
        "  \"Vladimir Putin is the worst Presiden in the history of Russia\",\n",
        "  \"Donald Trump is the best President in the history of the US\",\n",
        "  \" people,  white males are racists,  OF THEM, EVERY.SINGLE.ONE, they are bigots and dumb \"\n",
        "]\n",
        "loss, accuracy = export_model.evaluate(raw_test_dsB)\n",
        "print(accuracy)\n",
        "export_modelB.predict(examples)"
      ],
      "execution_count": 41,
      "outputs": [
        {
          "output_type": "stream",
          "text": [
            "8/8 [==============================] - 0s 3ms/step - loss: 0.8702 - accuracy: 0.6167\n",
            "0.6166666746139526\n"
          ],
          "name": "stdout"
        },
        {
          "output_type": "execute_result",
          "data": {
            "text/plain": [
              "array([[0.05966979],\n",
              "       [0.16915986],\n",
              "       [0.1906769 ],\n",
              "       [0.23382622],\n",
              "       [0.04301471],\n",
              "       [0.07321331],\n",
              "       [0.16718039],\n",
              "       [0.2297903 ],\n",
              "       [0.15506902],\n",
              "       [0.17446208],\n",
              "       [0.14436722],\n",
              "       [0.1076771 ],\n",
              "       [0.13768905],\n",
              "       [0.13649312],\n",
              "       [0.11575702],\n",
              "       [0.1382077 ]], dtype=float32)"
            ]
          },
          "metadata": {
            "tags": []
          },
          "execution_count": 41
        }
      ]
    },
    {
      "cell_type": "code",
      "metadata": {
        "id": "NuocNQscJb-V"
      },
      "source": [
        ""
      ],
      "execution_count": null,
      "outputs": []
    },
    {
      "cell_type": "code",
      "metadata": {
        "id": "hC9j_pX7sTaP"
      },
      "source": [
        ""
      ],
      "execution_count": null,
      "outputs": []
    },
    {
      "cell_type": "markdown",
      "metadata": {
        "id": "jBbMrKbgt1Yw"
      },
      "source": [
        ""
      ]
    },
    {
      "cell_type": "code",
      "metadata": {
        "id": "HqTCi91FifbJ"
      },
      "source": [
        ""
      ],
      "execution_count": null,
      "outputs": []
    },
    {
      "cell_type": "code",
      "metadata": {
        "id": "isF7ZU-5kvRu"
      },
      "source": [
        ""
      ],
      "execution_count": null,
      "outputs": []
    }
  ]
}